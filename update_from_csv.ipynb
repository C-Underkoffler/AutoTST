{
 "cells": [
  {
   "cell_type": "code",
   "execution_count": 1,
   "metadata": {},
   "outputs": [
    {
     "data": {
      "text/html": [
       "<style>.container { width:100% !important; }</style>"
      ],
      "text/plain": [
       "<IPython.core.display.HTML object>"
      ]
     },
     "metadata": {},
     "output_type": "display_data"
    }
   ],
   "source": [
    "import argparse\n",
    "import os\n",
    "import time\n",
    "import math\n",
    "import numpy as np\n",
    "import pylab\n",
    "import scipy.stats\n",
    "import matplotlib\n",
    "matplotlib.rc('mathtext', fontset='stixsans', default='regular')\n",
    "import re\n",
    "import rmgpy\n",
    "from rmgpy.quantity import constants\n",
    "from rmgpy.kinetics import Arrhenius, ArrheniusEP, KineticsData\n",
    "from rmgpy.data.base import getAllCombinations\n",
    "from autotst.database import *\n",
    "from rmgpy.species import Species\n",
    "from rmgpy.data.rmg import RMGDatabase\n",
    "import logging\n",
    "from collections import defaultdict, OrderedDict\n",
    "import pandas as pd\n",
    "import itertools\n",
    "import IPython\n",
    "from IPython.display import display, Markdown\n",
    "def mprint(s): display(Markdown(s))\n",
    "import cPickle as pickle\n",
    "# attempt at making the cells wider:\n",
    "from IPython.core.display import display, HTML\n",
    "display(HTML(\"<style>.container { width:100% !important; }</style>\"))"
   ]
  },
  {
   "cell_type": "code",
   "execution_count": 2,
   "metadata": {
    "collapsed": true
   },
   "outputs": [],
   "source": [
    "def get_csv(path):\n",
    "    add_df = pd.DataFrame.from_csv(path)\n",
    "\n",
    "    results = defaultdict(OrderedDict)\n",
    "    for i, entry in enumerate(add_df.index):\n",
    "        r = OrderedDict()\n",
    "\n",
    "        label = add_df.T[entry].name\n",
    "        reactants, products = label.split('_')\n",
    "        r1, r2 = reactants.split('+')\n",
    "        p1, p2 = products.split('+')\n",
    "\n",
    "        #label = label.replace('+', ' + ')\n",
    "        #label = label.replace('_', ' <=> ')\n",
    "\n",
    "        #r['label'] = label\n",
    "\n",
    "        r['species'] = [r1, r2, p1, p2]\n",
    "        #print r['species']\n",
    "        assert len(r['species']) == 4\n",
    "        r['d12'] = add_df.T[entry]['d12']\n",
    "        r['d13'] = add_df.T[entry]['d13']\n",
    "        r['d23'] = add_df.T[entry]['d23']\n",
    "        assert r['d12'] > 0\n",
    "        assert r['d13'] > 0\n",
    "        assert r['d23'] > 0\n",
    "        \n",
    "        results[i] = r\n",
    "\n",
    "    return pd.DataFrame(results)"
   ]
  },
  {
   "cell_type": "code",
   "execution_count": 3,
   "metadata": {
    "collapsed": true
   },
   "outputs": [],
   "source": [
    "def get_need_to_add(csv_df, known_species):\n",
    "    found_species = {}\n",
    "    need_to_add = []\n",
    "\n",
    "    for i, row in csv_df.T.iterrows():\n",
    "\n",
    "        r1, r2, p1, p2 = row['species']\n",
    "\n",
    "        mr1 = Molecule(SMILES = r1)\n",
    "        mr2 = Molecule(SMILES = r2)\n",
    "        mp1 = Molecule(SMILES = p1)\n",
    "        mp2 = Molecule(SMILES = p2)\n",
    "\n",
    "        reaction = Reaction(reactants = [mr1, mr2],\n",
    "                            products = [mp1, mp2],\n",
    "                            degeneracy = 1,\n",
    "                            duplicate = False,\n",
    "                            reversible = True)\n",
    "        \n",
    "        relavent_species = [mr1, mr2, mp1, mp2]\n",
    "        relavent_labels = {}\n",
    "\n",
    "        for rel_species in relavent_species:\n",
    "            for label in known_species:\n",
    "                known_spec = known_species[label]\n",
    "                if known_spec.isIsomorphic(rel_species):\n",
    "                    found_species[rel_species] = label\n",
    "                    relavent_labels[rel_species] = label\n",
    "\n",
    "            if rel_species not in found_species.keys():\n",
    "                need_to_add.append(rel_species.toSMILES())\n",
    "            \"\"\"try:\n",
    "                a = found_species[rel_species]\n",
    "            except:\n",
    "                need_to_add.append(rel_species.toSMILES())\n",
    "                #relavent_labels[rel_species] = '****'\n",
    "                #logging.warning('{} is missing from species dictionary'.format(rel_species))\n",
    "\n",
    "            \"\"\"\n",
    "    need_to_add = list(set(need_to_add))\n",
    "    \n",
    "    return need_to_add"
   ]
  },
  {
   "cell_type": "code",
   "execution_count": 4,
   "metadata": {
    "collapsed": true
   },
   "outputs": [],
   "source": [
    "def get_unknown_species(reactions, known_species):\n",
    "    \"\"\"\n",
    "    Expects list of auto-TST reactions and known species from a species dictionary\n",
    "    \n",
    "    Returns unique list of SMILES of species not in the dictionary\n",
    "    \"\"\"\n",
    "    found_species = {}\n",
    "    need_to_add = []\n",
    "\n",
    "    for i, reaction in enumerate(reactions):\n",
    "        rmg_reaction = reaction.rmg_reaction\n",
    "        r1, r2 = rmg_reaction.reactants\n",
    "        p1, p2 = rmg_reaction.products\n",
    "        \n",
    "        relavent_species = [r1, r2, p1, p2]\n",
    "        relavent_labels = {}\n",
    "\n",
    "        for rel_species in relavent_species:\n",
    "            for label in known_species:\n",
    "                known_spec = known_species[label]\n",
    "                if known_spec.isIsomorphic(rel_species):\n",
    "                    found_species[rel_species] = label\n",
    "                    relavent_labels[rel_species] = label\n",
    "\n",
    "            if rel_species not in found_species.keys():\n",
    "                need_to_add.append(rel_species.toSMILES())\n",
    "\n",
    "    need_to_add = list(set(need_to_add))\n",
    "    \n",
    "    return need_to_add"
   ]
  },
  {
   "cell_type": "code",
   "execution_count": 5,
   "metadata": {
    "collapsed": true
   },
   "outputs": [],
   "source": [
    "def update_databases_from_csv():\n",
    "    #csv_path = os.path.join(os.path.expandvars('$RMGpy'), \"..\",  'AutoTST')\n",
    "\n",
    "    csv_path = 'distance_data.csv'\n",
    "    dict_path = 'database/H_Abstraction/TS_training/dictionary.txt'\n",
    "    old_style_dict_path = 'database/H_Abstraction/TS_training/old_dictionary.txt'\n",
    "    new_dict_path = 'updated_dictionary.txt'\n",
    "    method_str = 'm062x/6-311+G(2df,2p)'\n",
    "    shortDesc_str = 'M06-2X/6-311+G(2df,2p) calculation via group additive TS generator.'\n",
    "    old_reactions_path = 'database/H_Abstraction/TS_training/reactions.py'\n",
    "    new_reactions_path = 'updated_reactions.py'\n",
    "\n",
    "    csv_df = get_csv(csv_path)\n",
    "    print 'New Reactions: ',csv_df.shape[1]\n",
    "\n",
    "    known_species = rmgpy.data.base.Database().getSpecies(dict_path)\n",
    "    need_to_add = get_need_to_add(csv_df=csv_df, known_species=known_species)\n",
    "    print 'New Species: ', len(need_to_add)\n",
    "\n",
    "    all_dict_entries = get_updated_dictionary_entries(old_style_dict_path, need_to_add)\n",
    "    if check_dictionary(all_dict_entries):\n",
    "        ugly_save_dictionary(new_dict_path, all_dict_entries)\n",
    "\n",
    "    known_species = rmgpy.data.base.Database().getSpecies(new_dict_path)\n",
    "    r_db, old_db, new_db = update_reactions(old_reactions_path,\n",
    "                                            csv_df,\n",
    "                                            known_species,\n",
    "                                            Method = method_str,\n",
    "                                            ShortDesc = shortDesc_str\n",
    "                                           )\n",
    "    #TODO add check for duplicates method\n",
    "    #if check_reactions():\n",
    "    if True:\n",
    "        r_db.save(new_reactions_path)\n",
    "    print\n",
    "    print 'done?'\n",
    "    return new_db"
   ]
  },
  {
   "cell_type": "code",
   "execution_count": null,
   "metadata": {
    "collapsed": true
   },
   "outputs": [],
   "source": []
  }
 ],
 "metadata": {
  "kernelspec": {
   "display_name": "Python 2",
   "language": "python",
   "name": "python2"
  },
  "language_info": {
   "codemirror_mode": {
    "name": "ipython",
    "version": 2
   },
   "file_extension": ".py",
   "mimetype": "text/x-python",
   "name": "python",
   "nbconvert_exporter": "python",
   "pygments_lexer": "ipython2",
   "version": "2.7.13"
  }
 },
 "nbformat": 4,
 "nbformat_minor": 2
}
