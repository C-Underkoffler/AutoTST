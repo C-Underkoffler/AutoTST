{
 "cells": [
  {
   "cell_type": "code",
   "execution_count": 1,
   "metadata": {},
   "outputs": [],
   "source": [
    "from molecule import *\n",
    "import conformer\n",
    "from conformer import *"
   ]
  },
  {
   "cell_type": "code",
   "execution_count": 2,
   "metadata": {},
   "outputs": [],
   "source": [
    "m = Molecule(SMILES=\"CCCC\")"
   ]
  },
  {
   "cell_type": "code",
   "execution_count": 3,
   "metadata": {},
   "outputs": [
    {
     "data": {
      "text/plain": [
       "<molecule.AutoTST_Molecule instance at 0x116a7fd88>"
      ]
     },
     "execution_count": 3,
     "metadata": {},
     "output_type": "execute_result"
    }
   ],
   "source": [
    "mm = AutoTST_Molecule(smiles=\"CCCC\", rmg_molecule=m)\n",
    "mm"
   ]
  },
  {
   "cell_type": "code",
   "execution_count": 4,
   "metadata": {},
   "outputs": [
    {
     "data": {
      "text/plain": [
       "[<geometry.Torsion instance at 0x116b047e8>]"
      ]
     },
     "execution_count": 4,
     "metadata": {},
     "output_type": "execute_result"
    }
   ],
   "source": [
    "mm.torsions"
   ]
  },
  {
   "cell_type": "code",
   "execution_count": 5,
   "metadata": {},
   "outputs": [
    {
     "name": "stderr",
     "output_type": "stream",
     "text": [
      "thermo.py:789 loadLibraries INFO Loading thermodynamics library from primaryThermoLibrary.py in /Users/nathan/Code/RMG-database/input/thermo/libraries...\n",
      "thermo.py:789 loadLibraries INFO Loading thermodynamics library from KlippensteinH2O2.py in /Users/nathan/Code/RMG-database/input/thermo/libraries...\n",
      "thermo.py:789 loadLibraries INFO Loading thermodynamics library from thermo_DFT_CCSDTF12_BAC.py in /Users/nathan/Code/RMG-database/input/thermo/libraries...\n",
      "thermo.py:789 loadLibraries INFO Loading thermodynamics library from CBS_QB3_1dHR.py in /Users/nathan/Code/RMG-database/input/thermo/libraries...\n",
      "thermo.py:806 loadGroups INFO Loading thermodynamics group database from /Users/nathan/Code/RMG-database/input/thermo/groups...\n",
      "transport.py:294 loadGroups INFO Loading transport group database from /Users/nathan/Code/RMG-database/input/transport/groups...\n",
      "database.py:165 loadFamilies INFO Loading the user-specified kinetics families from /Users/nathan/Code/RMG-database/input/kinetics/families\n",
      "statmech.py:526 loadGroups INFO Loading frequencies group database from /Users/nathan/Code/RMG-database/input/statmech/groups...\n"
     ]
    }
   ],
   "source": [
    "from reaction import *"
   ]
  },
  {
   "cell_type": "code",
   "execution_count": 6,
   "metadata": {},
   "outputs": [
    {
     "data": {
      "image/png": "[encoded data removed]",
      "text/plain": [
       "Reaction(reactants=[Molecule(SMILES=\"OO\"), Molecule(SMILES=\"[CH2]CCC\")], products=[Molecule(SMILES=\"[O]O\"), Molecule(SMILES=\"CCCC\")])"
      ]
     },
     "execution_count": 6,
     "metadata": {},
     "output_type": "execute_result"
    }
   ],
   "source": [
    "r = Reaction(reactants=[Molecule(SMILES=\"OO\"), Molecule(SMILES=\"[CH2]CCC\")], products=[Molecule(SMILES=\"[O]O\"), Molecule(SMILES=\"CCCC\")])\n",
    "r"
   ]
  },
  {
   "cell_type": "code",
   "execution_count": 7,
   "metadata": {},
   "outputs": [
    {
     "name": "stderr",
     "output_type": "stream",
     "text": [
      "reaction.py:300 generateBoundsMatrix INFO Generating bounds matrix for OO.[CH2]CCC\n"
     ]
    },
    {
     "name": "stdout",
     "output_type": "stream",
     "text": [
      "[Molecule(SMILES=\"OO\"), Molecule(SMILES=\"[CH2]CCC\")]\n",
      "[Reaction(reactants=[Molecule(SMILES=\"OO\"), Molecule(SMILES=\"[CH2]CCC\")], products=[Molecule(SMILES=\"CCCC\"), Molecule(SMILES=\"[O]O\")], pairs=[[Molecule(SMILES=\"OO\"), Molecule(SMILES=\"[O]O\")], [Molecule(SMILES=\"[CH2]CCC\"), Molecule(SMILES=\"CCCC\")]]), Reaction(reactants=[Molecule(SMILES=\"OO\"), Molecule(SMILES=\"[CH2]CCC\")], products=[Molecule(SMILES=\"CCCC\"), Molecule(SMILES=\"[O]O\")], pairs=[[Molecule(SMILES=\"OO\"), Molecule(SMILES=\"[O]O\")], [Molecule(SMILES=\"[CH2]CCC\"), Molecule(SMILES=\"CCCC\")]])]\n",
      "<Molecule \"OO\"> + <Molecule \"[CH2]CCC\"> <=> <Molecule \"CCCC\"> + <Molecule \"[O]O\">\n"
     ]
    },
    {
     "name": "stderr",
     "output_type": "stream",
     "text": [
      "reaction.py:338 bmPreEdit INFO Changing lower limit 3.15 to 2.812396\n",
      "reaction.py:338 bmPreEdit INFO Changing lower limit 2.519563 to 2.456764\n",
      "reaction.py:338 bmPreEdit INFO Changing lower limit 3.65 to 3.22113913735\n",
      "molecule.py:167 rd_embed INFO RDKit failed to embed on attempt 1 of 10000\n",
      "molecule.py:167 rd_embed INFO RDKit failed to embed on attempt 2 of 10000\n",
      "molecule.py:167 rd_embed INFO RDKit failed to embed on attempt 3 of 10000\n",
      "molecule.py:167 rd_embed INFO RDKit failed to embed on attempt 4 of 10000\n",
      "molecule.py:167 rd_embed INFO RDKit failed to embed on attempt 5 of 10000\n",
      "molecule.py:167 rd_embed INFO RDKit failed to embed on attempt 6 of 10000\n",
      "molecule.py:167 rd_embed INFO RDKit failed to embed on attempt 7 of 10000\n",
      "molecule.py:167 rd_embed INFO RDKit failed to embed on attempt 8 of 10000\n",
      "molecule.py:167 rd_embed INFO RDKit failed to embed on attempt 9 of 10000\n",
      "molecule.py:167 rd_embed INFO RDKit failed to embed on attempt 10 of 10000\n",
      "molecule.py:167 rd_embed INFO RDKit failed to embed on attempt 11 of 10000\n",
      "molecule.py:167 rd_embed INFO RDKit failed to embed on attempt 12 of 10000\n",
      "molecule.py:167 rd_embed INFO RDKit failed to embed on attempt 13 of 10000\n",
      "molecule.py:167 rd_embed INFO RDKit failed to embed on attempt 14 of 10000\n",
      "molecule.py:167 rd_embed INFO RDKit failed to embed on attempt 15 of 10000\n",
      "molecule.py:167 rd_embed INFO RDKit failed to embed on attempt 16 of 10000\n",
      "molecule.py:167 rd_embed INFO RDKit failed to embed on attempt 17 of 10000\n",
      "molecule.py:167 rd_embed INFO RDKit failed to embed on attempt 18 of 10000\n",
      "molecule.py:167 rd_embed INFO RDKit failed to embed on attempt 19 of 10000\n",
      "molecule.py:167 rd_embed INFO RDKit failed to embed on attempt 20 of 10000\n",
      "molecule.py:167 rd_embed INFO RDKit failed to embed on attempt 21 of 10000\n",
      "molecule.py:167 rd_embed INFO RDKit failed to embed on attempt 22 of 10000\n",
      "molecule.py:167 rd_embed INFO RDKit failed to embed on attempt 23 of 10000\n",
      "molecule.py:167 rd_embed INFO RDKit failed to embed on attempt 24 of 10000\n",
      "molecule.py:167 rd_embed INFO RDKit failed to embed on attempt 25 of 10000\n",
      "molecule.py:167 rd_embed INFO RDKit failed to embed on attempt 26 of 10000\n",
      "molecule.py:167 rd_embed INFO RDKit failed to embed on attempt 27 of 10000\n",
      "molecule.py:167 rd_embed INFO RDKit failed to embed on attempt 28 of 10000\n",
      "molecule.py:167 rd_embed INFO RDKit failed to embed on attempt 29 of 10000\n",
      "molecule.py:167 rd_embed INFO RDKit failed to embed on attempt 30 of 10000\n",
      "molecule.py:167 rd_embed INFO RDKit failed to embed on attempt 31 of 10000\n",
      "molecule.py:167 rd_embed INFO RDKit failed to embed on attempt 32 of 10000\n",
      "molecule.py:167 rd_embed INFO RDKit failed to embed on attempt 33 of 10000\n",
      "molecule.py:167 rd_embed INFO RDKit failed to embed on attempt 34 of 10000\n",
      "molecule.py:167 rd_embed INFO RDKit failed to embed on attempt 35 of 10000\n",
      "molecule.py:167 rd_embed INFO RDKit failed to embed on attempt 36 of 10000\n",
      "molecule.py:167 rd_embed INFO RDKit failed to embed on attempt 37 of 10000\n",
      "molecule.py:167 rd_embed INFO RDKit failed to embed on attempt 38 of 10000\n",
      "molecule.py:167 rd_embed INFO RDKit failed to embed on attempt 39 of 10000\n",
      "molecule.py:167 rd_embed INFO RDKit failed to embed on attempt 40 of 10000\n",
      "molecule.py:167 rd_embed INFO RDKit failed to embed on attempt 41 of 10000\n",
      "molecule.py:167 rd_embed INFO RDKit failed to embed on attempt 42 of 10000\n",
      "molecule.py:167 rd_embed INFO RDKit failed to embed on attempt 43 of 10000\n",
      "molecule.py:167 rd_embed INFO RDKit failed to embed on attempt 44 of 10000\n",
      "molecule.py:167 rd_embed INFO RDKit failed to embed on attempt 45 of 10000\n",
      "molecule.py:167 rd_embed INFO RDKit failed to embed on attempt 46 of 10000\n",
      "molecule.py:167 rd_embed INFO RDKit failed to embed on attempt 47 of 10000\n"
     ]
    }
   ],
   "source": [
    "rr = AutoTST_Reaction(label=\"OO+[CH2]CCC_[O]O+CCCC\", reaction_family=\"H_Abstraction\", rmg_reaction=r)"
   ]
  },
  {
   "cell_type": "code",
   "execution_count": null,
   "metadata": {},
   "outputs": [],
   "source": []
  },
  {
   "cell_type": "code",
   "execution_count": 9,
   "metadata": {},
   "outputs": [
    {
     "data": {
      "text/plain": [
       "[Reaction(reactants=[Molecule(SMILES=\"OO\"), Molecule(SMILES=\"[CH2]CCC\")], products=[Molecule(SMILES=\"CCCC\"), Molecule(SMILES=\"[O]O\")], pairs=[[Molecule(SMILES=\"OO\"), Molecule(SMILES=\"[O]O\")], [Molecule(SMILES=\"[CH2]CCC\"), Molecule(SMILES=\"CCCC\")]]),\n",
       " Reaction(reactants=[Molecule(SMILES=\"OO\"), Molecule(SMILES=\"[CH2]CCC\")], products=[Molecule(SMILES=\"CCCC\"), Molecule(SMILES=\"[O]O\")], pairs=[[Molecule(SMILES=\"OO\"), Molecule(SMILES=\"[O]O\")], [Molecule(SMILES=\"[CH2]CCC\"), Molecule(SMILES=\"CCCC\")]])]"
      ]
     },
     "execution_count": 9,
     "metadata": {},
     "output_type": "execute_result"
    }
   ],
   "source": [
    "rmg_database.kinetics.generateReactionsFromFamilies(r.reactants, r.products)"
   ]
  },
  {
   "cell_type": "code",
   "execution_count": null,
   "metadata": {},
   "outputs": [],
   "source": [
    "ts_database"
   ]
  },
  {
   "cell_type": "code",
   "execution_count": null,
   "metadata": {},
   "outputs": [],
   "source": [
    "reaction_family"
   ]
  },
  {
   "cell_type": "code",
   "execution_count": 11,
   "metadata": {},
   "outputs": [
    {
     "name": "stderr",
     "output_type": "stream",
     "text": [
      "rmg.py:72 __init__ WARNING Should only make one instance of RMGDatabase because it's stored as a module-level variable!\n",
      "rmg.py:73 __init__ WARNING Unexpected behaviour may result!\n"
     ]
    }
   ],
   "source": [
    "db = RMGDatabase()"
   ]
  },
  {
   "cell_type": "code",
   "execution_count": 14,
   "metadata": {},
   "outputs": [],
   "source": [
    "db.loadKinetics??"
   ]
  },
  {
   "cell_type": "code",
   "execution_count": null,
   "metadata": {},
   "outputs": [],
   "source": []
  }
 ],
 "metadata": {
  "kernelspec": {
   "display_name": "Python 2",
   "language": "python",
   "name": "python2"
  },
  "language_info": {
   "codemirror_mode": {
    "name": "ipython",
    "version": 2
   },
   "file_extension": ".py",
   "mimetype": "text/x-python",
   "name": "python",
   "nbconvert_exporter": "python",
   "pygments_lexer": "ipython2",
   "version": "2.7.13"
  }
 },
 "nbformat": 4,
 "nbformat_minor": 2
}
