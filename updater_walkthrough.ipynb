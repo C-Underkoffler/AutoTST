{
 "cells": [
  {
   "cell_type": "markdown",
   "metadata": {},
   "source": [
    "# Intro\n",
    "Say you have generated new autoTST reaction objects and you want to add them to the database of known reactions as well as update the species dictionary for any unknown species in these new reactions:"
   ]
  },
  {
   "cell_type": "code",
   "execution_count": 1,
   "metadata": {
    "collapsed": true
   },
   "outputs": [],
   "source": [
    "import os\n",
    "import numpy as np\n",
    "import pylab\n",
    "import scipy.stats\n",
    "import matplotlib\n",
    "matplotlib.rc('mathtext', fontset='stixsans', default='regular')\n",
    "import re\n",
    "import rmgpy\n",
    "#from rmgpy.quantity import constants\n",
    "#from rmgpy.kinetics import Arrhenius, ArrheniusEP, KineticsData\n",
    "from autotst.database import *\n",
    "from rmgpy.species import Species\n",
    "from rmgpy.data.rmg import RMGDatabase\n",
    "import logging\n",
    "from collections import defaultdict, OrderedDict\n",
    "import pandas as pd\n",
    "import itertools\n",
    "\n",
    "from updater_methods import *\n"
   ]
  },
  {
   "cell_type": "code",
   "execution_count": null,
   "metadata": {
    "scrolled": true
   },
   "outputs": [
    {
     "data": {
      "text/plain": [
       "\"\\nfrom autotst.reaction import AutoTST_Reaction\\ntest_labels = ['C+[CH2]COC(=O)C(C)C_CCOC(=O)C(C)C+[CH3]',\\n 'O+[CH2]C(C)CC(C)C(C)=O_CC(=O)C(C)CC(C)C+[OH]',\\n 'O+[CH2]C(C)OC(CC)CC_CCC(CC)OC(C)C+[OH]',\\n 'O+[CH2]COC(=O)C(C)C_CCOC(=O)C(C)C+[OH]',\\n 'O+[CH]=CC(C)=CCCC(=C)C_C=CC(C)=CCCC(=C)C+[OH]',\\n 'OO+[CH2]C(=C)C(=O)CC_C=C(C)C(=O)CC+[O]O',\\n 'OO+[CH2]C(=C)CC(C)=O_C=C(C)CC(C)=O+[O]O',\\n 'OO+[CH2]C(=C)CCC=C(C)C=C_C=CC(C)=CCCC(=C)C+[O]O',\\n 'OO+[CH2]C(=O)C(=C)C_C=C(C)C(C)=O+[O]O',\\n 'OO+[CH2]C(=O)C(C)(C)C_CC(=O)C(C)(C)C+[O]O']\\n\\ntest_reactions = [AutoTST_Reaction(label, reaction_family='H_Abstraction') for label in test_labels]\""
      ]
     },
     "execution_count": 2,
     "metadata": {},
     "output_type": "execute_result"
    }
   ],
   "source": [
    "\"\"\"\n",
    "Getting some test reactions to use as examples.\n",
    "\"\"\"\n",
    "\"\"\"\n",
    "from autotst.reaction import AutoTST_Reaction\n",
    "test_labels = ['C+[CH2]COC(=O)C(C)C_CCOC(=O)C(C)C+[CH3]',\n",
    " 'O+[CH2]C(C)CC(C)C(C)=O_CC(=O)C(C)CC(C)C+[OH]',\n",
    " 'O+[CH2]C(C)OC(CC)CC_CCC(CC)OC(C)C+[OH]',\n",
    " 'O+[CH2]COC(=O)C(C)C_CCOC(=O)C(C)C+[OH]',\n",
    " 'O+[CH]=CC(C)=CCCC(=C)C_C=CC(C)=CCCC(=C)C+[OH]',\n",
    " 'OO+[CH2]C(=C)C(=O)CC_C=C(C)C(=O)CC+[O]O',\n",
    " 'OO+[CH2]C(=C)CC(C)=O_C=C(C)CC(C)=O+[O]O',\n",
    " 'OO+[CH2]C(=C)CCC=C(C)C=C_C=CC(C)=CCCC(=C)C+[O]O',\n",
    " 'OO+[CH2]C(=O)C(=C)C_C=C(C)C(C)=O+[O]O',\n",
    " 'OO+[CH2]C(=O)C(C)(C)C_CC(=O)C(C)(C)C+[O]O']\n",
    "\n",
    "test_reactions = [AutoTST_Reaction(label, reaction_family='H_Abstraction') for label in test_labels]\"\"\""
   ]
  },
  {
   "cell_type": "code",
   "execution_count": null,
   "metadata": {},
   "outputs": [
    {
     "name": "stderr",
     "output_type": "stream",
     "text": [
      "reaction.py:57 <module> INFO Error importing py3Dmol\n",
      "thermo.py:839 loadLibraries INFO Loading thermodynamics library from primaryThermoLibrary.py in /home/C-Underkoffler/Code/RMG-Py/../RMG-database/input/thermo/libraries...\n",
      "thermo.py:839 loadLibraries INFO Loading thermodynamics library from thermo_DFT_CCSDTF12_BAC.py in /home/C-Underkoffler/Code/RMG-Py/../RMG-database/input/thermo/libraries...\n",
      "thermo.py:839 loadLibraries INFO Loading thermodynamics library from CBS_QB3_1dHR.py in /home/C-Underkoffler/Code/RMG-Py/../RMG-database/input/thermo/libraries...\n",
      "thermo.py:856 loadGroups INFO Loading thermodynamics group database from /home/C-Underkoffler/Code/RMG-Py/../RMG-database/input/thermo/groups...\n"
     ]
    },
    {
     "name": "stdout",
     "output_type": "stream",
     "text": [
      "Error importing py3Dmol\n"
     ]
    },
    {
     "name": "stderr",
     "output_type": "stream",
     "text": [
      "transport.py:294 loadGroups INFO Loading transport group database from /home/C-Underkoffler/Code/RMG-Py/../RMG-database/input/transport/groups...\n",
      "database.py:167 loadFamilies INFO Loading the user-specified kinetics families from /home/C-Underkoffler/Code/RMG-Py/../RMG-database/input/kinetics/families\n",
      "statmech.py:526 loadGroups INFO Loading frequencies group database from /home/C-Underkoffler/Code/RMG-Py/../RMG-database/input/statmech/groups...\n",
      "database.py:126 load INFO Loading transitions state family groups from /home/C-Underkoffler/Code/RMG-Py/../AutoTST/database/H_Abstraction/TS_groups.py\n",
      "reaction.py:138 __init__ INFO Label provided: C+[CH2]COC(=O)C(C)C_CCOC(=O)C(C)C+[CH3]\n",
      "reaction.py:139 __init__ INFO Family provided: H_Abstraction\n",
      "reaction.py:248 get_rmg_reactions INFO The distance data is as follows: \n",
      "DistanceData(distances={'d12': 1.375083,'d13': 2.690413,'d23': 1.311614,}, uncertainties={'d12': 0.247130,'d13': 0.179639,'d23': 0.249775,}, comment=u'Matched node C_methane ([<Entry index=43 label=\"C_methane\">, <Entry index=103 label=\"CsjCH2\">])\\nMatched node Csj/Cs/H2 ([<Entry index=119 label=\"C/H3/Cd\">, <Entry index=208 label=\"Csj/Cs/H2\">])\\n')\n",
      "reaction.py:347 get_labels INFO The labled atoms are [4, 11, 2].\n"
     ]
    }
   ],
   "source": [
    "from autotst.reaction import AutoTST_Reaction\n",
    "label = 'C+[CH2]COC(=O)C(C)C_CCOC(=O)C(C)C+[CH3]'\n",
    "test_reactions = [AutoTST_Reaction(label, reaction_family='H_Abstraction')]"
   ]
  },
  {
   "cell_type": "code",
   "execution_count": null,
   "metadata": {},
   "outputs": [],
   "source": [
    "method = 'm062x/6-311+G(2df,2p)'\n",
    "shortDesc = 'M06-2X/6-311+G(2df,2p) calculation via group additive TS generator.'\n",
    "\n",
    "#If no reaction family given, it will try to use H_Abstraction anyways\n",
    "#reaction_family = 'H_Abstraction'\n",
    "\n",
    "um.update_databases(test_reactions)"
   ]
  },
  {
   "cell_type": "code",
   "execution_count": null,
   "metadata": {},
   "outputs": [],
   "source": [
    "test_reactions"
   ]
  },
  {
   "cell_type": "code",
   "execution_count": null,
   "metadata": {},
   "outputs": [],
   "source": [
    "import logging\n",
    "update_databases(test_reactions)"
   ]
  },
  {
   "cell_type": "code",
   "execution_count": null,
   "metadata": {
    "collapsed": true
   },
   "outputs": [],
   "source": []
  },
  {
   "cell_type": "code",
   "execution_count": null,
   "metadata": {
    "collapsed": true
   },
   "outputs": [],
   "source": []
  }
 ],
 "metadata": {
  "kernelspec": {
   "display_name": "Python 2",
   "language": "python",
   "name": "python2"
  },
  "language_info": {
   "codemirror_mode": {
    "name": "ipython",
    "version": 2
   },
   "file_extension": ".py",
   "mimetype": "text/x-python",
   "name": "python",
   "nbconvert_exporter": "python",
   "pygments_lexer": "ipython2",
   "version": "2.7.13"
  }
 },
 "nbformat": 4,
 "nbformat_minor": 2
}
