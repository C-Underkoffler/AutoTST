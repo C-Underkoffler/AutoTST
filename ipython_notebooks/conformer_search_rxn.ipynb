{
 "cells": [
  {
   "cell_type": "code",
   "execution_count": 1,
   "metadata": {},
   "outputs": [
    {
     "name": "stderr",
     "output_type": "stream",
     "text": [
      "thermo.py:836 loadLibraries INFO Loading thermodynamics library from primaryThermoLibrary.py in /Users/nathan/Code/RMG-database/input/thermo/libraries...\n",
      "thermo.py:836 loadLibraries INFO Loading thermodynamics library from thermo_DFT_CCSDTF12_BAC.py in /Users/nathan/Code/RMG-database/input/thermo/libraries...\n",
      "thermo.py:836 loadLibraries INFO Loading thermodynamics library from CBS_QB3_1dHR.py in /Users/nathan/Code/RMG-database/input/thermo/libraries...\n",
      "thermo.py:853 loadGroups INFO Loading thermodynamics group database from /Users/nathan/Code/RMG-database/input/thermo/groups...\n",
      "transport.py:294 loadGroups INFO Loading transport group database from /Users/nathan/Code/RMG-database/input/transport/groups...\n",
      "database.py:167 loadFamilies INFO Loading the user-specified kinetics families from /Users/nathan/Code/RMG-database/input/kinetics/families\n",
      "statmech.py:526 loadGroups INFO Loading frequencies group database from /Users/nathan/Code/RMG-database/input/statmech/groups...\n",
      "database.py:127 load INFO Loading transitions state family groups from /Users/nathan/Code/AutoTST/database/H_Abstraction/TS_groups.py\n"
     ]
    }
   ],
   "source": [
    "from autotst.reaction import *\n",
    "from autotst.molecule import *\n",
    "from autotst.conformer.utilities import *\n",
    "from autotst.conformer.simple_es import *\n",
    "from autotst.conformer.ga import *\n",
    "from autotst.conformer.brute_force import *\n",
    "import time\n"
   ]
  },
  {
   "cell_type": "code",
   "execution_count": 2,
   "metadata": {},
   "outputs": [
    {
     "data": {
      "image/png": "[encoded data removed]",
      "text/plain": [
       "Reaction(reactants=[Molecule(SMILES=\"CCCC\"), Molecule(SMILES=\"[O]O\")], products=[Molecule(SMILES=\"[CH2]CCC\"), Molecule(SMILES=\"OO\")])"
      ]
     },
     "execution_count": 2,
     "metadata": {},
     "output_type": "execute_result"
    }
   ],
   "source": [
    "reactants = [Molecule(SMILES=\"CCCC\"), Molecule(SMILES=\"[O]O\")]\n",
    "products = [Molecule(SMILES=\"[CH2]CCC\"), Molecule(SMILES=\"OO\")]\n",
    "rmg_reaction = Reaction(reactants=reactants, products=products)\n",
    "rmg_reaction"
   ]
  },
  {
   "cell_type": "code",
   "execution_count": 3,
   "metadata": {},
   "outputs": [
    {
     "name": "stderr",
     "output_type": "stream",
     "text": [
      "reaction.py:423 bm_pre_edit INFO Changing lower limit 2.9 to 2.393074\n",
      "reaction.py:423 bm_pre_edit INFO Changing lower limit 3.65 to 3.26214059416\n",
      "reaction.py:423 bm_pre_edit INFO Changing lower limit 2.520343 to 2.457475\n"
     ]
    },
    {
     "data": {
      "text/plain": [
       "<autotst.reaction.AutoTST_Reaction instance at 0x11d29ba70>"
      ]
     },
     "execution_count": 3,
     "metadata": {},
     "output_type": "execute_result"
    }
   ],
   "source": [
    "rxn = AutoTST_Reaction(reaction_family=\"H_Abstraction\", rmg_reaction=rmg_reaction)\n",
    "rxn"
   ]
  },
  {
   "cell_type": "code",
   "execution_count": null,
   "metadata": {},
   "outputs": [],
   "source": [
    "rxn.ts.ase_ts.set_calculator(EMT())"
   ]
  },
  {
   "cell_type": "code",
   "execution_count": null,
   "metadata": {},
   "outputs": [],
   "source": [
    "t_0_pop = time.time()\n",
    "pop = create_initial_population(rxn, population_size=100)\n",
    "t_final_pop = time.time()\n",
    "pop"
   ]
  },
  {
   "cell_type": "code",
   "execution_count": null,
   "metadata": {},
   "outputs": [],
   "source": [
    "t_0_es = time.time()\n",
    "simple_es_results = perform_simple_es(rxn, pop)\n",
    "t_final_es = time.time()\n",
    "simple_es_results"
   ]
  },
  {
   "cell_type": "code",
   "execution_count": null,
   "metadata": {},
   "outputs": [],
   "source": [
    "t_0_ga = time.time()\n",
    "perform_ga(rxn, pop)\n",
    "t_final_ga = time.time()"
   ]
  },
  {
   "cell_type": "code",
   "execution_count": null,
   "metadata": {},
   "outputs": [],
   "source": [
    "t_0_bf = time.time()\n",
    "perform_brute_force(rxn)\n",
    "t_final_bf = time.time()"
   ]
  },
  {
   "cell_type": "code",
   "execution_count": null,
   "metadata": {},
   "outputs": [],
   "source": [
    "for h, tor in enumerate(rxn.ts.torsions):\n",
    "    dihedral = simple_es_results.iloc[0][h+1]\n",
    "    i,j,k,l = tor.indices\n",
    "    RHS = tor.right_mask\n",
    "    rxn.ts.ase_ts.set_dihedral(\n",
    "        a1 = i,\n",
    "        a2 = j,\n",
    "        a3 = k,\n",
    "        a4 = l,\n",
    "        angle= float(dihedral),\n",
    "        mask=RHS)"
   ]
  },
  {
   "cell_type": "code",
   "execution_count": null,
   "metadata": {
    "scrolled": true
   },
   "outputs": [],
   "source": [
    "from ase.visualize import view\n",
    "view(rxn.ts.ase_ts, viewer='x3d')"
   ]
  },
  {
   "cell_type": "code",
   "execution_count": null,
   "metadata": {},
   "outputs": [],
   "source": [
    "t_final_bf - t_0_bf"
   ]
  },
  {
   "cell_type": "code",
   "execution_count": null,
   "metadata": {},
   "outputs": [],
   "source": [
    "t_final_es - t_0_es"
   ]
  },
  {
   "cell_type": "code",
   "execution_count": null,
   "metadata": {},
   "outputs": [],
   "source": [
    "t_final_ga - t_0_ga"
   ]
  },
  {
   "cell_type": "code",
   "execution_count": null,
   "metadata": {},
   "outputs": [],
   "source": [
    "t_final_pop - t_0_pop"
   ]
  },
  {
   "cell_type": "code",
   "execution_count": null,
   "metadata": {},
   "outputs": [],
   "source": []
  }
 ],
 "metadata": {
  "kernelspec": {
   "display_name": "Python 2",
   "language": "python",
   "name": "python2"
  },
  "language_info": {
   "codemirror_mode": {
    "name": "ipython",
    "version": 2
   },
   "file_extension": ".py",
   "mimetype": "text/x-python",
   "name": "python",
   "nbconvert_exporter": "python",
   "pygments_lexer": "ipython2",
   "version": "2.7.13"
  }
 },
 "nbformat": 4,
 "nbformat_minor": 2
}
