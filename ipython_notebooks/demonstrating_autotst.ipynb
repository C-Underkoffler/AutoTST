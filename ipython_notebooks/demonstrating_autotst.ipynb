{
 "cells": [
  {
   "cell_type": "code",
   "execution_count": 1,
   "metadata": {},
   "outputs": [
    {
     "name": "stderr",
     "output_type": "stream",
     "text": [
      "thermo.py:836 loadLibraries INFO Loading thermodynamics library from primaryThermoLibrary.py in /Users/nathan/Code/RMG-database/input/thermo/libraries...\n",
      "thermo.py:836 loadLibraries INFO Loading thermodynamics library from thermo_DFT_CCSDTF12_BAC.py in /Users/nathan/Code/RMG-database/input/thermo/libraries...\n",
      "thermo.py:836 loadLibraries INFO Loading thermodynamics library from CBS_QB3_1dHR.py in /Users/nathan/Code/RMG-database/input/thermo/libraries...\n",
      "thermo.py:853 loadGroups INFO Loading thermodynamics group database from /Users/nathan/Code/RMG-database/input/thermo/groups...\n",
      "transport.py:294 loadGroups INFO Loading transport group database from /Users/nathan/Code/RMG-database/input/transport/groups...\n",
      "database.py:167 loadFamilies INFO Loading the user-specified kinetics families from /Users/nathan/Code/RMG-database/input/kinetics/families\n",
      "statmech.py:526 loadGroups INFO Loading frequencies group database from /Users/nathan/Code/RMG-database/input/statmech/groups...\n",
      "database.py:127 load INFO Loading transitions state family groups from /Users/nathan/Code/AutoTST/database/H_Abstraction/TS_groups.py\n"
     ]
    }
   ],
   "source": [
    "from autotst.molecule import *\n",
    "from autotst.reaction import *\n",
    "from autotst.database import *\n",
    "from autotst.geometry import *\n",
    "\n",
    "# To view ase atoms\n",
    "from ase.visualize import view\n",
    "import py3Dmol\n"
   ]
  },
  {
   "cell_type": "markdown",
   "metadata": {},
   "source": [
    "# Just a quick way to observe molecules"
   ]
  },
  {
   "cell_type": "code",
   "execution_count": 2,
   "metadata": {},
   "outputs": [
    {
     "data": {
      "text/plain": [
       "<autotst.molecule.AutoTST_Molecule instance at 0x11b5d4998>"
      ]
     },
     "execution_count": 2,
     "metadata": {},
     "output_type": "execute_result"
    }
   ],
   "source": [
    "mol = AutoTST_Molecule(\"CCCC\")\n",
    "mol"
   ]
  },
  {
   "cell_type": "code",
   "execution_count": 3,
   "metadata": {},
   "outputs": [
    {
     "data": {
      "text/plain": [
       "array([-0.4262,  0.4325, -0.6026])"
      ]
     },
     "execution_count": 3,
     "metadata": {},
     "output_type": "execute_result"
    }
   ],
   "source": [
    "mol.rmg_molecule.atoms[0].coords"
   ]
  },
  {
   "cell_type": "code",
   "execution_count": 4,
   "metadata": {},
   "outputs": [
    {
     "data": {
      "text/html": [
       "<html>\n",
       "\n",
       " <head>\n",
       "\n",
       "  <title>ASE atomic visualization</title>\n",
       "\n",
       "  <link rel=\"stylesheet\" type=\"text/css\"\n",
       "\n",
       "   href=\"https://www.x3dom.org/x3dom/release/x3dom.css\">\n",
       "\n",
       "  </link>\n",
       "\n",
       "  <script type=\"text/javascript\"\n",
       "\n",
       "   src=\"https://www.x3dom.org/x3dom/release/x3dom.js\">\n",
       "\n",
       "  </script>\n",
       "\n",
       " </head>\n",
       "\n",
       " <body>\n",
       "\n",
       "  <X3D style=\"margin:0; padding:0; width:100%; height:100%; border:none;\">\n",
       "\n",
       "   <Scene>\n",
       "\n",
       "    <Transform translation=\"-0.43 0.43 -0.60\">\n",
       "\n",
       "     <Shape>\n",
       "\n",
       "      <Appearance>\n",
       "\n",
       "       <Material diffuseColor=\"0.565 0.565 0.565\" specularColor=\"0.5 0.5 0.5\">\n",
       "\n",
       "       </Material>\n",
       "\n",
       "      </Appearance>\n",
       "\n",
       "      <Sphere radius=\"0.76\">\n",
       "\n",
       "      </Sphere>\n",
       "\n",
       "     </Shape>\n",
       "\n",
       "    </Transform>\n",
       "\n",
       "    <Transform translation=\"0.62 0.44 0.48\">\n",
       "\n",
       "     <Shape>\n",
       "\n",
       "      <Appearance>\n",
       "\n",
       "       <Material diffuseColor=\"0.565 0.565 0.565\" specularColor=\"0.5 0.5 0.5\">\n",
       "\n",
       "       </Material>\n",
       "\n",
       "      </Appearance>\n",
       "\n",
       "      <Sphere radius=\"0.76\">\n",
       "\n",
       "      </Sphere>\n",
       "\n",
       "     </Shape>\n",
       "\n",
       "    </Transform>\n",
       "\n",
       "    <Transform translation=\"-1.77 -0.05 -0.07\">\n",
       "\n",
       "     <Shape>\n",
       "\n",
       "      <Appearance>\n",
       "\n",
       "       <Material diffuseColor=\"0.565 0.565 0.565\" specularColor=\"0.5 0.5 0.5\">\n",
       "\n",
       "       </Material>\n",
       "\n",
       "      </Appearance>\n",
       "\n",
       "      <Sphere radius=\"0.76\">\n",
       "\n",
       "      </Sphere>\n",
       "\n",
       "     </Shape>\n",
       "\n",
       "    </Transform>\n",
       "\n",
       "    <Transform translation=\"1.65 -0.63 0.18\">\n",
       "\n",
       "     <Shape>\n",
       "\n",
       "      <Appearance>\n",
       "\n",
       "       <Material diffuseColor=\"0.565 0.565 0.565\" specularColor=\"0.5 0.5 0.5\">\n",
       "\n",
       "       </Material>\n",
       "\n",
       "      </Appearance>\n",
       "\n",
       "      <Sphere radius=\"0.76\">\n",
       "\n",
       "      </Sphere>\n",
       "\n",
       "     </Shape>\n",
       "\n",
       "    </Transform>\n",
       "\n",
       "    <Transform translation=\"-0.57 1.45 -1.04\">\n",
       "\n",
       "     <Shape>\n",
       "\n",
       "      <Appearance>\n",
       "\n",
       "       <Material diffuseColor=\"1.000 1.000 1.000\" specularColor=\"0.5 0.5 0.5\">\n",
       "\n",
       "       </Material>\n",
       "\n",
       "      </Appearance>\n",
       "\n",
       "      <Sphere radius=\"0.31\">\n",
       "\n",
       "      </Sphere>\n",
       "\n",
       "     </Shape>\n",
       "\n",
       "    </Transform>\n",
       "\n",
       "    <Transform translation=\"-0.11 -0.25 -1.42\">\n",
       "\n",
       "     <Shape>\n",
       "\n",
       "      <Appearance>\n",
       "\n",
       "       <Material diffuseColor=\"1.000 1.000 1.000\" specularColor=\"0.5 0.5 0.5\">\n",
       "\n",
       "       </Material>\n",
       "\n",
       "      </Appearance>\n",
       "\n",
       "      <Sphere radius=\"0.31\">\n",
       "\n",
       "      </Sphere>\n",
       "\n",
       "     </Shape>\n",
       "\n",
       "    </Transform>\n",
       "\n",
       "    <Transform translation=\"1.08 1.45 0.55\">\n",
       "\n",
       "     <Shape>\n",
       "\n",
       "      <Appearance>\n",
       "\n",
       "       <Material diffuseColor=\"1.000 1.000 1.000\" specularColor=\"0.5 0.5 0.5\">\n",
       "\n",
       "       </Material>\n",
       "\n",
       "      </Appearance>\n",
       "\n",
       "      <Sphere radius=\"0.31\">\n",
       "\n",
       "      </Sphere>\n",
       "\n",
       "     </Shape>\n",
       "\n",
       "    </Transform>\n",
       "\n",
       "    <Transform translation=\"0.19 0.24 1.50\">\n",
       "\n",
       "     <Shape>\n",
       "\n",
       "      <Appearance>\n",
       "\n",
       "       <Material diffuseColor=\"1.000 1.000 1.000\" specularColor=\"0.5 0.5 0.5\">\n",
       "\n",
       "       </Material>\n",
       "\n",
       "      </Appearance>\n",
       "\n",
       "      <Sphere radius=\"0.31\">\n",
       "\n",
       "      </Sphere>\n",
       "\n",
       "     </Shape>\n",
       "\n",
       "    </Transform>\n",
       "\n",
       "    <Transform translation=\"-1.71 -0.32 0.99\">\n",
       "\n",
       "     <Shape>\n",
       "\n",
       "      <Appearance>\n",
       "\n",
       "       <Material diffuseColor=\"1.000 1.000 1.000\" specularColor=\"0.5 0.5 0.5\">\n",
       "\n",
       "       </Material>\n",
       "\n",
       "      </Appearance>\n",
       "\n",
       "      <Sphere radius=\"0.31\">\n",
       "\n",
       "      </Sphere>\n",
       "\n",
       "     </Shape>\n",
       "\n",
       "    </Transform>\n",
       "\n",
       "    <Transform translation=\"-2.53 0.76 -0.16\">\n",
       "\n",
       "     <Shape>\n",
       "\n",
       "      <Appearance>\n",
       "\n",
       "       <Material diffuseColor=\"1.000 1.000 1.000\" specularColor=\"0.5 0.5 0.5\">\n",
       "\n",
       "       </Material>\n",
       "\n",
       "      </Appearance>\n",
       "\n",
       "      <Sphere radius=\"0.31\">\n",
       "\n",
       "      </Sphere>\n",
       "\n",
       "     </Shape>\n",
       "\n",
       "    </Transform>\n",
       "\n",
       "    <Transform translation=\"-2.13 -0.88 -0.70\">\n",
       "\n",
       "     <Shape>\n",
       "\n",
       "      <Appearance>\n",
       "\n",
       "       <Material diffuseColor=\"1.000 1.000 1.000\" specularColor=\"0.5 0.5 0.5\">\n",
       "\n",
       "       </Material>\n",
       "\n",
       "      </Appearance>\n",
       "\n",
       "      <Sphere radius=\"0.31\">\n",
       "\n",
       "      </Sphere>\n",
       "\n",
       "     </Shape>\n",
       "\n",
       "    </Transform>\n",
       "\n",
       "    <Transform translation=\"1.57 -1.49 0.89\">\n",
       "\n",
       "     <Shape>\n",
       "\n",
       "      <Appearance>\n",
       "\n",
       "       <Material diffuseColor=\"1.000 1.000 1.000\" specularColor=\"0.5 0.5 0.5\">\n",
       "\n",
       "       </Material>\n",
       "\n",
       "      </Appearance>\n",
       "\n",
       "      <Sphere radius=\"0.31\">\n",
       "\n",
       "      </Sphere>\n",
       "\n",
       "     </Shape>\n",
       "\n",
       "    </Transform>\n",
       "\n",
       "    <Transform translation=\"2.64 -0.15 0.26\">\n",
       "\n",
       "     <Shape>\n",
       "\n",
       "      <Appearance>\n",
       "\n",
       "       <Material diffuseColor=\"1.000 1.000 1.000\" specularColor=\"0.5 0.5 0.5\">\n",
       "\n",
       "       </Material>\n",
       "\n",
       "      </Appearance>\n",
       "\n",
       "      <Sphere radius=\"0.31\">\n",
       "\n",
       "      </Sphere>\n",
       "\n",
       "     </Shape>\n",
       "\n",
       "    </Transform>\n",
       "\n",
       "    <Transform translation=\"1.50 -1.01 -0.86\">\n",
       "\n",
       "     <Shape>\n",
       "\n",
       "      <Appearance>\n",
       "\n",
       "       <Material diffuseColor=\"1.000 1.000 1.000\" specularColor=\"0.5 0.5 0.5\">\n",
       "\n",
       "       </Material>\n",
       "\n",
       "      </Appearance>\n",
       "\n",
       "      <Sphere radius=\"0.31\">\n",
       "\n",
       "      </Sphere>\n",
       "\n",
       "     </Shape>\n",
       "\n",
       "    </Transform>\n",
       "\n",
       "   </Scene>\n",
       "\n",
       "  </X3D>\n",
       "\n",
       " </body>\n",
       "\n",
       "</html>\n",
       "\n"
      ],
      "text/plain": [
       "<IPython.core.display.HTML object>"
      ]
     },
     "execution_count": 4,
     "metadata": {},
     "output_type": "execute_result"
    }
   ],
   "source": [
    "view(mol.ase_molecule, viewer='x3d')"
   ]
  },
  {
   "cell_type": "markdown",
   "metadata": {},
   "source": [
    "# In order to do this, you need to have pip installed py3dmol\n",
    "mol.view_mol()"
   ]
  },
  {
   "cell_type": "markdown",
   "metadata": {},
   "source": [
    "## So, now we're going to demonstrate how this works on a step by step process"
   ]
  },
  {
   "cell_type": "code",
   "execution_count": 5,
   "metadata": {
    "collapsed": true
   },
   "outputs": [],
   "source": [
    "import rdkit\n",
    "from rdkit import Chem\n",
    "from rdkit.Chem import AllChem\n",
    "from rdkit.Chem.rdchem import Mol\n",
    "from rdkit.Chem.rdMolTransforms import *\n",
    "import ase\n",
    "from ase import Atom, Atoms\n",
    "import rmgpy\n",
    "from rmgpy.molecule import Molecule\n",
    "import py3Dmol\n",
    "import numpy as np"
   ]
  },
  {
   "cell_type": "code",
   "execution_count": 6,
   "metadata": {},
   "outputs": [
    {
     "data": {
      "image/png": "[encoded data removed]",
      "text/plain": [
       "Molecule(SMILES=\"CCCC\")"
      ]
     },
     "execution_count": 6,
     "metadata": {},
     "output_type": "execute_result"
    }
   ],
   "source": [
    "smiles = \"CCCC\"\n",
    "rmg_mol = Molecule(SMILES=smiles)\n",
    "rmg_mol"
   ]
  },
  {
   "cell_type": "code",
   "execution_count": 7,
   "metadata": {
    "collapsed": true
   },
   "outputs": [],
   "source": [
    "def view_mol(mol):\n",
    "    \"\"\"\n",
    "    A method designed to create a 3D figure of the AutoTST_Molecule with py3Dmol from the rdkit_molecule\n",
    "    \"\"\"\n",
    "    mb  = Chem.MolToMolBlock(mol)\n",
    "    p = py3Dmol.view(width=400, height=400)\n",
    "    p.addModel(mb, \"sdf\")\n",
    "    p.setStyle({'stick':{}})\n",
    "    p.setBackgroundColor('0xeeeeee')\n",
    "    p.zoomTo()\n",
    "    return p.show()"
   ]
  },
  {
   "cell_type": "code",
   "execution_count": 8,
   "metadata": {},
   "outputs": [
    {
     "data": {
      "text/plain": [
       "0"
      ]
     },
     "execution_count": 8,
     "metadata": {},
     "output_type": "execute_result"
    }
   ],
   "source": [
    "rdkit_mol = rmg_mol.toRDKitMol(removeHs=False)\n",
    "rdkit.Chem.AllChem.EmbedMolecule(rdkit_mol)\n",
    "#view_mol(rdkit_mol)"
   ]
  },
  {
   "cell_type": "code",
   "execution_count": 9,
   "metadata": {},
   "outputs": [
    {
     "data": {
      "text/html": [
       "<html>\n",
       "\n",
       " <head>\n",
       "\n",
       "  <title>ASE atomic visualization</title>\n",
       "\n",
       "  <link rel=\"stylesheet\" type=\"text/css\"\n",
       "\n",
       "   href=\"https://www.x3dom.org/x3dom/release/x3dom.css\">\n",
       "\n",
       "  </link>\n",
       "\n",
       "  <script type=\"text/javascript\"\n",
       "\n",
       "   src=\"https://www.x3dom.org/x3dom/release/x3dom.js\">\n",
       "\n",
       "  </script>\n",
       "\n",
       " </head>\n",
       "\n",
       " <body>\n",
       "\n",
       "  <X3D style=\"margin:0; padding:0; width:100%; height:100%; border:none;\">\n",
       "\n",
       "   <Scene>\n",
       "\n",
       "    <Transform translation=\"0.62 -0.31 0.64\">\n",
       "\n",
       "     <Shape>\n",
       "\n",
       "      <Appearance>\n",
       "\n",
       "       <Material diffuseColor=\"0.565 0.565 0.565\" specularColor=\"0.5 0.5 0.5\">\n",
       "\n",
       "       </Material>\n",
       "\n",
       "      </Appearance>\n",
       "\n",
       "      <Sphere radius=\"0.76\">\n",
       "\n",
       "      </Sphere>\n",
       "\n",
       "     </Shape>\n",
       "\n",
       "    </Transform>\n",
       "\n",
       "    <Transform translation=\"-0.64 -0.43 -0.17\">\n",
       "\n",
       "     <Shape>\n",
       "\n",
       "      <Appearance>\n",
       "\n",
       "       <Material diffuseColor=\"0.565 0.565 0.565\" specularColor=\"0.5 0.5 0.5\">\n",
       "\n",
       "       </Material>\n",
       "\n",
       "      </Appearance>\n",
       "\n",
       "      <Sphere radius=\"0.76\">\n",
       "\n",
       "      </Sphere>\n",
       "\n",
       "     </Shape>\n",
       "\n",
       "    </Transform>\n",
       "\n",
       "    <Transform translation=\"1.73 0.43 -0.08\">\n",
       "\n",
       "     <Shape>\n",
       "\n",
       "      <Appearance>\n",
       "\n",
       "       <Material diffuseColor=\"0.565 0.565 0.565\" specularColor=\"0.5 0.5 0.5\">\n",
       "\n",
       "       </Material>\n",
       "\n",
       "      </Appearance>\n",
       "\n",
       "      <Sphere radius=\"0.76\">\n",
       "\n",
       "      </Sphere>\n",
       "\n",
       "     </Shape>\n",
       "\n",
       "    </Transform>\n",
       "\n",
       "    <Transform translation=\"-1.78 0.19 0.63\">\n",
       "\n",
       "     <Shape>\n",
       "\n",
       "      <Appearance>\n",
       "\n",
       "       <Material diffuseColor=\"0.565 0.565 0.565\" specularColor=\"0.5 0.5 0.5\">\n",
       "\n",
       "       </Material>\n",
       "\n",
       "      </Appearance>\n",
       "\n",
       "      <Sphere radius=\"0.76\">\n",
       "\n",
       "      </Sphere>\n",
       "\n",
       "     </Shape>\n",
       "\n",
       "    </Transform>\n",
       "\n",
       "    <Transform translation=\"0.45 0.18 1.64\">\n",
       "\n",
       "     <Shape>\n",
       "\n",
       "      <Appearance>\n",
       "\n",
       "       <Material diffuseColor=\"1.000 1.000 1.000\" specularColor=\"0.5 0.5 0.5\">\n",
       "\n",
       "       </Material>\n",
       "\n",
       "      </Appearance>\n",
       "\n",
       "      <Sphere radius=\"0.31\">\n",
       "\n",
       "      </Sphere>\n",
       "\n",
       "     </Shape>\n",
       "\n",
       "    </Transform>\n",
       "\n",
       "    <Transform translation=\"1.00 -1.33 0.88\">\n",
       "\n",
       "     <Shape>\n",
       "\n",
       "      <Appearance>\n",
       "\n",
       "       <Material diffuseColor=\"1.000 1.000 1.000\" specularColor=\"0.5 0.5 0.5\">\n",
       "\n",
       "       </Material>\n",
       "\n",
       "      </Appearance>\n",
       "\n",
       "      <Sphere radius=\"0.31\">\n",
       "\n",
       "      </Sphere>\n",
       "\n",
       "     </Shape>\n",
       "\n",
       "    </Transform>\n",
       "\n",
       "    <Transform translation=\"-0.56 0.01 -1.18\">\n",
       "\n",
       "     <Shape>\n",
       "\n",
       "      <Appearance>\n",
       "\n",
       "       <Material diffuseColor=\"1.000 1.000 1.000\" specularColor=\"0.5 0.5 0.5\">\n",
       "\n",
       "       </Material>\n",
       "\n",
       "      </Appearance>\n",
       "\n",
       "      <Sphere radius=\"0.31\">\n",
       "\n",
       "      </Sphere>\n",
       "\n",
       "     </Shape>\n",
       "\n",
       "    </Transform>\n",
       "\n",
       "    <Transform translation=\"-0.93 -1.50 -0.29\">\n",
       "\n",
       "     <Shape>\n",
       "\n",
       "      <Appearance>\n",
       "\n",
       "       <Material diffuseColor=\"1.000 1.000 1.000\" specularColor=\"0.5 0.5 0.5\">\n",
       "\n",
       "       </Material>\n",
       "\n",
       "      </Appearance>\n",
       "\n",
       "      <Sphere radius=\"0.31\">\n",
       "\n",
       "      </Sphere>\n",
       "\n",
       "     </Shape>\n",
       "\n",
       "    </Transform>\n",
       "\n",
       "    <Transform translation=\"2.45 0.82 0.68\">\n",
       "\n",
       "     <Shape>\n",
       "\n",
       "      <Appearance>\n",
       "\n",
       "       <Material diffuseColor=\"1.000 1.000 1.000\" specularColor=\"0.5 0.5 0.5\">\n",
       "\n",
       "       </Material>\n",
       "\n",
       "      </Appearance>\n",
       "\n",
       "      <Sphere radius=\"0.31\">\n",
       "\n",
       "      </Sphere>\n",
       "\n",
       "     </Shape>\n",
       "\n",
       "    </Transform>\n",
       "\n",
       "    <Transform translation=\"2.31 -0.33 -0.65\">\n",
       "\n",
       "     <Shape>\n",
       "\n",
       "      <Appearance>\n",
       "\n",
       "       <Material diffuseColor=\"1.000 1.000 1.000\" specularColor=\"0.5 0.5 0.5\">\n",
       "\n",
       "       </Material>\n",
       "\n",
       "      </Appearance>\n",
       "\n",
       "      <Sphere radius=\"0.31\">\n",
       "\n",
       "      </Sphere>\n",
       "\n",
       "     </Shape>\n",
       "\n",
       "    </Transform>\n",
       "\n",
       "    <Transform translation=\"1.37 1.27 -0.69\">\n",
       "\n",
       "     <Shape>\n",
       "\n",
       "      <Appearance>\n",
       "\n",
       "       <Material diffuseColor=\"1.000 1.000 1.000\" specularColor=\"0.5 0.5 0.5\">\n",
       "\n",
       "       </Material>\n",
       "\n",
       "      </Appearance>\n",
       "\n",
       "      <Sphere radius=\"0.31\">\n",
       "\n",
       "      </Sphere>\n",
       "\n",
       "     </Shape>\n",
       "\n",
       "    </Transform>\n",
       "\n",
       "    <Transform translation=\"-1.70 -0.20 1.66\">\n",
       "\n",
       "     <Shape>\n",
       "\n",
       "      <Appearance>\n",
       "\n",
       "       <Material diffuseColor=\"1.000 1.000 1.000\" specularColor=\"0.5 0.5 0.5\">\n",
       "\n",
       "       </Material>\n",
       "\n",
       "      </Appearance>\n",
       "\n",
       "      <Sphere radius=\"0.31\">\n",
       "\n",
       "      </Sphere>\n",
       "\n",
       "     </Shape>\n",
       "\n",
       "    </Transform>\n",
       "\n",
       "    <Transform translation=\"-1.57 1.27 0.66\">\n",
       "\n",
       "     <Shape>\n",
       "\n",
       "      <Appearance>\n",
       "\n",
       "       <Material diffuseColor=\"1.000 1.000 1.000\" specularColor=\"0.5 0.5 0.5\">\n",
       "\n",
       "       </Material>\n",
       "\n",
       "      </Appearance>\n",
       "\n",
       "      <Sphere radius=\"0.31\">\n",
       "\n",
       "      </Sphere>\n",
       "\n",
       "     </Shape>\n",
       "\n",
       "    </Transform>\n",
       "\n",
       "    <Transform translation=\"-2.74 -0.07 0.15\">\n",
       "\n",
       "     <Shape>\n",
       "\n",
       "      <Appearance>\n",
       "\n",
       "       <Material diffuseColor=\"1.000 1.000 1.000\" specularColor=\"0.5 0.5 0.5\">\n",
       "\n",
       "       </Material>\n",
       "\n",
       "      </Appearance>\n",
       "\n",
       "      <Sphere radius=\"0.31\">\n",
       "\n",
       "      </Sphere>\n",
       "\n",
       "     </Shape>\n",
       "\n",
       "    </Transform>\n",
       "\n",
       "   </Scene>\n",
       "\n",
       "  </X3D>\n",
       "\n",
       " </body>\n",
       "\n",
       "</html>\n",
       "\n"
      ],
      "text/plain": [
       "<IPython.core.display.HTML object>"
      ]
     },
     "execution_count": 9,
     "metadata": {},
     "output_type": "execute_result"
    }
   ],
   "source": [
    "mol_list = AllChem.MolToMolBlock(rdkit_mol).split('\\n')\n",
    "ase_atoms = []\n",
    "for i, line in enumerate(mol_list):\n",
    "\n",
    "    if i > 3:\n",
    "        try:\n",
    "            atom0, atom1, bond, rest = line\n",
    "            atom0 = int(atom0)\n",
    "            atom0 = int(atom1)\n",
    "            bond = float(bond)\n",
    "\n",
    "        except ValueError:\n",
    "            try:\n",
    "                x, y, z, symbol = line.split()[0:4]\n",
    "                x = float(x)\n",
    "                y = float(y)\n",
    "                z = float(z)\n",
    "                #print symbol\n",
    "\n",
    "                ase_atoms.append(Atom(symbol=symbol, position=(x,y,z)))\n",
    "            except:\n",
    "                continue\n",
    "\n",
    "ase_mol = Atoms(ase_atoms)\n",
    "view(ase_mol, viewer='x3d')"
   ]
  },
  {
   "cell_type": "markdown",
   "metadata": {},
   "source": [
    "### So, in it's simplicity, an `AutoTST_Molecule` is an object that houses all of the above information (with additional geometric features)"
   ]
  },
  {
   "cell_type": "markdown",
   "metadata": {},
   "source": [
    "# Now for reactions\n",
    "\n",
    "Reactions have to be `RMG_Reactions` or in the form `r1+r2_p1+p2`. Currently this is only set up for H_Abstractions, but others should be able to work later"
   ]
  },
  {
   "cell_type": "code",
   "execution_count": 10,
   "metadata": {},
   "outputs": [
    {
     "data": {
      "image/png": "[encoded data removed]",
      "text/plain": [
       "Molecule(SMILES=\"C\")"
      ]
     },
     "execution_count": 10,
     "metadata": {},
     "output_type": "execute_result"
    }
   ],
   "source": [
    "Molecule(SMILES=\"C\")"
   ]
  },
  {
   "cell_type": "code",
   "execution_count": 11,
   "metadata": {},
   "outputs": [
    {
     "data": {
      "text/plain": [
       "Atoms(symbols='C3H8', pbc=False)"
      ]
     },
     "execution_count": 11,
     "metadata": {},
     "output_type": "execute_result"
    }
   ],
   "source": [
    "mol = AutoTST_Molecule(\"CCC\")\n",
    "mol.ase_molecule"
   ]
  },
  {
   "cell_type": "code",
   "execution_count": 42,
   "metadata": {
    "scrolled": false
   },
   "outputs": [
    {
     "name": "stderr",
     "output_type": "stream",
     "text": [
      "reaction.py:424 bm_pre_edit INFO Changing lower limit 2.9 to 2.393074\n",
      "reaction.py:424 bm_pre_edit INFO Changing lower limit 3.65 to 3.26214059416\n",
      "reaction.py:424 bm_pre_edit INFO Changing lower limit 2.520343 to 2.457475\n"
     ]
    },
    {
     "data": {
      "text/plain": [
       "<autotst.reaction.AutoTST_Reaction instance at 0x122bd9dd0>"
      ]
     },
     "execution_count": 42,
     "metadata": {},
     "output_type": "execute_result"
    }
   ],
   "source": [
    "rxn = AutoTST_Reaction(\"CCC+[O]O_[CH2]CC+OO\", \"H_Abstraction\")\n",
    "rxn"
   ]
  },
  {
   "cell_type": "code",
   "execution_count": null,
   "metadata": {
    "collapsed": true
   },
   "outputs": [],
   "source": []
  },
  {
   "cell_type": "code",
   "execution_count": 45,
   "metadata": {},
   "outputs": [
    {
     "data": {
      "image/png": "[encoded data removed]",
      "text/plain": [
       "TemplateReaction(reactants=[Molecule(SMILES=\"CCC\"), Molecule(SMILES=\"[O]O\")], products=[Molecule(SMILES=\"OO\"), Molecule(SMILES=\"[CH2]CC\")], degeneracy=6.0, pairs=[[Species(label=\"\", molecule=[Molecule(SMILES=\"CCC\")]), Species(label=\"\", molecule=[Molecule(SMILES=\"[CH2]CC\")])], [Species(label=\"\", molecule=[Molecule(SMILES=\"[O]O\")]), Species(label=\"\", molecule=[Molecule(SMILES=\"OO\")])]], family='H_Abstraction', template=['C/H3/Cs', 'OjO'])"
      ]
     },
     "execution_count": 45,
     "metadata": {},
     "output_type": "execute_result"
    }
   ],
   "source": [
    "rxn.rmg_reaction"
   ]
  },
  {
   "cell_type": "code",
   "execution_count": 46,
   "metadata": {},
   "outputs": [
    {
     "data": {
      "image/png": "[encoded data removed]",
      "text/plain": [
       "Molecule(SMILES=\"CCC.[O]O\")"
      ]
     },
     "execution_count": 46,
     "metadata": {},
     "output_type": "execute_result"
    }
   ],
   "source": [
    "rxn.ts.rmg_ts"
   ]
  },
  {
   "cell_type": "code",
   "execution_count": 47,
   "metadata": {
    "scrolled": true
   },
   "outputs": [
    {
     "data": {
      "text/html": [
       "<html>\n",
       "\n",
       " <head>\n",
       "\n",
       "  <title>ASE atomic visualization</title>\n",
       "\n",
       "  <link rel=\"stylesheet\" type=\"text/css\"\n",
       "\n",
       "   href=\"https://www.x3dom.org/x3dom/release/x3dom.css\">\n",
       "\n",
       "  </link>\n",
       "\n",
       "  <script type=\"text/javascript\"\n",
       "\n",
       "   src=\"https://www.x3dom.org/x3dom/release/x3dom.js\">\n",
       "\n",
       "  </script>\n",
       "\n",
       " </head>\n",
       "\n",
       " <body>\n",
       "\n",
       "  <X3D style=\"margin:0; padding:0; width:100%; height:100%; border:none;\">\n",
       "\n",
       "   <Scene>\n",
       "\n",
       "    <Transform translation=\"-1.19 -0.41 0.34\">\n",
       "\n",
       "     <Shape>\n",
       "\n",
       "      <Appearance>\n",
       "\n",
       "       <Material diffuseColor=\"0.565 0.565 0.565\" specularColor=\"0.5 0.5 0.5\">\n",
       "\n",
       "       </Material>\n",
       "\n",
       "      </Appearance>\n",
       "\n",
       "      <Sphere radius=\"0.76\">\n",
       "\n",
       "      </Sphere>\n",
       "\n",
       "     </Shape>\n",
       "\n",
       "    </Transform>\n",
       "\n",
       "    <Transform translation=\"-0.00 0.02 1.19\">\n",
       "\n",
       "     <Shape>\n",
       "\n",
       "      <Appearance>\n",
       "\n",
       "       <Material diffuseColor=\"0.565 0.565 0.565\" specularColor=\"0.5 0.5 0.5\">\n",
       "\n",
       "       </Material>\n",
       "\n",
       "      </Appearance>\n",
       "\n",
       "      <Sphere radius=\"0.76\">\n",
       "\n",
       "      </Sphere>\n",
       "\n",
       "     </Shape>\n",
       "\n",
       "    </Transform>\n",
       "\n",
       "    <Transform translation=\"-1.26 0.40 -0.95\">\n",
       "\n",
       "     <Shape>\n",
       "\n",
       "      <Appearance>\n",
       "\n",
       "       <Material diffuseColor=\"0.565 0.565 0.565\" specularColor=\"0.5 0.5 0.5\">\n",
       "\n",
       "       </Material>\n",
       "\n",
       "      </Appearance>\n",
       "\n",
       "      <Sphere radius=\"0.76\">\n",
       "\n",
       "      </Sphere>\n",
       "\n",
       "     </Shape>\n",
       "\n",
       "    </Transform>\n",
       "\n",
       "    <Transform translation=\"-1.08 -1.49 0.09\">\n",
       "\n",
       "     <Shape>\n",
       "\n",
       "      <Appearance>\n",
       "\n",
       "       <Material diffuseColor=\"1.000 1.000 1.000\" specularColor=\"0.5 0.5 0.5\">\n",
       "\n",
       "       </Material>\n",
       "\n",
       "      </Appearance>\n",
       "\n",
       "      <Sphere radius=\"0.31\">\n",
       "\n",
       "      </Sphere>\n",
       "\n",
       "     </Shape>\n",
       "\n",
       "    </Transform>\n",
       "\n",
       "    <Transform translation=\"-2.13 -0.27 0.91\">\n",
       "\n",
       "     <Shape>\n",
       "\n",
       "      <Appearance>\n",
       "\n",
       "       <Material diffuseColor=\"1.000 1.000 1.000\" specularColor=\"0.5 0.5 0.5\">\n",
       "\n",
       "       </Material>\n",
       "\n",
       "      </Appearance>\n",
       "\n",
       "      <Sphere radius=\"0.31\">\n",
       "\n",
       "      </Sphere>\n",
       "\n",
       "     </Shape>\n",
       "\n",
       "    </Transform>\n",
       "\n",
       "    <Transform translation=\"1.17 -0.16 0.50\">\n",
       "\n",
       "     <Shape>\n",
       "\n",
       "      <Appearance>\n",
       "\n",
       "       <Material diffuseColor=\"1.000 1.000 1.000\" specularColor=\"0.5 0.5 0.5\">\n",
       "\n",
       "       </Material>\n",
       "\n",
       "      </Appearance>\n",
       "\n",
       "      <Sphere radius=\"0.31\">\n",
       "\n",
       "      </Sphere>\n",
       "\n",
       "     </Shape>\n",
       "\n",
       "    </Transform>\n",
       "\n",
       "    <Transform translation=\"-0.10 1.09 1.47\">\n",
       "\n",
       "     <Shape>\n",
       "\n",
       "      <Appearance>\n",
       "\n",
       "       <Material diffuseColor=\"1.000 1.000 1.000\" specularColor=\"0.5 0.5 0.5\">\n",
       "\n",
       "       </Material>\n",
       "\n",
       "      </Appearance>\n",
       "\n",
       "      <Sphere radius=\"0.31\">\n",
       "\n",
       "      </Sphere>\n",
       "\n",
       "     </Shape>\n",
       "\n",
       "    </Transform>\n",
       "\n",
       "    <Transform translation=\"0.03 -0.59 2.12\">\n",
       "\n",
       "     <Shape>\n",
       "\n",
       "      <Appearance>\n",
       "\n",
       "       <Material diffuseColor=\"1.000 1.000 1.000\" specularColor=\"0.5 0.5 0.5\">\n",
       "\n",
       "       </Material>\n",
       "\n",
       "      </Appearance>\n",
       "\n",
       "      <Sphere radius=\"0.31\">\n",
       "\n",
       "      </Sphere>\n",
       "\n",
       "     </Shape>\n",
       "\n",
       "    </Transform>\n",
       "\n",
       "    <Transform translation=\"-1.38 1.48 -0.73\">\n",
       "\n",
       "     <Shape>\n",
       "\n",
       "      <Appearance>\n",
       "\n",
       "       <Material diffuseColor=\"1.000 1.000 1.000\" specularColor=\"0.5 0.5 0.5\">\n",
       "\n",
       "       </Material>\n",
       "\n",
       "      </Appearance>\n",
       "\n",
       "      <Sphere radius=\"0.31\">\n",
       "\n",
       "      </Sphere>\n",
       "\n",
       "     </Shape>\n",
       "\n",
       "    </Transform>\n",
       "\n",
       "    <Transform translation=\"-0.33 0.25 -1.55\">\n",
       "\n",
       "     <Shape>\n",
       "\n",
       "      <Appearance>\n",
       "\n",
       "       <Material diffuseColor=\"1.000 1.000 1.000\" specularColor=\"0.5 0.5 0.5\">\n",
       "\n",
       "       </Material>\n",
       "\n",
       "      </Appearance>\n",
       "\n",
       "      <Sphere radius=\"0.31\">\n",
       "\n",
       "      </Sphere>\n",
       "\n",
       "     </Shape>\n",
       "\n",
       "    </Transform>\n",
       "\n",
       "    <Transform translation=\"-2.13 0.06 -1.56\">\n",
       "\n",
       "     <Shape>\n",
       "\n",
       "      <Appearance>\n",
       "\n",
       "       <Material diffuseColor=\"1.000 1.000 1.000\" specularColor=\"0.5 0.5 0.5\">\n",
       "\n",
       "       </Material>\n",
       "\n",
       "      </Appearance>\n",
       "\n",
       "      <Sphere radius=\"0.31\">\n",
       "\n",
       "      </Sphere>\n",
       "\n",
       "     </Shape>\n",
       "\n",
       "    </Transform>\n",
       "\n",
       "    <Transform translation=\"3.51 -0.29 -0.27\">\n",
       "\n",
       "     <Shape>\n",
       "\n",
       "      <Appearance>\n",
       "\n",
       "       <Material diffuseColor=\"1.000 0.051 0.051\" specularColor=\"0.5 0.5 0.5\">\n",
       "\n",
       "       </Material>\n",
       "\n",
       "      </Appearance>\n",
       "\n",
       "      <Sphere radius=\"0.66\">\n",
       "\n",
       "      </Sphere>\n",
       "\n",
       "     </Shape>\n",
       "\n",
       "    </Transform>\n",
       "\n",
       "    <Transform translation=\"2.26 -0.22 0.14\">\n",
       "\n",
       "     <Shape>\n",
       "\n",
       "      <Appearance>\n",
       "\n",
       "       <Material diffuseColor=\"1.000 0.051 0.051\" specularColor=\"0.5 0.5 0.5\">\n",
       "\n",
       "       </Material>\n",
       "\n",
       "      </Appearance>\n",
       "\n",
       "      <Sphere radius=\"0.66\">\n",
       "\n",
       "      </Sphere>\n",
       "\n",
       "     </Shape>\n",
       "\n",
       "    </Transform>\n",
       "\n",
       "    <Transform translation=\"3.71 0.62 -0.61\">\n",
       "\n",
       "     <Shape>\n",
       "\n",
       "      <Appearance>\n",
       "\n",
       "       <Material diffuseColor=\"1.000 1.000 1.000\" specularColor=\"0.5 0.5 0.5\">\n",
       "\n",
       "       </Material>\n",
       "\n",
       "      </Appearance>\n",
       "\n",
       "      <Sphere radius=\"0.31\">\n",
       "\n",
       "      </Sphere>\n",
       "\n",
       "     </Shape>\n",
       "\n",
       "    </Transform>\n",
       "\n",
       "   </Scene>\n",
       "\n",
       "  </X3D>\n",
       "\n",
       " </body>\n",
       "\n",
       "</html>\n",
       "\n"
      ],
      "text/plain": [
       "<IPython.core.display.HTML object>"
      ]
     },
     "execution_count": 47,
     "metadata": {},
     "output_type": "execute_result"
    }
   ],
   "source": [
    "view(rxn.ts.ase_ts, viewer='x3d')"
   ]
  },
  {
   "cell_type": "code",
   "execution_count": 48,
   "metadata": {
    "collapsed": true
   },
   "outputs": [],
   "source": [
    "import os\n",
    "import logging\n",
    "FORMAT = \"%(filename)s:%(lineno)d %(funcName)s %(levelname)s %(message)s\"\n",
    "logging.basicConfig(format=FORMAT, level=logging.INFO)\n",
    "\n",
    "import rdkit, rdkit.Chem.rdDistGeom, rdkit.DistanceGeometry\n",
    "\n",
    "from rdkit import Chem\n",
    "from rdkit.Chem import AllChem\n",
    "from rdkit import rdBase\n",
    "from rdkit.Chem.rdMolTransforms import *\n",
    "from rdkit.Chem.rdChemReactions import ChemicalReaction\n",
    "from rdkit.Chem import AllChem\n",
    "\n",
    "from rdkit.Chem.Pharm3D import EmbedLib\n",
    "\n",
    "import py3Dmol\n",
    "\n",
    "from rmgpy.molecule import Molecule\n",
    "from rmgpy.species import Species\n",
    "from rmgpy.reaction import Reaction, _isomorphicSpeciesList\n",
    "from rmgpy.kinetics import PDepArrhenius, PDepKineticsModel\n",
    "from rmgpy.data.rmg import RMGDatabase\n",
    "\n",
    "# AutoTST imports\n",
    "from autotst.database import DistanceData, TransitionStateDepository, TSGroups, TransitionStates\n",
    "from autotst.molecule import *\n",
    "from autotst.geometry import *\n"
   ]
  },
  {
   "cell_type": "code",
   "execution_count": 49,
   "metadata": {
    "collapsed": true
   },
   "outputs": [],
   "source": [
    "reaction_string = \"CCC+[O]O_[CH2]CC+OO\"\n",
    "family_string = \"H_Abstraction\""
   ]
  },
  {
   "cell_type": "code",
   "execution_count": 50,
   "metadata": {},
   "outputs": [
    {
     "data": {
      "text/plain": [
       "([<autotst.molecule.AutoTST_Molecule instance at 0x122bc94d0>,\n",
       "  <autotst.molecule.AutoTST_Molecule instance at 0x11fe621b8>],\n",
       " [<autotst.molecule.AutoTST_Molecule instance at 0x122bc9ab8>,\n",
       "  <autotst.molecule.AutoTST_Molecule instance at 0x122d55248>])"
      ]
     },
     "execution_count": 50,
     "metadata": {},
     "output_type": "execute_result"
    }
   ],
   "source": [
    "reactants, products = reaction_string.split(\"_\")\n",
    "\n",
    "if \"+\" in reactants:\n",
    "    reactants = reactants.split(\"+\")\n",
    "\n",
    "if \"+\" in products:\n",
    "    products = products.split(\"+\")\n",
    "\n",
    "reactant_mols = []\n",
    "product_mols = []\n",
    "\n",
    "for reactant in reactants:\n",
    "    reactant_mols.append(AutoTST_Molecule(reactant))\n",
    "\n",
    "for product in products:\n",
    "    product_mols.append(AutoTST_Molecule(product))\n",
    "\n",
    "reactant_mols, product_mols"
   ]
  },
  {
   "cell_type": "code",
   "execution_count": 51,
   "metadata": {},
   "outputs": [
    {
     "name": "stderr",
     "output_type": "stream",
     "text": [
      "rmg.py:72 __init__ WARNING Should only make one instance of RMGDatabase because it's stored as a module-level variable!\n",
      "rmg.py:73 __init__ WARNING Unexpected behaviour may result!\n",
      "thermo.py:836 loadLibraries INFO Loading thermodynamics library from primaryThermoLibrary.py in /Users/nathan/Code/RMG-database/input/thermo/libraries...\n",
      "thermo.py:836 loadLibraries INFO Loading thermodynamics library from thermo_DFT_CCSDTF12_BAC.py in /Users/nathan/Code/RMG-database/input/thermo/libraries...\n",
      "thermo.py:836 loadLibraries INFO Loading thermodynamics library from CBS_QB3_1dHR.py in /Users/nathan/Code/RMG-database/input/thermo/libraries...\n",
      "thermo.py:853 loadGroups INFO Loading thermodynamics group database from /Users/nathan/Code/RMG-database/input/thermo/groups...\n",
      "transport.py:294 loadGroups INFO Loading transport group database from /Users/nathan/Code/RMG-database/input/transport/groups...\n",
      "database.py:167 loadFamilies INFO Loading the user-specified kinetics families from /Users/nathan/Code/RMG-database/input/kinetics/families\n",
      "statmech.py:526 loadGroups INFO Loading frequencies group database from /Users/nathan/Code/RMG-database/input/statmech/groups...\n"
     ]
    },
    {
     "data": {
      "text/plain": [
       "<ReactionFamily \"H_Abstraction\">"
      ]
     },
     "execution_count": 51,
     "metadata": {},
     "output_type": "execute_result"
    }
   ],
   "source": [
    "rmg_database = RMGDatabase()\n",
    "database_path = os.path.join(os.path.expanduser('~'), 'Code',  'RMG-database', 'input')\n",
    "rmg_database.load(database_path,\n",
    "                 kineticsFamilies=['H_Abstraction'],\n",
    "                 transportLibraries=[],\n",
    "                 reactionLibraries=[],\n",
    "                 seedMechanisms=[],\n",
    "                 thermoLibraries=['primaryThermoLibrary', 'thermo_DFT_CCSDTF12_BAC', 'CBS_QB3_1dHR' ],\n",
    "                 solvation=False,\n",
    "                 )\n",
    "\n",
    "family = rmg_database.kinetics.families[\"H_Abstraction\"]\n",
    "family"
   ]
  },
  {
   "cell_type": "markdown",
   "metadata": {},
   "source": [
    "### This chunk gets the labeled reactants and products"
   ]
  },
  {
   "cell_type": "code",
   "execution_count": 52,
   "metadata": {},
   "outputs": [
    {
     "name": "stderr",
     "output_type": "stream",
     "text": [
      "database.py:127 load INFO Loading transitions state family groups from ../database/H_Abstraction/TS_groups.py\n"
     ]
    }
   ],
   "source": [
    "ts_database = TransitionStates()\n",
    "path = \"../database/H_Abstraction\"\n",
    "global_context = { '__builtins__': None }\n",
    "local_context={'DistanceData': DistanceData}\n",
    "family = rmg_database.kinetics.families[\"H_Abstraction\"]\n",
    "ts_database.family = family\n",
    "ts_database.load(path, local_context, global_context)"
   ]
  },
  {
   "cell_type": "code",
   "execution_count": 53,
   "metadata": {},
   "outputs": [
    {
     "data": {
      "text/plain": [
       "<autotst.database.TransitionStates instance at 0x11d291878>"
      ]
     },
     "execution_count": 53,
     "metadata": {},
     "output_type": "execute_result"
    }
   ],
   "source": [
    "ts_database"
   ]
  },
  {
   "cell_type": "code",
   "execution_count": 59,
   "metadata": {},
   "outputs": [
    {
     "data": {
      "text/plain": [
       "rmgpy.reaction.Reaction"
      ]
     },
     "execution_count": 59,
     "metadata": {},
     "output_type": "execute_result"
    }
   ],
   "source": [
    "type(test_reaction)"
   ]
  },
  {
   "cell_type": "code",
   "execution_count": 57,
   "metadata": {},
   "outputs": [
    {
     "data": {
      "image/png": "[encoded data removed]",
      "text/plain": [
       "TemplateReaction(reactants=[Species(label=\"\", molecule=[Molecule(SMILES=\"CCC\")]), Species(label=\"\", molecule=[Molecule(SMILES=\"[O]O\")])], products=[Species(label=\"\", molecule=[Molecule(SMILES=\"OO\")]), Species(label=\"\", molecule=[Molecule(SMILES=\"[CH2]CC\")])], degeneracy=6.0, pairs=[[Species(label=\"\", molecule=[Molecule(SMILES=\"CCC\")]), Species(label=\"\", molecule=[Molecule(SMILES=\"[CH2]CC\")])], [Species(label=\"\", molecule=[Molecule(SMILES=\"[O]O\")]), Species(label=\"\", molecule=[Molecule(SMILES=\"OO\")])]], family='H_Abstraction', template=['C/H3/Cs', 'OjO'])"
      ]
     },
     "execution_count": 57,
     "metadata": {},
     "output_type": "execute_result"
    }
   ],
   "source": [
    "for reaction in reaction_list:\n",
    "    if reaction.isIsomorphic(test_reaction):\n",
    "        break\n",
    "        \n",
    "reaction"
   ]
  },
  {
   "cell_type": "code",
   "execution_count": 23,
   "metadata": {},
   "outputs": [
    {
     "data": {
      "image/png": "[encoded data removed]",
      "text/plain": [
       "Reaction(reactants=[Molecule(SMILES=\"CCC\"), Molecule(SMILES=\"[O]O\")], products=[Molecule(SMILES=\"OO\"), Molecule(SMILES=\"[CH2]CC\")])"
      ]
     },
     "execution_count": 23,
     "metadata": {},
     "output_type": "execute_result"
    }
   ],
   "source": [
    "rmg_reactants = []\n",
    "rmg_products = []\n",
    "\n",
    "for reactant_mol in reactant_mols:\n",
    "    rmg_reactants.append(reactant_mol.rmg_molecule)\n",
    "\n",
    "for product_mol in product_mols:\n",
    "    rmg_products.append(product_mol.rmg_molecule)\n",
    "    \n",
    "    \n",
    "labeled_r, labeled_p = family.getLabeledReactantsAndProducts(rmg_reactants, rmg_products)\n",
    "test_reaction = Reaction(reactants=labeled_r, products=labeled_p, reversible=True)\n",
    "test_reaction"
   ]
  },
  {
   "cell_type": "markdown",
   "metadata": {},
   "source": [
    "### This chunk makes a template reaction with the `H_Abstraction` family attached"
   ]
  },
  {
   "cell_type": "code",
   "execution_count": 55,
   "metadata": {},
   "outputs": [
    {
     "name": "stdout",
     "output_type": "stream",
     "text": [
      "H_Abstraction\n"
     ]
    },
    {
     "data": {
      "image/png": "[encoded data removed]",
      "text/plain": [
       "TemplateReaction(reactants=[Molecule(SMILES=\"CCC\"), Molecule(SMILES=\"[O]O\")], products=[Molecule(SMILES=\"OO\"), Molecule(SMILES=\"[CH2]CC\")], degeneracy=6.0, pairs=[[Species(label=\"\", molecule=[Molecule(SMILES=\"CCC\")]), Species(label=\"\", molecule=[Molecule(SMILES=\"[CH2]CC\")])], [Species(label=\"\", molecule=[Molecule(SMILES=\"[O]O\")]), Species(label=\"\", molecule=[Molecule(SMILES=\"OO\")])]], family='H_Abstraction', template=['C/H3/Cs', 'OjO'])"
      ]
     },
     "execution_count": 55,
     "metadata": {},
     "output_type": "execute_result"
    }
   ],
   "source": [
    "reaction_list = rmg_database.kinetics.generate_reactions_from_families(\n",
    "            rmg_reactants,\n",
    "            rmg_products)\n",
    "\n",
    "assert reaction_list\n",
    "\n",
    "for rmg_reaction in reaction_list:\n",
    "    if rmg_reaction.isIsomorphic(test_reaction):\n",
    "        if (_isomorphicSpeciesList(rmg_reaction.reactants, test_reaction.reactants)) and (_isomorphicSpeciesList(rmg_reaction.products, test_reaction.products)):\n",
    "            rmg_reaction.reactants = test_reaction.reactants\n",
    "            rmg_reaction.products = test_reaction.products\n",
    "\n",
    "        elif (_isomorphicSpeciesList(rmg_reaction.products, test_reaction.reactants)) and (_isomorphicSpeciesList(rmg_reaction.reactants, test_reaction.products)):\n",
    "            rmg_reaction.products = test_reaction.reactants\n",
    "            rmg_reaction.reactants = test_reaction.products\n",
    "            \n",
    "        \n",
    "            \n",
    "print rmg_reaction.family\n",
    "rmg_reaction"
   ]
  },
  {
   "cell_type": "code",
   "execution_count": 25,
   "metadata": {},
   "outputs": [
    {
     "data": {
      "text/plain": [
       "rmgpy.data.kinetics.family.TemplateReaction"
      ]
     },
     "execution_count": 25,
     "metadata": {},
     "output_type": "execute_result"
    }
   ],
   "source": [
    "type(rmg_reaction)"
   ]
  },
  {
   "cell_type": "code",
   "execution_count": 60,
   "metadata": {},
   "outputs": [
    {
     "data": {
      "text/plain": [
       "DistanceData(distances={'d12': 1.380401,'d13': 2.530343,'d23': 1.157074,}, uncertainties={'d12': 0.385038,'d13': 0.208449,'d23': 0.303191,}, comment=u'Matched node C/H3/Cs ([<Entry index=118 label=\"C/H3/Cs\">, <Entry index=262 label=\"Cdj_CdsCs\">])\\nMatched node OjO ([<Entry index=126 label=\"C/H2/Cd/Cd\">, <Entry index=32 label=\"OjO\">])\\n')"
      ]
     },
     "execution_count": 60,
     "metadata": {},
     "output_type": "execute_result"
    }
   ],
   "source": [
    "distance_data = ts_database.groups.estimateDistancesUsingGroupAdditivity(reaction)\n",
    "distance_data"
   ]
  },
  {
   "cell_type": "markdown",
   "metadata": {},
   "source": [
    "### Once we have all of this info, we can now make the 3D geometry using RDKit"
   ]
  },
  {
   "cell_type": "markdown",
   "metadata": {},
   "source": [
    "#### First, we merge the reactant and product geometries"
   ]
  },
  {
   "cell_type": "code",
   "execution_count": 61,
   "metadata": {},
   "outputs": [
    {
     "data": {
      "image/png": "[encoded data removed]",
      "text/plain": [
       "Molecule(SMILES=\"CCC.[O]O\")"
      ]
     },
     "execution_count": 61,
     "metadata": {},
     "output_type": "execute_result"
    }
   ],
   "source": [
    "merged_reacts = None\n",
    "merged_prods = None\n",
    "\n",
    "if len(rmg_reaction.reactants) == 2:\n",
    "    merged_reacts = Molecule.merge(rmg_reaction.reactants[0],\n",
    "                                   rmg_reaction.reactants[1])\n",
    "\n",
    "if len(rmg_reaction.products) == 2:\n",
    "    merged_prods = Molecule.merge(rmg_reaction.products[0],\n",
    "                                   rmg_reaction.products[1])\n",
    "    \n",
    "merged_reacts.updateMultiplicity()\n",
    "merged_reacts"
   ]
  },
  {
   "cell_type": "code",
   "execution_count": 62,
   "metadata": {},
   "outputs": [
    {
     "data": {
      "text/plain": [
       "[1, 5, 12]"
      ]
     },
     "execution_count": 62,
     "metadata": {},
     "output_type": "execute_result"
    }
   ],
   "source": [
    "for i, atom in enumerate(merged_reacts.atoms):\n",
    "    if atom.label == \"*1\":\n",
    "        lbl1 = i\n",
    "    if atom.label == \"*2\":\n",
    "        lbl2 = i\n",
    "    if atom.label == \"*3\":\n",
    "        lbl3 = i\n",
    "labels = [lbl1, lbl2, lbl3]\n",
    "atomMatch = ((lbl1,), (lbl2,), (lbl3,))\n",
    "labels"
   ]
  },
  {
   "cell_type": "markdown",
   "metadata": {},
   "source": [
    "### Now we actually make the RDKit Geometry"
   ]
  },
  {
   "cell_type": "code",
   "execution_count": 63,
   "metadata": {},
   "outputs": [
    {
     "data": {
      "text/html": [
       "<div id=\"3dmolviewer_152209847134\"  style=\"position: relative; width: 400px; height: 400px\">\n",
       "<script>\n",
       "if(typeof $3Dmolpromise === 'undefined') $3Dmolpromise = $.when($.getScript('https://3dmol.csb.pitt.edu/build/3Dmol.js'))\n",
       "var viewer_152209847134 = null;\n",
       "$3Dmolpromise.done(function() {\n",
       "viewer_152209847134 = $3Dmol.createViewer($(\"#3dmolviewer_152209847134\"),{backgroundColor:\"white\"});\n",
       "\tviewer_152209847134.addModel(\"\\n     RDKit          3D\\n\\n 14 12  0  0  0  0  0  0  0  0999 V2000\\n    0.0225   -0.6443   -0.1697 C   0  0  0  0  0  0  0  0  0  0  0  0\\n   -1.2274    0.1388    0.0961 C   0  0  0  0  0  0  0  0  0  0  0  0\\n    1.1919    0.3164    0.0129 C   0  0  0  0  0  0  0  0  0  0  0  0\\n   -0.0115   -1.0579   -1.2015 H   0  0  0  0  0  0  0  0  0  0  0  0\\n    0.1220   -1.5174    0.5129 H   0  0  0  0  0  0  0  0  0  0  0  0\\n   -2.0621   -0.4530    0.4971 H   0  0  0  0  0  0  0  0  0  0  0  0\\n   -0.9940    0.9466    0.8244 H   0  0  0  0  0  0  0  0  0  0  0  0\\n   -1.5564    0.6000   -0.8445 H   0  0  0  0  0  0  0  0  0  0  0  0\\n    0.8399    1.3753    0.1012 H   0  0  0  0  0  0  0  0  0  0  0  0\\n    1.9465    0.2014   -0.7984 H   0  0  0  0  0  0  0  0  0  0  0  0\\n    1.7286    0.0941    0.9695 H   0  0  0  0  0  0  0  0  0  0  0  0\\n   -0.1603    0.4341   -0.0000 O   0  0  0  0  0  0  0  0  0  0  0  0\\n    1.0232   -0.1617    0.0000 O   0  0  0  0  0  1  0  0  0  0  0  0\\n   -0.8629   -0.2724   -0.0000 H   0  0  0  0  0  0  0  0  0  0  0  0\\n  1  2  1  0\\n  1  3  1  0\\n  1  4  1  0\\n  1  5  1  0\\n  2  6  1  0\\n  2  7  1  0\\n  2  8  1  0\\n  3 11  1  0\\n  3 10  1  0\\n  3  9  1  0\\n 12 13  1  0\\n 12 14  1  0\\nM  RAD  1  13   2\\nM  END\\n\",\"sdf\");\n",
       "\tviewer_152209847134.setStyle({\"stick\": {}});\n",
       "\tviewer_152209847134.setBackgroundColor(\"0xeeeeee\");\n",
       "\tviewer_152209847134.zoomTo();\n",
       "viewer_152209847134.render();\n",
       "});\n",
       "</script>"
      ],
      "text/plain": [
       "<IPython.core.display.HTML object>"
      ]
     },
     "execution_count": 63,
     "metadata": {},
     "output_type": "execute_result"
    }
   ],
   "source": [
    "combined = merged_reacts.toRDKitMol(removeHs=False)\n",
    "Chem.rdDistGeom.EmbedMolecule(combined)\n",
    "view_mol(combined)"
   ]
  },
  {
   "cell_type": "code",
   "execution_count": 64,
   "metadata": {},
   "outputs": [
    {
     "data": {
      "text/plain": [
       "array([[  0.00000000e+00,   1.52400000e+00,   1.52400000e+00,\n",
       "          1.11940079e+00,   1.11940079e+00,   2.19506659e+00,\n",
       "          2.19506659e+00,   2.19506659e+00,   2.19506659e+00,\n",
       "          2.19506659e+00,   2.19506659e+00,   1.00000000e+03,\n",
       "          1.00000000e+03,   1.00000000e+03],\n",
       "       [  1.50400000e+00,   0.00000000e+00,   2.51279063e+00,\n",
       "          2.19506659e+00,   2.19506659e+00,   1.11940079e+00,\n",
       "          1.11940079e+00,   1.11940079e+00,   3.43890609e+00,\n",
       "          3.43890609e+00,   3.43890609e+00,   1.00000000e+03,\n",
       "          1.00000000e+03,   1.00000000e+03],\n",
       "       [  1.50400000e+00,   2.43279063e+00,   0.00000000e+00,\n",
       "          2.19506659e+00,   2.19506659e+00,   3.43890609e+00,\n",
       "          3.43890609e+00,   3.43890609e+00,   1.11940079e+00,\n",
       "          1.11940079e+00,   1.11940079e+00,   1.00000000e+03,\n",
       "          1.00000000e+03,   1.00000000e+03],\n",
       "       [  1.09940079e+00,   2.11506659e+00,   2.11506659e+00,\n",
       "          0.00000000e+00,   1.85196558e+00,   3.07538100e+00,\n",
       "          3.07538100e+00,   3.07538100e+00,   3.07538100e+00,\n",
       "          3.07538100e+00,   3.07538100e+00,   1.00000000e+03,\n",
       "          1.00000000e+03,   1.00000000e+03],\n",
       "       [  1.09940079e+00,   2.11506659e+00,   2.11506659e+00,\n",
       "          1.77196558e+00,   0.00000000e+00,   3.07538100e+00,\n",
       "          3.07538100e+00,   3.07538100e+00,   3.07538100e+00,\n",
       "          3.07538100e+00,   3.07538100e+00,   1.00000000e+03,\n",
       "          1.00000000e+03,   1.00000000e+03],\n",
       "       [  2.11506659e+00,   1.09940079e+00,   2.41995244e+00,\n",
       "          2.25465119e+00,   2.25465119e+00,   0.00000000e+00,\n",
       "          1.85196558e+00,   1.85196558e+00,   1.00000000e+03,\n",
       "          1.00000000e+03,   1.00000000e+03,   1.00000000e+03,\n",
       "          1.00000000e+03,   1.00000000e+03],\n",
       "       [  2.11506659e+00,   1.09940079e+00,   2.41995244e+00,\n",
       "          2.25465119e+00,   2.25465119e+00,   1.77196558e+00,\n",
       "          0.00000000e+00,   1.85196558e+00,   1.00000000e+03,\n",
       "          1.00000000e+03,   1.00000000e+03,   1.00000000e+03,\n",
       "          1.00000000e+03,   1.00000000e+03],\n",
       "       [  2.11506659e+00,   1.09940079e+00,   2.41995244e+00,\n",
       "          2.25465119e+00,   2.25465119e+00,   1.77196558e+00,\n",
       "          1.77196558e+00,   0.00000000e+00,   1.00000000e+03,\n",
       "          1.00000000e+03,   1.00000000e+03,   1.00000000e+03,\n",
       "          1.00000000e+03,   1.00000000e+03],\n",
       "       [  2.11506659e+00,   2.41995244e+00,   1.09940079e+00,\n",
       "          2.25465119e+00,   2.25465119e+00,   1.68000000e+00,\n",
       "          1.68000000e+00,   1.68000000e+00,   0.00000000e+00,\n",
       "          1.85196558e+00,   1.85196558e+00,   1.00000000e+03,\n",
       "          1.00000000e+03,   1.00000000e+03],\n",
       "       [  2.11506659e+00,   2.41995244e+00,   1.09940079e+00,\n",
       "          2.25465119e+00,   2.25465119e+00,   1.68000000e+00,\n",
       "          1.68000000e+00,   1.68000000e+00,   1.77196558e+00,\n",
       "          0.00000000e+00,   1.85196558e+00,   1.00000000e+03,\n",
       "          1.00000000e+03,   1.00000000e+03],\n",
       "       [  2.11506659e+00,   2.41995244e+00,   1.09940079e+00,\n",
       "          2.25465119e+00,   2.25465119e+00,   1.68000000e+00,\n",
       "          1.68000000e+00,   1.68000000e+00,   1.77196558e+00,\n",
       "          1.77196558e+00,   0.00000000e+00,   1.00000000e+03,\n",
       "          1.00000000e+03,   1.00000000e+03],\n",
       "       [  3.65000000e+00,   3.65000000e+00,   3.65000000e+00,\n",
       "          2.90000000e+00,   2.90000000e+00,   2.90000000e+00,\n",
       "          2.90000000e+00,   2.90000000e+00,   2.90000000e+00,\n",
       "          2.90000000e+00,   2.90000000e+00,   0.00000000e+00,\n",
       "          1.32600000e+00,   1.00025420e+00],\n",
       "       [  3.65000000e+00,   3.65000000e+00,   3.65000000e+00,\n",
       "          2.90000000e+00,   2.90000000e+00,   2.90000000e+00,\n",
       "          2.90000000e+00,   2.90000000e+00,   2.90000000e+00,\n",
       "          2.90000000e+00,   2.90000000e+00,   1.30600000e+00,\n",
       "          0.00000000e+00,   1.93274314e+00],\n",
       "       [  3.15000000e+00,   3.15000000e+00,   3.15000000e+00,\n",
       "          2.40000000e+00,   2.40000000e+00,   2.40000000e+00,\n",
       "          2.40000000e+00,   2.40000000e+00,   2.40000000e+00,\n",
       "          2.40000000e+00,   2.40000000e+00,   9.80254204e-01,\n",
       "          1.85274314e+00,   0.00000000e+00]])"
      ]
     },
     "execution_count": 64,
     "metadata": {},
     "output_type": "execute_result"
    }
   ],
   "source": [
    "bm = rdkit.Chem.rdDistGeom.GetMoleculeBoundsMatrix(combined)\n",
    "bm"
   ]
  },
  {
   "cell_type": "code",
   "execution_count": 65,
   "metadata": {
    "collapsed": true
   },
   "outputs": [],
   "source": [
    "def set_limits( bm, lbl1, lbl2, value, uncertainty):\n",
    "    \"\"\"\n",
    "    A method to set the limits of a particular distance between two atoms\n",
    "\n",
    "    :param bm: an array of arrays corresponding to the bounds matrix\n",
    "    :param lbl1: the label of one atom\n",
    "    :param lbl2: the label of another atom\n",
    "    :param value: the distance from a distance data object (float)\n",
    "    :param uncertainty: the uncertainty of the `value` distance (float)\n",
    "    :return bm: an array of arrays corresponding to the edited bounds matrix\n",
    "    \"\"\"\n",
    "    if lbl1 > lbl2:\n",
    "        bm[lbl2][lbl1] = value + uncertainty / 2\n",
    "        bm[lbl1][lbl2] = max(0, value - uncertainty / 2)\n",
    "    else:\n",
    "        bm[lbl2][lbl1] = max(0, value - uncertainty / 2)\n",
    "        bm[lbl1][lbl2] = value + uncertainty / 2\n",
    "\n",
    "    return bm"
   ]
  },
  {
   "cell_type": "code",
   "execution_count": 66,
   "metadata": {},
   "outputs": [
    {
     "data": {
      "text/plain": [
       "array([[  0.00000000e+00,   1.52400000e+00,   1.52400000e+00,\n",
       "          1.11940079e+00,   1.11940079e+00,   2.19506659e+00,\n",
       "          2.19506659e+00,   2.19506659e+00,   2.19506659e+00,\n",
       "          2.19506659e+00,   2.19506659e+00,   1.00000000e+03,\n",
       "          1.00000000e+03,   1.00000000e+03],\n",
       "       [  1.50400000e+00,   0.00000000e+00,   2.51279063e+00,\n",
       "          2.19506659e+00,   2.19506659e+00,   1.39040100e+00,\n",
       "          1.11940079e+00,   1.11940079e+00,   3.43890609e+00,\n",
       "          3.43890609e+00,   3.43890609e+00,   1.00000000e+03,\n",
       "          2.54034300e+00,   1.00000000e+03],\n",
       "       [  1.50400000e+00,   2.43279063e+00,   0.00000000e+00,\n",
       "          2.19506659e+00,   2.19506659e+00,   3.43890609e+00,\n",
       "          3.43890609e+00,   3.43890609e+00,   1.11940079e+00,\n",
       "          1.11940079e+00,   1.11940079e+00,   1.00000000e+03,\n",
       "          1.00000000e+03,   1.00000000e+03],\n",
       "       [  1.09940079e+00,   2.11506659e+00,   2.11506659e+00,\n",
       "          0.00000000e+00,   1.85196558e+00,   3.07538100e+00,\n",
       "          3.07538100e+00,   3.07538100e+00,   3.07538100e+00,\n",
       "          3.07538100e+00,   3.07538100e+00,   1.00000000e+03,\n",
       "          1.00000000e+03,   1.00000000e+03],\n",
       "       [  1.09940079e+00,   2.11506659e+00,   2.11506659e+00,\n",
       "          1.77196558e+00,   0.00000000e+00,   3.07538100e+00,\n",
       "          3.07538100e+00,   3.07538100e+00,   3.07538100e+00,\n",
       "          3.07538100e+00,   3.07538100e+00,   1.00000000e+03,\n",
       "          1.00000000e+03,   1.00000000e+03],\n",
       "       [  2.11506659e+00,   1.37040100e+00,   2.41995244e+00,\n",
       "          2.25465119e+00,   2.25465119e+00,   0.00000000e+00,\n",
       "          1.85196558e+00,   1.85196558e+00,   1.00000000e+03,\n",
       "          1.00000000e+03,   1.00000000e+03,   1.00000000e+03,\n",
       "          1.16707400e+00,   1.00000000e+03],\n",
       "       [  2.11506659e+00,   1.09940079e+00,   2.41995244e+00,\n",
       "          2.25465119e+00,   2.25465119e+00,   1.77196558e+00,\n",
       "          0.00000000e+00,   1.85196558e+00,   1.00000000e+03,\n",
       "          1.00000000e+03,   1.00000000e+03,   1.00000000e+03,\n",
       "          1.00000000e+03,   1.00000000e+03],\n",
       "       [  2.11506659e+00,   1.09940079e+00,   2.41995244e+00,\n",
       "          2.25465119e+00,   2.25465119e+00,   1.77196558e+00,\n",
       "          1.77196558e+00,   0.00000000e+00,   1.00000000e+03,\n",
       "          1.00000000e+03,   1.00000000e+03,   1.00000000e+03,\n",
       "          1.00000000e+03,   1.00000000e+03],\n",
       "       [  2.11506659e+00,   2.41995244e+00,   1.09940079e+00,\n",
       "          2.25465119e+00,   2.25465119e+00,   1.68000000e+00,\n",
       "          1.68000000e+00,   1.68000000e+00,   0.00000000e+00,\n",
       "          1.85196558e+00,   1.85196558e+00,   1.00000000e+03,\n",
       "          1.00000000e+03,   1.00000000e+03],\n",
       "       [  2.11506659e+00,   2.41995244e+00,   1.09940079e+00,\n",
       "          2.25465119e+00,   2.25465119e+00,   1.68000000e+00,\n",
       "          1.68000000e+00,   1.68000000e+00,   1.77196558e+00,\n",
       "          0.00000000e+00,   1.85196558e+00,   1.00000000e+03,\n",
       "          1.00000000e+03,   1.00000000e+03],\n",
       "       [  2.11506659e+00,   2.41995244e+00,   1.09940079e+00,\n",
       "          2.25465119e+00,   2.25465119e+00,   1.68000000e+00,\n",
       "          1.68000000e+00,   1.68000000e+00,   1.77196558e+00,\n",
       "          1.77196558e+00,   0.00000000e+00,   1.00000000e+03,\n",
       "          1.00000000e+03,   1.00000000e+03],\n",
       "       [  3.65000000e+00,   3.65000000e+00,   3.65000000e+00,\n",
       "          2.90000000e+00,   2.90000000e+00,   2.90000000e+00,\n",
       "          2.90000000e+00,   2.90000000e+00,   2.90000000e+00,\n",
       "          2.90000000e+00,   2.90000000e+00,   0.00000000e+00,\n",
       "          1.32600000e+00,   1.00025420e+00],\n",
       "       [  3.65000000e+00,   2.52034300e+00,   3.65000000e+00,\n",
       "          2.90000000e+00,   2.90000000e+00,   1.14707400e+00,\n",
       "          2.90000000e+00,   2.90000000e+00,   2.90000000e+00,\n",
       "          2.90000000e+00,   2.90000000e+00,   1.30600000e+00,\n",
       "          0.00000000e+00,   1.93274314e+00],\n",
       "       [  3.15000000e+00,   3.15000000e+00,   3.15000000e+00,\n",
       "          2.40000000e+00,   2.40000000e+00,   2.40000000e+00,\n",
       "          2.40000000e+00,   2.40000000e+00,   2.40000000e+00,\n",
       "          2.40000000e+00,   2.40000000e+00,   9.80254204e-01,\n",
       "          1.85274314e+00,   0.00000000e+00]])"
      ]
     },
     "execution_count": 66,
     "metadata": {},
     "output_type": "execute_result"
    }
   ],
   "source": [
    "lbl1, lbl2, lbl3 = labels\n",
    "\n",
    "sect = [] #rename for future\n",
    "for atom in merged_reacts.split()[1].atoms: sect.append(atom.sortingLabel)\n",
    "\n",
    "uncertainties = {'d12': 0.02, 'd13': 0.02, 'd23': 0.02}  # distanceData.uncertainties or {'d12':0.1, 'd13':0.1, 'd23':0.1 } # default if uncertainty is None\n",
    "bm = set_limits(bm, lbl1, lbl2, distance_data.distances['d12'], uncertainties['d12'])\n",
    "bm = set_limits(bm, lbl2, lbl3, distance_data.distances['d23'], uncertainties['d23'])\n",
    "bm = set_limits(bm, lbl1, lbl3, distance_data.distances['d13'], uncertainties['d13'])\n",
    "bm"
   ]
  },
  {
   "cell_type": "code",
   "execution_count": 67,
   "metadata": {},
   "outputs": [
    {
     "name": "stderr",
     "output_type": "stream",
     "text": [
      "<ipython-input-67-0083f93e28d9>:14 <module> INFO Changing lower limit 2.9 to 2.393074\n",
      "<ipython-input-67-0083f93e28d9>:14 <module> INFO Changing lower limit 3.65 to 3.26214059416\n",
      "<ipython-input-67-0083f93e28d9>:14 <module> INFO Changing lower limit 2.520343 to 2.457475\n"
     ]
    }
   ],
   "source": [
    "others = range(len(bm))\n",
    "for idx in sect: others.remove(idx)\n",
    "\n",
    "for i in range(len(bm)):#sect:\n",
    "    for j in range(i):#others:\n",
    "        if i<j: continue\n",
    "        for k in range(len(bm)):\n",
    "            if k==i or k==j or i==j: continue\n",
    "            Uik = bm[i,k] if k>i else bm[k,i]\n",
    "            Ukj = bm[j,k] if k>j else bm[k,j]\n",
    "\n",
    "            maxLij = Uik + Ukj - 0.1\n",
    "            if bm[i,j] >  maxLij:\n",
    "                logging.info(\"Changing lower limit {0} to {1}\".format(bm[i, j], maxLij))\n",
    "                bm[i,j] = maxLij\n"
   ]
  },
  {
   "cell_type": "code",
   "execution_count": 68,
   "metadata": {},
   "outputs": [
    {
     "data": {
      "text/plain": [
       "True"
      ]
     },
     "execution_count": 68,
     "metadata": {},
     "output_type": "execute_result"
    }
   ],
   "source": [
    "rdkit.DistanceGeometry.DoTriangleSmoothing(bm)\n",
    "# Triangle smoothing is??"
   ]
  },
  {
   "cell_type": "code",
   "execution_count": 69,
   "metadata": {},
   "outputs": [
    {
     "data": {
      "text/plain": [
       "array([[ 0.        ,  1.524     ,  1.524     ,  1.11940079,  1.11940079,\n",
       "         2.19506659,  2.19506659,  2.19506659,  2.19506659,  2.19506659,\n",
       "         2.19506659,  4.68814059,  3.36214059,  5.29488373],\n",
       "       [ 1.504     ,  0.        ,  2.51279063,  2.19506659,  2.19506659,\n",
       "         1.390401  ,  1.11940079,  1.11940079,  3.43890609,  3.43890609,\n",
       "         3.43890609,  3.866343  ,  2.540343  ,  4.47308614],\n",
       "       [ 1.504     ,  2.43279063,  0.        ,  2.19506659,  2.19506659,\n",
       "         3.43890609,  3.43890609,  3.43890609,  1.11940079,  1.11940079,\n",
       "         1.11940079,  5.93198009,  4.60598009,  6.53872323],\n",
       "       [ 1.09940079,  2.11506659,  2.11506659,  0.        ,  1.85196558,\n",
       "         3.075381  ,  3.075381  ,  3.075381  ,  3.075381  ,  3.075381  ,\n",
       "         3.075381  ,  5.568455  ,  4.242455  ,  6.17519814],\n",
       "       [ 1.09940079,  2.11506659,  2.11506659,  1.77196558,  0.        ,\n",
       "         3.075381  ,  3.075381  ,  3.075381  ,  3.075381  ,  3.075381  ,\n",
       "         3.075381  ,  5.568455  ,  4.242455  ,  6.17519814],\n",
       "       [ 2.11506659,  1.370401  ,  2.482926  ,  2.25465119,  2.25465119,\n",
       "         0.        ,  1.85196558,  1.85196558,  4.39013319,  4.39013319,\n",
       "         4.39013319,  2.493074  ,  1.167074  ,  3.09981714],\n",
       "       [ 2.11506659,  1.09940079,  2.41995244,  2.25465119,  2.25465119,\n",
       "         1.77196558,  0.        ,  1.85196558,  4.39013319,  4.39013319,\n",
       "         4.39013319,  4.34503958,  3.01903958,  4.95178272],\n",
       "       [ 2.11506659,  1.09940079,  2.41995244,  2.25465119,  2.25465119,\n",
       "         1.77196558,  1.77196558,  0.        ,  4.39013319,  4.39013319,\n",
       "         4.39013319,  4.34503958,  3.01903958,  4.95178272],\n",
       "       [ 2.11506659,  2.41995244,  1.09940079,  2.25465119,  2.25465119,\n",
       "         1.732926  ,  1.68      ,  1.68      ,  0.        ,  1.85196558,\n",
       "         1.85196558,  6.88320719,  5.55720719,  7.48995033],\n",
       "       [ 2.11506659,  2.41995244,  1.09940079,  2.25465119,  2.25465119,\n",
       "         1.732926  ,  1.68      ,  1.68      ,  1.77196558,  0.        ,\n",
       "         1.85196558,  6.88320719,  5.55720719,  7.48995033],\n",
       "       [ 2.11506659,  2.41995244,  1.09940079,  2.25465119,  2.25465119,\n",
       "         1.732926  ,  1.68      ,  1.68      ,  1.77196558,  1.77196558,\n",
       "         0.        ,  6.88320719,  5.55720719,  7.48995033],\n",
       "       [ 3.65      ,  3.65      ,  3.65      ,  2.9       ,  2.9       ,\n",
       "         2.393074  ,  2.9       ,  2.9       ,  2.9       ,  2.9       ,\n",
       "         2.9       ,  0.        ,  1.326     ,  1.0002542 ],\n",
       "       [ 3.26214059,  2.457475  ,  3.65      ,  2.9       ,  2.9       ,\n",
       "         1.147074  ,  2.9       ,  2.9       ,  2.9       ,  2.9       ,\n",
       "         2.9       ,  1.306     ,  0.        ,  1.93274314],\n",
       "       [ 3.15      ,  3.15      ,  3.15      ,  2.4       ,  2.4       ,\n",
       "         2.4       ,  2.4       ,  2.4       ,  2.4       ,  2.4       ,\n",
       "         2.4       ,  0.9802542 ,  1.85274314,  0.        ]])"
      ]
     },
     "execution_count": 69,
     "metadata": {},
     "output_type": "execute_result"
    }
   ],
   "source": [
    "bm"
   ]
  },
  {
   "cell_type": "code",
   "execution_count": 70,
   "metadata": {},
   "outputs": [
    {
     "data": {
      "text/html": [
       "<div id=\"3dmolviewer_152209859348\"  style=\"position: relative; width: 400px; height: 400px\">\n",
       "<script>\n",
       "if(typeof $3Dmolpromise === 'undefined') $3Dmolpromise = $.when($.getScript('https://3dmol.csb.pitt.edu/build/3Dmol.js'))\n",
       "var viewer_152209859348 = null;\n",
       "$3Dmolpromise.done(function() {\n",
       "viewer_152209859348 = $3Dmol.createViewer($(\"#3dmolviewer_152209859348\"),{backgroundColor:\"white\"});\n",
       "\tviewer_152209859348.addModel(\"\\n     RDKit          3D\\n\\n 14 12  0  0  0  0  0  0  0  0999 V2000\\n   -0.9958   -0.3452   -0.5019 C   0  0  0  0  0  0  0  0  0  0  0  0\\n   -0.0568   -1.1496    0.3098 C   0  0  0  0  0  0  0  0  0  0  0  0\\n   -1.4969    0.8258    0.3230 C   0  0  0  0  0  0  0  0  0  0  0  0\\n   -0.5258    0.1065   -1.4120 H   0  0  0  0  0  0  0  0  0  0  0  0\\n   -1.8050   -0.9919   -0.8690 H   0  0  0  0  0  0  0  0  0  0  0  0\\n    1.1442   -0.6364   -0.0690 H   0  0  0  0  0  0  0  0  0  0  0  0\\n    0.1121   -2.1783    0.0052 H   0  0  0  0  0  0  0  0  0  0  0  0\\n    0.0057   -0.9240    1.3702 H   0  0  0  0  0  0  0  0  0  0  0  0\\n   -2.1822    1.4824   -0.2394 H   0  0  0  0  0  0  0  0  0  0  0  0\\n   -1.9090    0.4783    1.2816 H   0  0  0  0  0  0  0  0  0  0  0  0\\n   -0.6048    1.4420    0.5677 H   0  0  0  0  0  0  0  0  0  0  0  0\\n    3.1783    0.6197   -0.0534 O   0  0  0  0  0  0  0  0  0  0  0  0\\n    2.2203   -0.2553   -0.3276 O   0  0  0  0  0  1  0  0  0  0  0  0\\n    2.9158    1.5261   -0.3851 H   0  0  0  0  0  0  0  0  0  0  0  0\\n  1  2  1  0\\n  1  3  1  0\\n  1  4  1  0\\n  1  5  1  0\\n  2  6  1  0\\n  2  7  1  0\\n  2  8  1  0\\n  3 11  1  0\\n  3 10  1  0\\n  3  9  1  0\\n 12 13  1  0\\n 12 14  1  0\\nM  RAD  1  13   2\\nM  END\\n\",\"sdf\");\n",
       "\tviewer_152209859348.setStyle({\"stick\": {}});\n",
       "\tviewer_152209859348.setBackgroundColor(\"0xeeeeee\");\n",
       "\tviewer_152209859348.zoomTo();\n",
       "viewer_152209859348.render();\n",
       "});\n",
       "</script>"
      ],
      "text/plain": [
       "<IPython.core.display.HTML object>"
      ]
     },
     "execution_count": 70,
     "metadata": {},
     "output_type": "execute_result"
    }
   ],
   "source": [
    "combined.RemoveAllConformers()\n",
    "for i in range(0, 1000):\n",
    "    try:\n",
    "        EmbedLib.EmbedMol(combined, bm, atomMatch=atomMatch)\n",
    "        break\n",
    "    except ValueError:\n",
    "        x = 3\n",
    "        logging.info(\"RDKit failed to embed on attempt {0} of {1}\".format(i + 1, 1000))\n",
    "        # What to do next (what if they all fail?) !!!!!\n",
    "    except RuntimeError:\n",
    "        logging.info(\"RDKit failed to embed.\")\n",
    "else:\n",
    "    logging.error(\"RDKit failed all attempts to embed\")\n",
    "    \n",
    "for i in range(len(combined.GetConformers())):\n",
    "    combined.GetConformers()[i].SetId(i)\n",
    "    \n",
    "view_mol(combined)"
   ]
  },
  {
   "cell_type": "code",
   "execution_count": 71,
   "metadata": {},
   "outputs": [
    {
     "data": {
      "text/html": [
       "<div id=\"3dmolviewer_152209860082\"  style=\"position: relative; width: 400px; height: 400px\">\n",
       "<script>\n",
       "if(typeof $3Dmolpromise === 'undefined') $3Dmolpromise = $.when($.getScript('https://3dmol.csb.pitt.edu/build/3Dmol.js'))\n",
       "var viewer_152209860082 = null;\n",
       "$3Dmolpromise.done(function() {\n",
       "viewer_152209860082 = $3Dmol.createViewer($(\"#3dmolviewer_152209860082\"),{backgroundColor:\"white\"});\n",
       "\tviewer_152209860082.addModel(\"\\n     RDKit          3D\\n\\n 14 12  0  0  0  0  0  0  0  0999 V2000\\n   -1.1592   -0.3665   -0.3709 C   0  0  0  0  0  0  0  0  0  0  0  0\\n   -0.0674   -1.2402    0.2354 C   0  0  0  0  0  0  0  0  0  0  0  0\\n   -1.1582    1.0259    0.2510 C   0  0  0  0  0  0  0  0  0  0  0  0\\n   -0.9899   -0.2790   -1.4655 H   0  0  0  0  0  0  0  0  0  0  0  0\\n   -2.1486   -0.8441   -0.2036 H   0  0  0  0  0  0  0  0  0  0  0  0\\n    1.1592   -0.6707    0.0243 H   0  0  0  0  0  0  0  0  0  0  0  0\\n   -0.0833   -2.2421   -0.2431 H   0  0  0  0  0  0  0  0  0  0  0  0\\n   -0.2329   -1.3638    1.3270 H   0  0  0  0  0  0  0  0  0  0  0  0\\n   -1.9610    1.6390   -0.2100 H   0  0  0  0  0  0  0  0  0  0  0  0\\n   -1.3447    0.9606    1.3442 H   0  0  0  0  0  0  0  0  0  0  0  0\\n   -0.1827    1.5272    0.0741 H   0  0  0  0  0  0  0  0  0  0  0  0\\n    3.1614    0.5889   -0.0653 O   0  0  0  0  0  0  0  0  0  0  0  0\\n    2.1558   -0.2163   -0.3341 O   0  0  0  0  0  1  0  0  0  0  0  0\\n    2.8515    1.4810   -0.3633 H   0  0  0  0  0  0  0  0  0  0  0  0\\n  1  2  1  0\\n  1  3  1  0\\n  1  4  1  0\\n  1  5  1  0\\n  2  6  1  0\\n  2  7  1  0\\n  2  8  1  0\\n  3 11  1  0\\n  3 10  1  0\\n  3  9  1  0\\n 12 13  1  0\\n 12 14  1  0\\nM  RAD  1  13   2\\nM  END\\n\",\"sdf\");\n",
       "\tviewer_152209860082.setStyle({\"stick\": {}});\n",
       "\tviewer_152209860082.setBackgroundColor(\"0xeeeeee\");\n",
       "\tviewer_152209860082.zoomTo();\n",
       "viewer_152209860082.render();\n",
       "});\n",
       "</script>"
      ],
      "text/plain": [
       "<IPython.core.display.HTML object>"
      ]
     },
     "execution_count": 71,
     "metadata": {},
     "output_type": "execute_result"
    }
   ],
   "source": [
    "energy = 0.0\n",
    "minEid = 0;\n",
    "lowestE = 9.999999e99;  # start with a very high number, which would never be reached\n",
    "crude = Chem.Mol(combined.ToBinary())\n",
    "\n",
    "for conf in combined.GetConformers():\n",
    "    if bm is None:\n",
    "        AllChem.UFFOptimizeMolecule(combined, confId=conf.GetId())\n",
    "        energy = AllChem.UFFGetMoleculeForceField(combined, confId=conf.GetId()).CalcEnergy()\n",
    "    else:\n",
    "        eBefore, energy = EmbedLib.OptimizeMol(combined, bm, atomMatches=atomMatch,\n",
    "                                               forceConstant=100000.0)\n",
    "\n",
    "    if energy < lowestE:\n",
    "        minEid = conf.GetId()\n",
    "        lowestE = energy\n",
    "        \n",
    "view_mol(combined)"
   ]
  },
  {
   "cell_type": "code",
   "execution_count": 72,
   "metadata": {},
   "outputs": [
    {
     "data": {
      "text/html": [
       "<html>\n",
       "\n",
       " <head>\n",
       "\n",
       "  <title>ASE atomic visualization</title>\n",
       "\n",
       "  <link rel=\"stylesheet\" type=\"text/css\"\n",
       "\n",
       "   href=\"https://www.x3dom.org/x3dom/release/x3dom.css\">\n",
       "\n",
       "  </link>\n",
       "\n",
       "  <script type=\"text/javascript\"\n",
       "\n",
       "   src=\"https://www.x3dom.org/x3dom/release/x3dom.js\">\n",
       "\n",
       "  </script>\n",
       "\n",
       " </head>\n",
       "\n",
       " <body>\n",
       "\n",
       "  <X3D style=\"margin:0; padding:0; width:100%; height:100%; border:none;\">\n",
       "\n",
       "   <Scene>\n",
       "\n",
       "    <Transform translation=\"-1.16 -0.37 -0.37\">\n",
       "\n",
       "     <Shape>\n",
       "\n",
       "      <Appearance>\n",
       "\n",
       "       <Material diffuseColor=\"0.565 0.565 0.565\" specularColor=\"0.5 0.5 0.5\">\n",
       "\n",
       "       </Material>\n",
       "\n",
       "      </Appearance>\n",
       "\n",
       "      <Sphere radius=\"0.76\">\n",
       "\n",
       "      </Sphere>\n",
       "\n",
       "     </Shape>\n",
       "\n",
       "    </Transform>\n",
       "\n",
       "    <Transform translation=\"-0.07 -1.24 0.24\">\n",
       "\n",
       "     <Shape>\n",
       "\n",
       "      <Appearance>\n",
       "\n",
       "       <Material diffuseColor=\"0.565 0.565 0.565\" specularColor=\"0.5 0.5 0.5\">\n",
       "\n",
       "       </Material>\n",
       "\n",
       "      </Appearance>\n",
       "\n",
       "      <Sphere radius=\"0.76\">\n",
       "\n",
       "      </Sphere>\n",
       "\n",
       "     </Shape>\n",
       "\n",
       "    </Transform>\n",
       "\n",
       "    <Transform translation=\"-1.16 1.03 0.25\">\n",
       "\n",
       "     <Shape>\n",
       "\n",
       "      <Appearance>\n",
       "\n",
       "       <Material diffuseColor=\"0.565 0.565 0.565\" specularColor=\"0.5 0.5 0.5\">\n",
       "\n",
       "       </Material>\n",
       "\n",
       "      </Appearance>\n",
       "\n",
       "      <Sphere radius=\"0.76\">\n",
       "\n",
       "      </Sphere>\n",
       "\n",
       "     </Shape>\n",
       "\n",
       "    </Transform>\n",
       "\n",
       "    <Transform translation=\"-0.99 -0.28 -1.47\">\n",
       "\n",
       "     <Shape>\n",
       "\n",
       "      <Appearance>\n",
       "\n",
       "       <Material diffuseColor=\"1.000 1.000 1.000\" specularColor=\"0.5 0.5 0.5\">\n",
       "\n",
       "       </Material>\n",
       "\n",
       "      </Appearance>\n",
       "\n",
       "      <Sphere radius=\"0.31\">\n",
       "\n",
       "      </Sphere>\n",
       "\n",
       "     </Shape>\n",
       "\n",
       "    </Transform>\n",
       "\n",
       "    <Transform translation=\"-2.15 -0.84 -0.20\">\n",
       "\n",
       "     <Shape>\n",
       "\n",
       "      <Appearance>\n",
       "\n",
       "       <Material diffuseColor=\"1.000 1.000 1.000\" specularColor=\"0.5 0.5 0.5\">\n",
       "\n",
       "       </Material>\n",
       "\n",
       "      </Appearance>\n",
       "\n",
       "      <Sphere radius=\"0.31\">\n",
       "\n",
       "      </Sphere>\n",
       "\n",
       "     </Shape>\n",
       "\n",
       "    </Transform>\n",
       "\n",
       "    <Transform translation=\"1.16 -0.67 0.02\">\n",
       "\n",
       "     <Shape>\n",
       "\n",
       "      <Appearance>\n",
       "\n",
       "       <Material diffuseColor=\"1.000 1.000 1.000\" specularColor=\"0.5 0.5 0.5\">\n",
       "\n",
       "       </Material>\n",
       "\n",
       "      </Appearance>\n",
       "\n",
       "      <Sphere radius=\"0.31\">\n",
       "\n",
       "      </Sphere>\n",
       "\n",
       "     </Shape>\n",
       "\n",
       "    </Transform>\n",
       "\n",
       "    <Transform translation=\"-0.08 -2.24 -0.24\">\n",
       "\n",
       "     <Shape>\n",
       "\n",
       "      <Appearance>\n",
       "\n",
       "       <Material diffuseColor=\"1.000 1.000 1.000\" specularColor=\"0.5 0.5 0.5\">\n",
       "\n",
       "       </Material>\n",
       "\n",
       "      </Appearance>\n",
       "\n",
       "      <Sphere radius=\"0.31\">\n",
       "\n",
       "      </Sphere>\n",
       "\n",
       "     </Shape>\n",
       "\n",
       "    </Transform>\n",
       "\n",
       "    <Transform translation=\"-0.23 -1.36 1.33\">\n",
       "\n",
       "     <Shape>\n",
       "\n",
       "      <Appearance>\n",
       "\n",
       "       <Material diffuseColor=\"1.000 1.000 1.000\" specularColor=\"0.5 0.5 0.5\">\n",
       "\n",
       "       </Material>\n",
       "\n",
       "      </Appearance>\n",
       "\n",
       "      <Sphere radius=\"0.31\">\n",
       "\n",
       "      </Sphere>\n",
       "\n",
       "     </Shape>\n",
       "\n",
       "    </Transform>\n",
       "\n",
       "    <Transform translation=\"-1.96 1.64 -0.21\">\n",
       "\n",
       "     <Shape>\n",
       "\n",
       "      <Appearance>\n",
       "\n",
       "       <Material diffuseColor=\"1.000 1.000 1.000\" specularColor=\"0.5 0.5 0.5\">\n",
       "\n",
       "       </Material>\n",
       "\n",
       "      </Appearance>\n",
       "\n",
       "      <Sphere radius=\"0.31\">\n",
       "\n",
       "      </Sphere>\n",
       "\n",
       "     </Shape>\n",
       "\n",
       "    </Transform>\n",
       "\n",
       "    <Transform translation=\"-1.34 0.96 1.34\">\n",
       "\n",
       "     <Shape>\n",
       "\n",
       "      <Appearance>\n",
       "\n",
       "       <Material diffuseColor=\"1.000 1.000 1.000\" specularColor=\"0.5 0.5 0.5\">\n",
       "\n",
       "       </Material>\n",
       "\n",
       "      </Appearance>\n",
       "\n",
       "      <Sphere radius=\"0.31\">\n",
       "\n",
       "      </Sphere>\n",
       "\n",
       "     </Shape>\n",
       "\n",
       "    </Transform>\n",
       "\n",
       "    <Transform translation=\"-0.18 1.53 0.07\">\n",
       "\n",
       "     <Shape>\n",
       "\n",
       "      <Appearance>\n",
       "\n",
       "       <Material diffuseColor=\"1.000 1.000 1.000\" specularColor=\"0.5 0.5 0.5\">\n",
       "\n",
       "       </Material>\n",
       "\n",
       "      </Appearance>\n",
       "\n",
       "      <Sphere radius=\"0.31\">\n",
       "\n",
       "      </Sphere>\n",
       "\n",
       "     </Shape>\n",
       "\n",
       "    </Transform>\n",
       "\n",
       "    <Transform translation=\"3.16 0.59 -0.07\">\n",
       "\n",
       "     <Shape>\n",
       "\n",
       "      <Appearance>\n",
       "\n",
       "       <Material diffuseColor=\"1.000 0.051 0.051\" specularColor=\"0.5 0.5 0.5\">\n",
       "\n",
       "       </Material>\n",
       "\n",
       "      </Appearance>\n",
       "\n",
       "      <Sphere radius=\"0.66\">\n",
       "\n",
       "      </Sphere>\n",
       "\n",
       "     </Shape>\n",
       "\n",
       "    </Transform>\n",
       "\n",
       "    <Transform translation=\"2.16 -0.22 -0.33\">\n",
       "\n",
       "     <Shape>\n",
       "\n",
       "      <Appearance>\n",
       "\n",
       "       <Material diffuseColor=\"1.000 0.051 0.051\" specularColor=\"0.5 0.5 0.5\">\n",
       "\n",
       "       </Material>\n",
       "\n",
       "      </Appearance>\n",
       "\n",
       "      <Sphere radius=\"0.66\">\n",
       "\n",
       "      </Sphere>\n",
       "\n",
       "     </Shape>\n",
       "\n",
       "    </Transform>\n",
       "\n",
       "    <Transform translation=\"2.85 1.48 -0.36\">\n",
       "\n",
       "     <Shape>\n",
       "\n",
       "      <Appearance>\n",
       "\n",
       "       <Material diffuseColor=\"1.000 1.000 1.000\" specularColor=\"0.5 0.5 0.5\">\n",
       "\n",
       "       </Material>\n",
       "\n",
       "      </Appearance>\n",
       "\n",
       "      <Sphere radius=\"0.31\">\n",
       "\n",
       "      </Sphere>\n",
       "\n",
       "     </Shape>\n",
       "\n",
       "    </Transform>\n",
       "\n",
       "   </Scene>\n",
       "\n",
       "  </X3D>\n",
       "\n",
       " </body>\n",
       "\n",
       "</html>\n",
       "\n"
      ],
      "text/plain": [
       "<IPython.core.display.HTML object>"
      ]
     },
     "execution_count": 72,
     "metadata": {},
     "output_type": "execute_result"
    }
   ],
   "source": [
    "mol_list = AllChem.MolToMolBlock(combined).split('\\n')\n",
    "ase_atoms = []\n",
    "for i, line in enumerate(mol_list):\n",
    "\n",
    "    if i > 3:\n",
    "\n",
    "        try:\n",
    "            atom0, atom1, bond, rest = line\n",
    "            atom0 = int(atom0)\n",
    "            atom0 = int(atom1)\n",
    "            bond = float(bond)\n",
    "\n",
    "        except ValueError:\n",
    "            try:\n",
    "                x, y, z, symbol = line.split()[0:4]\n",
    "                x = float(x)\n",
    "                y = float(y)\n",
    "                z = float(z)\n",
    "                # print symbol\n",
    "\n",
    "                ase_atoms.append(Atom(symbol=symbol, position=(x, y, z)))\n",
    "\n",
    "            except:\n",
    "                continue\n",
    "\n",
    "ase_ts = Atoms(ase_atoms)\n",
    "view(ase_ts, viewer='x3d')"
   ]
  },
  {
   "cell_type": "markdown",
   "metadata": {},
   "source": [
    "# Now to show how to use calculators!"
   ]
  },
  {
   "cell_type": "code",
   "execution_count": 73,
   "metadata": {},
   "outputs": [
    {
     "data": {
      "text/plain": [
       "{'basis': '6-311+g(2df,2p)',\n",
       " 'charge': 0,\n",
       " 'mem': '5GB',\n",
       " 'method': 'm062x',\n",
       " 'multiplicity': 2,\n",
       " 'nprocshared': '20'}"
      ]
     },
     "execution_count": 73,
     "metadata": {},
     "output_type": "execute_result"
    }
   ],
   "source": [
    "from ase.calculators.gaussian import *\n",
    "\n",
    "calc = Gaussian(mem=\"5GB\", \n",
    "                nprocshared=\"20\", \n",
    "                label=\"test\", \n",
    "                scratch=\"/gss_gpfs_scratch/harms.n/drug_conformer\", \n",
    "                method=\"m062x\", \n",
    "                basis=\"6-311+g(2df,2p)\",\n",
    "                extra=\"opt=(ts,calcfc,noeigentest) freq\",\n",
    "                multiplicity = merged_reacts.multiplicity)\n",
    "del calc.parameters['force']\n",
    "calc.parameters"
   ]
  },
  {
   "cell_type": "code",
   "execution_count": 74,
   "metadata": {
    "collapsed": true
   },
   "outputs": [],
   "source": [
    "calc.write_input(ase_ts)"
   ]
  },
  {
   "cell_type": "code",
   "execution_count": 41,
   "metadata": {},
   "outputs": [
    {
     "ename": "RuntimeError",
     "evalue": "Gaussian in . returned an error: 127",
     "output_type": "error",
     "traceback": [
      "\u001b[0;31m---------------------------------------------------------------------------\u001b[0m",
      "\u001b[0;31mRuntimeError\u001b[0m                              Traceback (most recent call last)",
      "\u001b[0;32m<ipython-input-41-5017845e70fe>\u001b[0m in \u001b[0;36m<module>\u001b[0;34m()\u001b[0m\n\u001b[0;32m----> 1\u001b[0;31m \u001b[0mcalc\u001b[0m\u001b[0;34m.\u001b[0m\u001b[0mcalculate\u001b[0m\u001b[0;34m(\u001b[0m\u001b[0mase_ts\u001b[0m\u001b[0;34m)\u001b[0m\u001b[0;34m\u001b[0m\u001b[0m\n\u001b[0m",
      "\u001b[0;32m/Users/nathan/Code/ase/ase/calculators/calculator.pyc\u001b[0m in \u001b[0;36mcalculate\u001b[0;34m(self, atoms, properties, system_changes)\u001b[0m\n\u001b[1;32m    647\u001b[0m         \u001b[0;32mif\u001b[0m \u001b[0merrorcode\u001b[0m\u001b[0;34m:\u001b[0m\u001b[0;34m\u001b[0m\u001b[0m\n\u001b[1;32m    648\u001b[0m             raise RuntimeError('{} in {} returned an error: {}'\n\u001b[0;32m--> 649\u001b[0;31m                                .format(self.name, self.directory, errorcode))\n\u001b[0m\u001b[1;32m    650\u001b[0m         \u001b[0mself\u001b[0m\u001b[0;34m.\u001b[0m\u001b[0mread_results\u001b[0m\u001b[0;34m(\u001b[0m\u001b[0;34m)\u001b[0m\u001b[0;34m\u001b[0m\u001b[0m\n\u001b[1;32m    651\u001b[0m \u001b[0;34m\u001b[0m\u001b[0m\n",
      "\u001b[0;31mRuntimeError\u001b[0m: Gaussian in . returned an error: 127"
     ]
    }
   ],
   "source": [
    "calc.calculate(ase_ts)"
   ]
  },
  {
   "cell_type": "code",
   "execution_count": null,
   "metadata": {
    "collapsed": true
   },
   "outputs": [],
   "source": []
  }
 ],
 "metadata": {
  "kernelspec": {
   "display_name": "Python 2",
   "language": "python",
   "name": "python2"
  },
  "language_info": {
   "codemirror_mode": {
    "name": "ipython",
    "version": 2
   },
   "file_extension": ".py",
   "mimetype": "text/x-python",
   "name": "python",
   "nbconvert_exporter": "python",
   "pygments_lexer": "ipython2",
   "version": "2.7.13"
  }
 },
 "nbformat": 4,
 "nbformat_minor": 2
}
