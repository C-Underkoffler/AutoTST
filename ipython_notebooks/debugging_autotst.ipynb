{
 "cells": [
  {
   "cell_type": "code",
   "execution_count": 1,
   "metadata": {},
   "outputs": [
    {
     "name": "stderr",
     "output_type": "stream",
     "text": [
      "thermo.py:839 loadLibraries INFO Loading thermodynamics library from primaryThermoLibrary.py in /Users/nathan/Code/RMG-Py/../RMG-database/input/thermo/libraries...\n",
      "thermo.py:839 loadLibraries INFO Loading thermodynamics library from thermo_DFT_CCSDTF12_BAC.py in /Users/nathan/Code/RMG-Py/../RMG-database/input/thermo/libraries...\n",
      "thermo.py:839 loadLibraries INFO Loading thermodynamics library from CBS_QB3_1dHR.py in /Users/nathan/Code/RMG-Py/../RMG-database/input/thermo/libraries...\n",
      "thermo.py:856 loadGroups INFO Loading thermodynamics group database from /Users/nathan/Code/RMG-Py/../RMG-database/input/thermo/groups...\n",
      "transport.py:294 loadGroups INFO Loading transport group database from /Users/nathan/Code/RMG-Py/../RMG-database/input/transport/groups...\n",
      "database.py:167 loadFamilies INFO Loading the user-specified kinetics families from /Users/nathan/Code/RMG-Py/../RMG-database/input/kinetics/families\n",
      "statmech.py:526 loadGroups INFO Loading frequencies group database from /Users/nathan/Code/RMG-Py/../RMG-database/input/statmech/groups...\n",
      "database.py:127 load INFO Loading transitions state family groups from /Users/nathan/Code/RMG-Py/../AutoTST/database/H_Abstraction/TS_groups.py\n"
     ]
    }
   ],
   "source": [
    "from autotst.reaction import *\n",
    "from autotst.molecule import *\n",
    "from autotst.conformer.utilities import *\n",
    "from autotst.conformer.simple_es import *\n",
    "from autotst.conformer.ga import *\n",
    "from autotst.conformer.brute_force import *\n",
    "import time\n",
    "\n",
    "from ase.visualize import view"
   ]
  },
  {
   "cell_type": "code",
   "execution_count": 2,
   "metadata": {},
   "outputs": [
    {
     "name": "stderr",
     "output_type": "stream",
     "text": [
      "reaction.py:122 __init__ INFO Label provided: CCCCC+[O]O_[CH2]CCCC+OO\n",
      "reaction.py:123 __init__ INFO Family provided: H_Abstraction\n",
      "reaction.py:233 get_rmg_reactions INFO The distance data is as follows: \n",
      "DistanceData(distances={'d12': 1.380401,'d13': 2.530343,'d23': 1.157074,}, uncertainties={'d12': 0.385038,'d13': 0.208449,'d23': 0.303191,}, comment=u'Matched node C/H3/Cs ([<Entry index=118 label=\"C/H3/Cs\">, <Entry index=262 label=\"Cdj_CdsCs\">])\\nMatched node OjO ([<Entry index=126 label=\"C/H2/Cd/Cd\">, <Entry index=32 label=\"OjO\">])\\n')\n",
      "reaction.py:351 get_labels INFO The labled atoms are [2, 8, 0].\n",
      "reaction.py:296 create_rdkit_ts_geometry INFO Initially embedded molecule\n",
      "reaction.py:299 create_rdkit_ts_geometry INFO Editing bounds matrix\n",
      "reaction.py:366 set_limits INFO For atoms 2 and 8 we have a distance of: \t 1.380401\n",
      "reaction.py:366 set_limits INFO For atoms 8 and 0 we have a distance of: \t 1.157074\n",
      "reaction.py:366 set_limits INFO For atoms 2 and 0 we have a distance of: \t 2.530343\n",
      "reaction.py:421 bm_pre_edit INFO Changing lower limit 2.520343 to 2.457475\n",
      "reaction.py:421 bm_pre_edit INFO Changing lower limit 3.65 to 3.26214059416\n",
      "reaction.py:421 bm_pre_edit INFO Changing lower limit 2.9 to 2.393074\n",
      "reaction.py:303 create_rdkit_ts_geometry INFO Performing triangle smoothing on bounds matrix.\n",
      "reaction.py:308 create_rdkit_ts_geometry INFO Now attempting to embed using edited bounds matrix.\n"
     ]
    },
    {
     "data": {
      "text/plain": [
       "<autotst.reaction.AutoTST_Reaction instance at 0x112a69b00>"
      ]
     },
     "execution_count": 2,
     "metadata": {},
     "output_type": "execute_result"
    }
   ],
   "source": [
    "rxn = AutoTST_Reaction(\"CCCCC+[O]O_[CH2]CCCC+OO\", \"H_Abstraction\")\n",
    "rxn"
   ]
  },
  {
   "cell_type": "code",
   "execution_count": 3,
   "metadata": {},
   "outputs": [],
   "source": [
    "view(rxn.ts.ase_ts)"
   ]
  },
  {
   "cell_type": "code",
   "execution_count": 4,
   "metadata": {},
   "outputs": [
    {
     "data": {
      "text/plain": [
       "([Molecule(SMILES=\"CCCCC\"), Molecule(SMILES=\"[O]O\")],\n",
       " [Molecule(SMILES=\"[CH2]CCCC\"), Molecule(SMILES=\"OO\")])"
      ]
     },
     "execution_count": 4,
     "metadata": {},
     "output_type": "execute_result"
    }
   ],
   "source": [
    "r1 = AutoTST_Molecule(\"CCCCC\")\n",
    "r2 = AutoTST_Molecule(\"[O]O\")\n",
    "p1 = AutoTST_Molecule(\"[CH2]CCCC\")\n",
    "p2 = AutoTST_Molecule(\"OO\")\n",
    "\n",
    "reacts = [r1, r2]\n",
    "prods = [p1, p2]\n",
    "rmg_reacts = []\n",
    "rmg_prods = []\n",
    "for reactant_mol in reacts:\n",
    "    rmg_reacts.append(reactant_mol.rmg_molecule)\n",
    "\n",
    "for product_mol in prods:\n",
    "    rmg_prods.append(product_mol.rmg_molecule)\n",
    "\n",
    "#rmg_reacts = [r1.rmg_molecule, r2.rmg_molecule]\n",
    "#rmg_prods = [p1.rmg_molecule, p2.rmg_molecule]\n",
    "rmg_reacts, rmg_prods"
   ]
  },
  {
   "cell_type": "code",
   "execution_count": 5,
   "metadata": {},
   "outputs": [],
   "source": [
    "labeled_r, labeled_p = family.getLabeledReactantsAndProducts(rmg_reacts, rmg_prods)"
   ]
  },
  {
   "cell_type": "code",
   "execution_count": 6,
   "metadata": {},
   "outputs": [
    {
     "data": {
      "image/png": "[encoded data removed]",
      "text/plain": [
       "Reaction(reactants=[Molecule(SMILES=\"CCCCC\"), Molecule(SMILES=\"[O]O\")], products=[Molecule(SMILES=\"OO\"), Molecule(SMILES=\"[CH2]CCCC\")])"
      ]
     },
     "execution_count": 6,
     "metadata": {},
     "output_type": "execute_result"
    }
   ],
   "source": [
    "labeled_rxn = Reaction(reactants=labeled_r, products=labeled_p)\n",
    "labeled_rxn"
   ]
  },
  {
   "cell_type": "code",
   "execution_count": 7,
   "metadata": {},
   "outputs": [
    {
     "name": "stdout",
     "output_type": "stream",
     "text": [
      "<type 'rmgpy.molecule.molecule.Molecule'>\n",
      "[TemplateReaction(reactants=[Molecule(SMILES=\"CCCCC\"), Molecule(SMILES=\"[O]O\")], products=[Molecule(SMILES=\"OO\"), Molecule(SMILES=\"[CH2]CCCC\")], pairs=[[Molecule(SMILES=\"CCCCC\"), Molecule(SMILES=\"[CH2]CCCC\")], [Molecule(SMILES=\"[O]O\"), Molecule(SMILES=\"OO\")]], family='H_Abstraction', template=['C/H3/Cs', 'OjO'])]\n"
     ]
    },
    {
     "data": {
      "image/png": "[encoded data removed]",
      "text/plain": [
       "TemplateReaction(reactants=[Molecule(SMILES=\"CCCCC\"), Molecule(SMILES=\"[O]O\")], products=[Molecule(SMILES=\"OO\"), Molecule(SMILES=\"[CH2]CCCC\")], pairs=[[Molecule(SMILES=\"CCCCC\"), Molecule(SMILES=\"[CH2]CCCC\")], [Molecule(SMILES=\"[O]O\"), Molecule(SMILES=\"OO\")]], family='H_Abstraction', template=['C/H3/Cs', 'OjO'])"
      ]
     },
     "execution_count": 7,
     "metadata": {},
     "output_type": "execute_result"
    }
   ],
   "source": [
    "for rxn in family.generateReactions(rmg_reacts, rmg_prods):\n",
    "    if labeled_rxn.isIsomorphic(rxn):\n",
    "        print type(rxn.reactants[0])\n",
    "        rxn.reactants = labeled_rxn.reactants\n",
    "        rxn.products = labeled_rxn.products\n",
    "        break\n",
    "        \n",
    "print [rxn]\n",
    "rxn"
   ]
  },
  {
   "cell_type": "code",
   "execution_count": 8,
   "metadata": {},
   "outputs": [
    {
     "data": {
      "text/plain": [
       "DistanceData(distances={'d12': 1.380401,'d13': 2.530343,'d23': 1.157074,}, uncertainties={'d12': 0.385038,'d13': 0.208449,'d23': 0.303191,}, comment=u'Matched node C/H3/Cs ([<Entry index=118 label=\"C/H3/Cs\">, <Entry index=262 label=\"Cdj_CdsCs\">])\\nMatched node OjO ([<Entry index=126 label=\"C/H2/Cd/Cd\">, <Entry index=32 label=\"OjO\">])\\n')"
      ]
     },
     "execution_count": 8,
     "metadata": {},
     "output_type": "execute_result"
    }
   ],
   "source": [
    "ts_database.groups.estimateDistancesUsingGroupAdditivity(rxn)"
   ]
  },
  {
   "cell_type": "code",
   "execution_count": 9,
   "metadata": {},
   "outputs": [
    {
     "data": {
      "image/png": "[encoded data removed]",
      "text/plain": [
       "Molecule(SMILES=\"CCCCC.[O]O\", multiplicity=-187)"
      ]
     },
     "execution_count": 9,
     "metadata": {},
     "output_type": "execute_result"
    }
   ],
   "source": [
    "merged_reacts = Molecule.merge(rxn.reactants[0], rxn.reactants[1])\n",
    "\n",
    "merged_prods = Molecule.merge(rxn.products[0], rxn.products[1])\n",
    "\n",
    "merged_reacts"
   ]
  },
  {
   "cell_type": "code",
   "execution_count": 10,
   "metadata": {},
   "outputs": [],
   "source": [
    "merged_reacts.updateMultiplicity()\n",
    "#merged_reacts.multiplicity"
   ]
  },
  {
   "cell_type": "code",
   "execution_count": 11,
   "metadata": {},
   "outputs": [],
   "source": [
    "import py3Dmol"
   ]
  },
  {
   "cell_type": "code",
   "execution_count": 12,
   "metadata": {},
   "outputs": [],
   "source": [
    "def view_mol(mol):\n",
    "    \"\"\"\n",
    "    A method designed to create a 3D figure of the Multi_Molecule with py3Dmol\n",
    "    \"\"\"\n",
    "\n",
    "    mb = Chem.MolToMolBlock(mol)\n",
    "    p = py3Dmol.view(width=400, height=400)\n",
    "    p.addModel(mb, \"sdf\")\n",
    "    p.setStyle({'stick':{}})\n",
    "    p.setBackgroundColor('0xeeeeee')\n",
    "    p.zoomTo()\n",
    "    return p.show()"
   ]
  },
  {
   "cell_type": "code",
   "execution_count": 13,
   "metadata": {},
   "outputs": [
    {
     "data": {
      "text/html": [
       "<div id=\"3dmolviewer_152276653185\"  style=\"position: relative; width: 400px; height: 400px\">\n",
       "<script>\n",
       "if(typeof $3Dmolpromise === 'undefined') $3Dmolpromise = $.when($.getScript('https://3dmol.csb.pitt.edu/build/3Dmol.js'))\n",
       "var viewer_152276653185 = null;\n",
       "$3Dmolpromise.done(function() {\n",
       "viewer_152276653185 = $3Dmol.createViewer($(\"#3dmolviewer_152276653185\"),{backgroundColor:\"white\"});\n",
       "\tviewer_152276653185.addModel(\"\\n     RDKit          3D\\n\\n 20 18  0  0  0  0  0  0  0  0999 V2000\\n    1.0295   -0.1582    0.0000 O   0  0  0  0  0  1  0  0  0  0  0  0\\n   -0.1605    0.4240   -0.0000 O   0  0  0  0  0  0  0  0  0  0  0  0\\n   -2.2924    0.0956    0.6440 C   0  0  0  0  0  0  0  0  0  0  0  0\\n    2.3763    0.1616    0.3222 C   0  0  0  0  0  0  0  0  0  0  0  0\\n   -1.2844   -0.3609   -0.4042 C   0  0  0  0  0  0  0  0  0  0  0  0\\n    1.0526    0.4555   -0.3691 C   0  0  0  0  0  0  0  0  0  0  0  0\\n    0.0362   -0.4695    0.2956 C   0  0  0  0  0  0  0  0  0  0  0  0\\n   -0.8690   -0.2658   -0.0000 H   0  0  0  0  0  0  0  0  0  0  0  0\\n   -3.3075   -0.0741    0.2541 H   0  0  0  0  0  0  0  0  0  0  0  0\\n   -2.1075   -0.4251    1.5968 H   0  0  0  0  0  0  0  0  0  0  0  0\\n   -2.0665    1.1738    0.8287 H   0  0  0  0  0  0  0  0  0  0  0  0\\n    3.2158    0.1730   -0.3956 H   0  0  0  0  0  0  0  0  0  0  0  0\\n    2.3633   -0.8391    0.8167 H   0  0  0  0  0  0  0  0  0  0  0  0\\n    2.5958    0.8918    1.1253 H   0  0  0  0  0  0  0  0  0  0  0  0\\n   -1.2180    0.3876   -1.2140 H   0  0  0  0  0  0  0  0  0  0  0  0\\n   -1.5783   -1.3475   -0.8035 H   0  0  0  0  0  0  0  0  0  0  0  0\\n    0.0069   -0.1249    1.3600 H   0  0  0  0  0  0  0  0  0  0  0  0\\n    0.4024   -1.5071    0.3376 H   0  0  0  0  0  0  0  0  0  0  0  0\\n    0.7124    1.4879   -0.1142 H   0  0  0  0  0  0  0  0  0  0  0  0\\n    1.0930    0.3214   -1.4568 H   0  0  0  0  0  0  0  0  0  0  0  0\\n  1  2  1  0\\n  2  8  1  0\\n  3  9  1  0\\n  3 10  1  0\\n  3 11  1  0\\n  3  5  1  0\\n  4 12  1  0\\n  4 13  1  0\\n  4 14  1  0\\n  4  6  1  0\\n  5  7  1  0\\n  5 16  1  0\\n  5 15  1  0\\n  6 19  1  0\\n  6 20  1  0\\n  6  7  1  0\\n  7 17  1  0\\n  7 18  1  0\\nM  RAD  1   1   2\\nM  END\\n\",\"sdf\");\n",
       "\tviewer_152276653185.setStyle({\"stick\": {}});\n",
       "\tviewer_152276653185.setBackgroundColor(\"0xeeeeee\");\n",
       "\tviewer_152276653185.zoomTo();\n",
       "viewer_152276653185.render();\n",
       "});\n",
       "</script>"
      ],
      "text/plain": [
       "<IPython.core.display.HTML object>"
      ]
     },
     "execution_count": 13,
     "metadata": {},
     "output_type": "execute_result"
    }
   ],
   "source": [
    "rdmol = merged_reacts.toRDKitMol(removeHs=False)\n",
    "Chem.rdDistGeom.EmbedMolecule(rdmol)\n",
    "view_mol(rdmol)"
   ]
  },
  {
   "cell_type": "code",
   "execution_count": 14,
   "metadata": {},
   "outputs": [
    {
     "data": {
      "text/plain": [
       "array([[0.00000000e+00, 1.32600000e+00, 1.00000000e+03, 1.00000000e+03,\n",
       "        1.00000000e+03, 1.00000000e+03, 1.00000000e+03, 1.93274314e+00,\n",
       "        1.00000000e+03, 1.00000000e+03, 1.00000000e+03, 1.00000000e+03,\n",
       "        1.00000000e+03, 1.00000000e+03, 1.00000000e+03, 1.00000000e+03,\n",
       "        1.00000000e+03, 1.00000000e+03, 1.00000000e+03, 1.00000000e+03],\n",
       "       [1.30600000e+00, 0.00000000e+00, 1.00000000e+03, 1.00000000e+03,\n",
       "        1.00000000e+03, 1.00000000e+03, 1.00000000e+03, 1.00025420e+00,\n",
       "        1.00000000e+03, 1.00000000e+03, 1.00000000e+03, 1.00000000e+03,\n",
       "        1.00000000e+03, 1.00000000e+03, 1.00000000e+03, 1.00000000e+03,\n",
       "        1.00000000e+03, 1.00000000e+03, 1.00000000e+03, 1.00000000e+03],\n",
       "       [3.65000000e+00, 3.65000000e+00, 0.00000000e+00, 1.00000000e+03,\n",
       "        1.52400000e+00, 3.81071948e+00, 2.51279063e+00, 1.00000000e+03,\n",
       "        1.11940079e+00, 1.11940079e+00, 1.11940079e+00, 1.00000000e+03,\n",
       "        1.00000000e+03, 1.00000000e+03, 2.19506659e+00, 2.19506659e+00,\n",
       "        3.43890609e+00, 3.43890609e+00, 1.00000000e+03, 1.00000000e+03],\n",
       "       [3.65000000e+00, 3.65000000e+00, 2.73000000e+00, 0.00000000e+00,\n",
       "        3.81071948e+00, 1.52400000e+00, 2.51279063e+00, 1.00000000e+03,\n",
       "        1.00000000e+03, 1.00000000e+03, 1.00000000e+03, 1.11940079e+00,\n",
       "        1.11940079e+00, 1.11940079e+00, 1.00000000e+03, 1.00000000e+03,\n",
       "        3.43890609e+00, 3.43890609e+00, 2.19506659e+00, 2.19506659e+00],\n",
       "       [3.65000000e+00, 3.65000000e+00, 1.50400000e+00, 2.52476717e+00,\n",
       "        0.00000000e+00, 2.51279063e+00, 1.52400000e+00, 1.00000000e+03,\n",
       "        2.19506659e+00, 2.19506659e+00, 2.19506659e+00, 1.00000000e+03,\n",
       "        1.00000000e+03, 1.00000000e+03, 1.11940079e+00, 1.11940079e+00,\n",
       "        2.19506659e+00, 2.19506659e+00, 3.43890609e+00, 3.43890609e+00],\n",
       "       [3.65000000e+00, 3.65000000e+00, 2.52476717e+00, 1.50400000e+00,\n",
       "        2.43279063e+00, 0.00000000e+00, 1.52400000e+00, 1.00000000e+03,\n",
       "        1.00000000e+03, 1.00000000e+03, 1.00000000e+03, 2.19506659e+00,\n",
       "        2.19506659e+00, 2.19506659e+00, 3.43890609e+00, 3.43890609e+00,\n",
       "        2.19506659e+00, 2.19506659e+00, 1.11940079e+00, 1.11940079e+00],\n",
       "       [3.65000000e+00, 3.65000000e+00, 2.43279063e+00, 2.43279063e+00,\n",
       "        1.50400000e+00, 1.50400000e+00, 0.00000000e+00, 1.00000000e+03,\n",
       "        3.43890609e+00, 3.43890609e+00, 3.43890609e+00, 3.43890609e+00,\n",
       "        3.43890609e+00, 3.43890609e+00, 2.19506659e+00, 2.19506659e+00,\n",
       "        1.11940079e+00, 1.11940079e+00, 2.19506659e+00, 2.19506659e+00],\n",
       "       [1.85274314e+00, 9.80254204e-01, 3.15000000e+00, 3.15000000e+00,\n",
       "        3.15000000e+00, 3.15000000e+00, 3.15000000e+00, 0.00000000e+00,\n",
       "        1.00000000e+03, 1.00000000e+03, 1.00000000e+03, 1.00000000e+03,\n",
       "        1.00000000e+03, 1.00000000e+03, 1.00000000e+03, 1.00000000e+03,\n",
       "        1.00000000e+03, 1.00000000e+03, 1.00000000e+03, 1.00000000e+03],\n",
       "       [2.90000000e+00, 2.90000000e+00, 1.09940079e+00, 2.67750000e+00,\n",
       "        2.11506659e+00, 2.20500000e+00, 2.41995244e+00, 2.40000000e+00,\n",
       "        0.00000000e+00, 1.85196558e+00, 1.85196558e+00, 1.00000000e+03,\n",
       "        1.00000000e+03, 1.00000000e+03, 3.07538100e+00, 3.07538100e+00,\n",
       "        1.00000000e+03, 1.00000000e+03, 1.00000000e+03, 1.00000000e+03],\n",
       "       [2.90000000e+00, 2.90000000e+00, 1.09940079e+00, 2.67750000e+00,\n",
       "        2.11506659e+00, 2.20500000e+00, 2.41995244e+00, 2.40000000e+00,\n",
       "        1.77196558e+00, 0.00000000e+00, 1.85196558e+00, 1.00000000e+03,\n",
       "        1.00000000e+03, 1.00000000e+03, 3.07538100e+00, 3.07538100e+00,\n",
       "        1.00000000e+03, 1.00000000e+03, 1.00000000e+03, 1.00000000e+03],\n",
       "       [2.90000000e+00, 2.90000000e+00, 1.09940079e+00, 2.67750000e+00,\n",
       "        2.11506659e+00, 2.20500000e+00, 2.41995244e+00, 2.40000000e+00,\n",
       "        1.77196558e+00, 1.77196558e+00, 0.00000000e+00, 1.00000000e+03,\n",
       "        1.00000000e+03, 1.00000000e+03, 3.07538100e+00, 3.07538100e+00,\n",
       "        1.00000000e+03, 1.00000000e+03, 1.00000000e+03, 1.00000000e+03],\n",
       "       [2.90000000e+00, 2.90000000e+00, 2.67750000e+00, 1.09940079e+00,\n",
       "        2.20500000e+00, 2.11506659e+00, 2.41995244e+00, 2.40000000e+00,\n",
       "        2.40000000e+00, 2.40000000e+00, 2.40000000e+00, 0.00000000e+00,\n",
       "        1.85196558e+00, 1.85196558e+00, 1.00000000e+03, 1.00000000e+03,\n",
       "        1.00000000e+03, 1.00000000e+03, 3.07538100e+00, 3.07538100e+00],\n",
       "       [2.90000000e+00, 2.90000000e+00, 2.67750000e+00, 1.09940079e+00,\n",
       "        2.20500000e+00, 2.11506659e+00, 2.41995244e+00, 2.40000000e+00,\n",
       "        2.40000000e+00, 2.40000000e+00, 2.40000000e+00, 1.77196558e+00,\n",
       "        0.00000000e+00, 1.85196558e+00, 1.00000000e+03, 1.00000000e+03,\n",
       "        1.00000000e+03, 1.00000000e+03, 3.07538100e+00, 3.07538100e+00],\n",
       "       [2.90000000e+00, 2.90000000e+00, 2.67750000e+00, 1.09940079e+00,\n",
       "        2.20500000e+00, 2.11506659e+00, 2.41995244e+00, 2.40000000e+00,\n",
       "        2.40000000e+00, 2.40000000e+00, 2.40000000e+00, 1.77196558e+00,\n",
       "        1.77196558e+00, 0.00000000e+00, 1.00000000e+03, 1.00000000e+03,\n",
       "        1.00000000e+03, 1.00000000e+03, 3.07538100e+00, 3.07538100e+00],\n",
       "       [2.90000000e+00, 2.90000000e+00, 2.11506659e+00, 2.20500000e+00,\n",
       "        1.09940079e+00, 2.41995244e+00, 2.11506659e+00, 2.40000000e+00,\n",
       "        2.25465119e+00, 2.25465119e+00, 2.25465119e+00, 2.04000000e+00,\n",
       "        2.04000000e+00, 2.04000000e+00, 0.00000000e+00, 1.85196558e+00,\n",
       "        3.07538100e+00, 3.07538100e+00, 1.00000000e+03, 1.00000000e+03],\n",
       "       [2.90000000e+00, 2.90000000e+00, 2.11506659e+00, 2.20500000e+00,\n",
       "        1.09940079e+00, 2.41995244e+00, 2.11506659e+00, 2.40000000e+00,\n",
       "        2.25465119e+00, 2.25465119e+00, 2.25465119e+00, 2.04000000e+00,\n",
       "        2.04000000e+00, 2.04000000e+00, 1.77196558e+00, 0.00000000e+00,\n",
       "        3.07538100e+00, 3.07538100e+00, 1.00000000e+03, 1.00000000e+03],\n",
       "       [2.90000000e+00, 2.90000000e+00, 2.41995244e+00, 2.41995244e+00,\n",
       "        2.11506659e+00, 2.11506659e+00, 1.09940079e+00, 2.40000000e+00,\n",
       "        1.68000000e+00, 1.68000000e+00, 1.68000000e+00, 1.68000000e+00,\n",
       "        1.68000000e+00, 1.68000000e+00, 2.25465119e+00, 2.25465119e+00,\n",
       "        0.00000000e+00, 1.85196558e+00, 3.07538100e+00, 3.07538100e+00],\n",
       "       [2.90000000e+00, 2.90000000e+00, 2.41995244e+00, 2.41995244e+00,\n",
       "        2.11506659e+00, 2.11506659e+00, 1.09940079e+00, 2.40000000e+00,\n",
       "        1.68000000e+00, 1.68000000e+00, 1.68000000e+00, 1.68000000e+00,\n",
       "        1.68000000e+00, 1.68000000e+00, 2.25465119e+00, 2.25465119e+00,\n",
       "        1.77196558e+00, 0.00000000e+00, 3.07538100e+00, 3.07538100e+00],\n",
       "       [2.90000000e+00, 2.90000000e+00, 2.20500000e+00, 2.11506659e+00,\n",
       "        2.41995244e+00, 1.09940079e+00, 2.11506659e+00, 2.40000000e+00,\n",
       "        2.04000000e+00, 2.04000000e+00, 2.04000000e+00, 2.25465119e+00,\n",
       "        2.25465119e+00, 2.25465119e+00, 1.68000000e+00, 1.68000000e+00,\n",
       "        2.25465119e+00, 2.25465119e+00, 0.00000000e+00, 1.85196558e+00],\n",
       "       [2.90000000e+00, 2.90000000e+00, 2.20500000e+00, 2.11506659e+00,\n",
       "        2.41995244e+00, 1.09940079e+00, 2.11506659e+00, 2.40000000e+00,\n",
       "        2.04000000e+00, 2.04000000e+00, 2.04000000e+00, 2.25465119e+00,\n",
       "        2.25465119e+00, 2.25465119e+00, 1.68000000e+00, 1.68000000e+00,\n",
       "        2.25465119e+00, 2.25465119e+00, 1.77196558e+00, 0.00000000e+00]])"
      ]
     },
     "execution_count": 14,
     "metadata": {},
     "output_type": "execute_result"
    }
   ],
   "source": [
    "bm = rdkit.Chem.rdDistGeom.GetMoleculeBoundsMatrix(rdmol)\n",
    "bm"
   ]
  },
  {
   "cell_type": "markdown",
   "metadata": {},
   "source": [
    "Checking that the RMG molecule and RDKit molecule are ordered the same"
   ]
  },
  {
   "cell_type": "code",
   "execution_count": 15,
   "metadata": {},
   "outputs": [
    {
     "name": "stdout",
     "output_type": "stream",
     "text": [
      "O. 8 *3\n",
      "The 0th atom is the *3 atom\n",
      "O 8 \n",
      "C 6 *1\n",
      "The 2th atom is the *1 atom\n",
      "C 6 \n",
      "C 6 \n",
      "C 6 \n",
      "C 6 \n",
      "H 1 \n",
      "H 1 *2\n",
      "The 8th atom is the *2 atom\n",
      "H 1 \n",
      "H 1 \n",
      "H 1 \n",
      "H 1 \n",
      "H 1 \n",
      "H 1 \n",
      "H 1 \n",
      "H 1 \n",
      "H 1 \n",
      "H 1 \n",
      "H 1 \n"
     ]
    },
    {
     "data": {
      "text/plain": [
       "(2, 8, 0)"
      ]
     },
     "execution_count": 15,
     "metadata": {},
     "output_type": "execute_result"
    }
   ],
   "source": [
    "for i, atom in enumerate(merged_reacts.atoms):\n",
    "    print atom, rdmol.GetAtoms()[i].GetAtomicNum(), atom.label\n",
    "    if atom.label == \"*1\":\n",
    "        print \"The {}th atom is the *1 atom\".format(i)\n",
    "        lbl1 = i\n",
    "    if atom.label == \"*2\":\n",
    "        print \"The {}th atom is the *2 atom\".format(i)\n",
    "        lbl2 = i\n",
    "    if atom.label == \"*3\":\n",
    "        print \"The {}th atom is the *3 atom\".format(i)\n",
    "        lbl3 = i\n",
    "        \n",
    "labels = (lbl1, lbl2, lbl3)\n",
    "labels"
   ]
  },
  {
   "cell_type": "markdown",
   "metadata": {},
   "source": [
    "### I THINK THERE IS AN ISSUE WITH FINDING LABELED ATOMS"
   ]
  },
  {
   "cell_type": "code",
   "execution_count": null,
   "metadata": {},
   "outputs": [],
   "source": []
  }
 ],
 "metadata": {
  "kernelspec": {
   "display_name": "Python 2",
   "language": "python",
   "name": "python2"
  },
  "language_info": {
   "codemirror_mode": {
    "name": "ipython",
    "version": 2
   },
   "file_extension": ".py",
   "mimetype": "text/x-python",
   "name": "python",
   "nbconvert_exporter": "python",
   "pygments_lexer": "ipython2",
   "version": "2.7.13"
  }
 },
 "nbformat": 4,
 "nbformat_minor": 2
}
