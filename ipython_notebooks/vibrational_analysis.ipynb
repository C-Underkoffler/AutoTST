{
 "cells": [
  {
   "cell_type": "code",
   "execution_count": 1,
   "metadata": {},
   "outputs": [],
   "source": [
    "from autotst.reaction import *"
   ]
  },
  {
   "cell_type": "code",
   "execution_count": 2,
   "metadata": {},
   "outputs": [
    {
     "name": "stderr",
     "output_type": "stream",
     "text": [
      "thermo.py:839 loadLibraries INFO Loading thermodynamics library from primaryThermoLibrary.py in /Users/nathan/Code/RMG-Py/../RMG-database/input/thermo/libraries...\n",
      "thermo.py:839 loadLibraries INFO Loading thermodynamics library from thermo_DFT_CCSDTF12_BAC.py in /Users/nathan/Code/RMG-Py/../RMG-database/input/thermo/libraries...\n",
      "thermo.py:839 loadLibraries INFO Loading thermodynamics library from CBS_QB3_1dHR.py in /Users/nathan/Code/RMG-Py/../RMG-database/input/thermo/libraries...\n",
      "thermo.py:856 loadGroups INFO Loading thermodynamics group database from /Users/nathan/Code/RMG-Py/../RMG-database/input/thermo/groups...\n",
      "transport.py:294 loadGroups INFO Loading transport group database from /Users/nathan/Code/RMG-Py/../RMG-database/input/transport/groups...\n",
      "database.py:167 loadFamilies INFO Loading the user-specified kinetics families from /Users/nathan/Code/RMG-Py/../RMG-database/input/kinetics/families\n",
      "statmech.py:526 loadGroups INFO Loading frequencies group database from /Users/nathan/Code/RMG-Py/../RMG-database/input/statmech/groups...\n",
      "database.py:126 load INFO Loading transitions state family groups from /Users/nathan/Code/RMG-Py/../AutoTST/database/H_Abstraction/TS_groups.py\n",
      "reaction.py:138 __init__ INFO Label provided: CC=C(C)C+[O]O_[CH2]C=C(C)C+OO\n",
      "reaction.py:139 __init__ INFO Family provided: H_Abstraction\n",
      "reaction.py:248 get_rmg_reactions INFO The distance data is as follows: \n",
      "DistanceData(distances={'d12': 1.322228,'d13': 2.547443,'d23': 1.235329,}, uncertainties={'d12': 0.368943,'d13': 0.209844,'d23': 0.312795,}, comment=u'Matched node C/H3/Cd ([<Entry index=119 label=\"C/H3/Cd\">, <Entry index=210 label=\"Csj/Ct/H2\">])\\nMatched node OjO ([<Entry index=126 label=\"C/H2/Cd/Cd\">, <Entry index=32 label=\"OjO\">])\\n')\n",
      "reaction.py:347 get_labels INFO The labled atoms are [4, 9, 0].\n",
      "reaction.py:292 create_rdkit_ts_geometry INFO Initially embedded molecule\n",
      "reaction.py:295 create_rdkit_ts_geometry INFO Editing bounds matrix\n",
      "reaction.py:362 set_limits INFO For atoms 4 and 9 we have a distance of: \t 1.322228\n",
      "reaction.py:362 set_limits INFO For atoms 9 and 0 we have a distance of: \t 1.235329\n",
      "reaction.py:362 set_limits INFO For atoms 4 and 0 we have a distance of: \t 2.547443\n",
      "reaction.py:417 bm_pre_edit INFO Changing lower limit 3.65 to 3.31857083943\n",
      "reaction.py:417 bm_pre_edit INFO Changing lower limit 2.537443 to 2.477557\n",
      "reaction.py:417 bm_pre_edit INFO Changing lower limit 2.9 to 2.471329\n",
      "reaction.py:299 create_rdkit_ts_geometry INFO Performing triangle smoothing on bounds matrix.\n",
      "reaction.py:304 create_rdkit_ts_geometry INFO Now attempting to embed using edited bounds matrix.\n"
     ]
    }
   ],
   "source": [
    "rxn = AutoTST_Reaction(\"CC=C(C)C+[O]O_[CH2]C=C(C)C+OO\", \"H_Abstraction\")\n",
    "\n",
    "final_log_file = rxn.label + \"_overall.log\"\n",
    "\n",
    "from ase.io.gaussian import *\n",
    "optimized_ase_ts = read_gaussian_out(final_log_file)\n",
    "\n",
    "rxn.ts.ase_ts = optimized_ase_ts\n",
    "rxn.ts.update_from_ase_ts()\n"
   ]
  },
  {
   "cell_type": "code",
   "execution_count": 3,
   "metadata": {},
   "outputs": [
    {
     "data": {
      "text/plain": [
       "[<AutoTST Molecule \"CC=C(C)C\">, <AutoTST Molecule \"[O]O\">]"
      ]
     },
     "execution_count": 3,
     "metadata": {},
     "output_type": "execute_result"
    }
   ],
   "source": [
    "rxn.reactant_mols"
   ]
  },
  {
   "cell_type": "code",
   "execution_count": 4,
   "metadata": {},
   "outputs": [
    {
     "name": "stdout",
     "output_type": "stream",
     "text": [
      "Vibrational analysis was successful\n",
      "True\n"
     ]
    }
   ],
   "source": [
    "from cclib.io import ccread\n",
    "log_file_info = ccread(final_log_file)\n",
    "\n",
    "rxn.vibrations = zip(log_file_info.vibfreqs, log_file_info.vibdisps)\n",
    "\n",
    "got_imaginary_frequency = False\n",
    "for vib, displacements in rxn.vibrations:\n",
    "    if vib < 0: # Finding the imaginary frequency\n",
    "        got_imaginary_frequency = True\n",
    "        post_vibration_ts = rxn.ts.ase_ts.copy() \n",
    "        post_vibration_ts.arrays[\"positions\"] -= displacements\n",
    "        \n",
    "assert got_imaginary_frequency == True, \"Did not find an imaginary frequency\"\n",
    "def percent_change(original,new):\n",
    "    percent_change = (abs(new - original) / original) * 100\n",
    "    return percent_change\n",
    "\n",
    "results = []\n",
    "\n",
    "for torsion in rxn.ts.torsions:\n",
    "    i,j,k,l = torsion.indices\n",
    "    before = rxn.ts.ase_ts.get_dihedral(i,j,k,l)\n",
    "    after = post_vibration_ts.get_dihedral(i,j,k,l)\n",
    "    results.append([\"Tor\", torsion.indices, torsion.reaction_center, percent_change(before, after)])\n",
    "    \n",
    "for angle in rxn.ts.angles:\n",
    "    i,j,k = angle.indices\n",
    "    before = rxn.ts.ase_ts.get_angle(i,j,k)\n",
    "    after = post_vibration_ts.get_angle(i,j,k)\n",
    "    results.append([\"Ang\", angle.indices, angle.reaction_center, percent_change(before, after)])\n",
    "\n",
    "for bond in rxn.ts.bonds:\n",
    "    i,j = bond.indices\n",
    "    before = rxn.ts.ase_ts.get_distance(i,j)\n",
    "    after = post_vibration_ts.get_distance(i,j)\n",
    "    results.append([\"Bond\", bond.indices, bond.reaction_center, percent_change(before, after)])\n",
    "\n",
    "results = pd.DataFrame(results)\n",
    "results.columns = [\"type\", \"index\", \"center\", \"percent_change\"]\n",
    "\n",
    "if (np.log10(((results[results.center == \"Yes\"].mean()))) > np.log10(((results[results.center != \"Yes\"].mean()))) + 1).all():\n",
    "    print \"Vibrational analysis was successful\"\n",
    "    print True\n",
    "\n",
    "else:\n",
    "    print \"Cannot reasonably say that we have arrived at a TS through vibrational analysis.\\nRunning an IRC calc.\"\n",
    "    print False\n",
    "\n",
    "        "
   ]
  },
  {
   "cell_type": "code",
   "execution_count": 5,
   "metadata": {},
   "outputs": [],
   "source": [
    "from autotst.calculators.vibrational_analysis import *"
   ]
  },
  {
   "cell_type": "code",
   "execution_count": 6,
   "metadata": {},
   "outputs": [
    {
     "name": "stderr",
     "output_type": "stream",
     "text": [
      "vibrational_analysis.py:148 validate_ts INFO Vibrational analysis was successful\n"
     ]
    },
    {
     "name": "stdout",
     "output_type": "stream",
     "text": [
      "True\n"
     ]
    },
    {
     "data": {
      "text/plain": [
       "<AutoTST Vibrational Analysis \"CC=C(C)C+[O]O_[CH2]C=C(C)C+OO\">"
      ]
     },
     "execution_count": 6,
     "metadata": {},
     "output_type": "execute_result"
    }
   ],
   "source": [
    "vib = Vibrational_Analysis(rxn)\n",
    "print vib.validate_ts()\n",
    "vib"
   ]
  },
  {
   "cell_type": "code",
   "execution_count": 7,
   "metadata": {},
   "outputs": [],
   "source": [
    "from autotst.calculators.gaussian import *"
   ]
  },
  {
   "cell_type": "code",
   "execution_count": 8,
   "metadata": {},
   "outputs": [
    {
     "data": {
      "text/plain": [
       "<AutoTST Gaussian Calculators \"CC=C(C)C+[O]O_[CH2]C=C(C)C+OO\">"
      ]
     },
     "execution_count": 8,
     "metadata": {},
     "output_type": "execute_result"
    }
   ],
   "source": [
    "calcs = AutoTST_Gaussian(rxn, scratch=\"/Users/nathan/Code/AutoTST/ipython_notebooks/\")\n",
    "calcs"
   ]
  },
  {
   "cell_type": "code",
   "execution_count": 10,
   "metadata": {},
   "outputs": [
    {
     "data": {
      "text/plain": [
       "{'basis': '6-311+g(2df,2p)',\n",
       " 'charge': 0,\n",
       " 'mem': '5GB',\n",
       " 'method': 'm062x',\n",
       " 'multiplicity': 2,\n",
       " 'nprocshared': 20}"
      ]
     },
     "execution_count": 10,
     "metadata": {},
     "output_type": "execute_result"
    }
   ],
   "source": [
    "calcs.overall_calc.parameters"
   ]
  },
  {
   "cell_type": "code",
   "execution_count": null,
   "metadata": {},
   "outputs": [],
   "source": []
  }
 ],
 "metadata": {
  "kernelspec": {
   "display_name": "Python (rmg_env)",
   "language": "python",
   "name": "myenv"
  },
  "language_info": {
   "codemirror_mode": {
    "name": "ipython",
    "version": 2
   },
   "file_extension": ".py",
   "mimetype": "text/x-python",
   "name": "python",
   "nbconvert_exporter": "python",
   "pygments_lexer": "ipython2",
   "version": "2.7.14"
  }
 },
 "nbformat": 4,
 "nbformat_minor": 2
}
