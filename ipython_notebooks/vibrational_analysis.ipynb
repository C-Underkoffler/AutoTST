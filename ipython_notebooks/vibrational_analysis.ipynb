{
 "cells": [
  {
   "cell_type": "code",
   "execution_count": 1,
   "metadata": {},
   "outputs": [],
   "source": [
    "from autotst.reaction import *"
   ]
  },
  {
   "cell_type": "code",
   "execution_count": 3,
   "metadata": {},
   "outputs": [
    {
     "name": "stderr",
     "output_type": "stream",
     "text": [
      "rmg.py:72 __init__ WARNING Should only make one instance of RMGDatabase because it's stored as a module-level variable!\n",
      "rmg.py:73 __init__ WARNING Unexpected behaviour may result!\n",
      "thermo.py:839 loadLibraries INFO Loading thermodynamics library from primaryThermoLibrary.py in /Users/nathan/Code/RMG-Py/../RMG-database/input/thermo/libraries...\n",
      "thermo.py:839 loadLibraries INFO Loading thermodynamics library from thermo_DFT_CCSDTF12_BAC.py in /Users/nathan/Code/RMG-Py/../RMG-database/input/thermo/libraries...\n",
      "thermo.py:839 loadLibraries INFO Loading thermodynamics library from CBS_QB3_1dHR.py in /Users/nathan/Code/RMG-Py/../RMG-database/input/thermo/libraries...\n",
      "thermo.py:856 loadGroups INFO Loading thermodynamics group database from /Users/nathan/Code/RMG-Py/../RMG-database/input/thermo/groups...\n",
      "transport.py:294 loadGroups INFO Loading transport group database from /Users/nathan/Code/RMG-Py/../RMG-database/input/transport/groups...\n",
      "database.py:167 loadFamilies INFO Loading the user-specified kinetics families from /Users/nathan/Code/RMG-Py/../RMG-database/input/kinetics/families\n",
      "statmech.py:526 loadGroups INFO Loading frequencies group database from /Users/nathan/Code/RMG-Py/../RMG-database/input/statmech/groups...\n",
      "database.py:126 load INFO Loading transitions state family groups from /Users/nathan/Code/RMG-Py/../AutoTST/database/H_Abstraction/TS_groups.py\n",
      "reaction.py:138 __init__ INFO Label provided: CC=C(C)C+[O]O_[CH2]C=C(C)C+OO\n",
      "reaction.py:139 __init__ INFO Family provided: H_Abstraction\n",
      "reaction.py:245 get_rmg_reactions INFO The distance data is as follows: \n",
      "DistanceData(distances={'d12': 1.322228,'d13': 2.547443,'d23': 1.235329,}, uncertainties={'d12': 0.368943,'d13': 0.209844,'d23': 0.312795,}, comment=u'Matched node C/H3/Cd ([<Entry index=119 label=\"C/H3/Cd\">, <Entry index=210 label=\"Csj/Ct/H2\">])\\nMatched node OjO ([<Entry index=126 label=\"C/H2/Cd/Cd\">, <Entry index=32 label=\"OjO\">])\\n')\n",
      "reaction.py:341 get_labels INFO The labled atoms are [4, 9, 0].\n",
      "reaction.py:286 create_rdkit_ts_geometry INFO Initially embedded molecule\n",
      "reaction.py:289 create_rdkit_ts_geometry INFO Editing bounds matrix\n",
      "reaction.py:356 set_limits INFO For atoms 4 and 9 we have a distance of: \t 1.322228\n",
      "reaction.py:356 set_limits INFO For atoms 9 and 0 we have a distance of: \t 1.235329\n",
      "reaction.py:356 set_limits INFO For atoms 4 and 0 we have a distance of: \t 2.547443\n",
      "reaction.py:411 bm_pre_edit INFO Changing lower limit 3.65 to 3.31857083943\n",
      "reaction.py:411 bm_pre_edit INFO Changing lower limit 2.537443 to 2.477557\n",
      "reaction.py:411 bm_pre_edit INFO Changing lower limit 2.9 to 2.471329\n",
      "reaction.py:293 create_rdkit_ts_geometry INFO Performing triangle smoothing on bounds matrix.\n",
      "reaction.py:298 create_rdkit_ts_geometry INFO Now attempting to embed using edited bounds matrix.\n"
     ]
    }
   ],
   "source": [
    "rxn = AutoTST_Reaction(\"CC=C(C)C+[O]O_[CH2]C=C(C)C+OO\", \"H_Abstraction\")\n",
    "\n",
    "final_log_file = rxn.label + \"_overall.log\"\n",
    "\n",
    "from ase.io.gaussian import *\n",
    "optimized_ase_ts = read_gaussian_out(final_log_file)\n",
    "\n",
    "rxn.ts.ase_ts = optimized_ase_ts\n",
    "rxn.ts.update_from_ase_ts()\n"
   ]
  },
  {
   "cell_type": "code",
   "execution_count": 5,
   "metadata": {},
   "outputs": [
    {
     "name": "stdout",
     "output_type": "stream",
     "text": [
      "Vibrational analysis was successful\n",
      "True\n"
     ]
    }
   ],
   "source": [
    "from cclib.io import ccread\n",
    "log_file_info = ccread(final_log_file)\n",
    "\n",
    "rxn.vibrations = zip(log_file_info.vibfreqs, log_file_info.vibdisps)\n",
    "\n",
    "got_imaginary_frequency = False\n",
    "for vib, displacements in rxn.vibrations:\n",
    "    if vib < 0: # Finding the imaginary frequency\n",
    "        got_imaginary_frequency = True\n",
    "        post_vibration_ts = rxn.ts.ase_ts.copy() \n",
    "        post_vibration_ts.arrays[\"positions\"] -= displacements\n",
    "        \n",
    "assert got_imaginary_frequency == True, \"Did not find an imaginary frequency\"\n",
    "def percent_change(original,new):\n",
    "    percent_change = (abs(new - original) / original) * 100\n",
    "    return percent_change\n",
    "\n",
    "results = []\n",
    "\n",
    "for torsion in rxn.ts.torsions:\n",
    "    i,j,k,l = torsion.indices\n",
    "    before = rxn.ts.ase_ts.get_dihedral(i,j,k,l)\n",
    "    after = post_vibration_ts.get_dihedral(i,j,k,l)\n",
    "    results.append([\"Tor\", torsion.indices, torsion.reaction_center, percent_change(before, after)])\n",
    "    \n",
    "for angle in rxn.ts.angles:\n",
    "    i,j,k = angle.indices\n",
    "    before = rxn.ts.ase_ts.get_angle(i,j,k)\n",
    "    after = post_vibration_ts.get_angle(i,j,k)\n",
    "    results.append([\"Ang\", angle.indices, angle.reaction_center, percent_change(before, after)])\n",
    "\n",
    "for bond in rxn.ts.bonds:\n",
    "    i,j = bond.indices\n",
    "    before = rxn.ts.ase_ts.get_distance(i,j)\n",
    "    after = post_vibration_ts.get_distance(i,j)\n",
    "    results.append([\"Bond\", bond.indices, bond.reaction_center, percent_change(before, after)])\n",
    "\n",
    "results = pd.DataFrame(results)\n",
    "results.columns = [\"type\", \"index\", \"center\", \"percent_change\"]\n",
    "\n",
    "if (np.log10(((results[results.center == \"Yes\"].mean()))) > np.log10(((results[results.center != \"Yes\"].mean()))) + 1).all():\n",
    "    print \"Vibrational analysis was successful\"\n",
    "    print True\n",
    "\n",
    "else:\n",
    "    print \"Cannot reasonably say that we have arrived at a TS through vibrational analysis.\\nRunning an IRC calc.\"\n",
    "    print False\n",
    "\n",
    "        "
   ]
  },
  {
   "cell_type": "code",
   "execution_count": null,
   "metadata": {},
   "outputs": [],
   "source": []
  },
  {
   "cell_type": "code",
   "execution_count": null,
   "metadata": {},
   "outputs": [],
   "source": [
    "from ase.io.gaussian import *\n",
    "new_ase_ts = read_gaussian_out(log_file)"
   ]
  },
  {
   "cell_type": "code",
   "execution_count": null,
   "metadata": {},
   "outputs": [],
   "source": [
    "rxn.ts.ase_ts = new_ase_ts\n",
    "rxn.ts.update_from_ase_ts()\n"
   ]
  },
  {
   "cell_type": "code",
   "execution_count": null,
   "metadata": {},
   "outputs": [],
   "source": [
    "rxn.ts.view_ts()"
   ]
  },
  {
   "cell_type": "code",
   "execution_count": null,
   "metadata": {},
   "outputs": [],
   "source": [
    "import cclib\n",
    "from cclib.io import ccread\n",
    "from ase.visualize import view"
   ]
  },
  {
   "cell_type": "code",
   "execution_count": null,
   "metadata": {},
   "outputs": [],
   "source": [
    "from cclib.io import ccread\n",
    "log_file_info = ccread(log_file)\n",
    "log_file_info"
   ]
  },
  {
   "cell_type": "code",
   "execution_count": null,
   "metadata": {},
   "outputs": [],
   "source": [
    "imaginary_displacements = log_file_info.vibdisps[0]\n",
    "imaginary_displacements"
   ]
  },
  {
   "cell_type": "code",
   "execution_count": null,
   "metadata": {},
   "outputs": [],
   "source": [
    "copy_ts = rxn.ts.ase_ts.copy()\n",
    "copy_ts"
   ]
  },
  {
   "cell_type": "code",
   "execution_count": null,
   "metadata": {},
   "outputs": [],
   "source": [
    "copy_ts is rxn.ts.ase_ts"
   ]
  },
  {
   "cell_type": "code",
   "execution_count": null,
   "metadata": {},
   "outputs": [],
   "source": [
    "copy_ts.arrays[\"positions\"]"
   ]
  },
  {
   "cell_type": "code",
   "execution_count": null,
   "metadata": {},
   "outputs": [],
   "source": [
    "copy_ts.arrays[\"positions\"] -= imaginary_displacements\n",
    "copy_ts.arrays[\"positions\"]"
   ]
  },
  {
   "cell_type": "code",
   "execution_count": null,
   "metadata": {},
   "outputs": [],
   "source": [
    "view(rxn.ts.ase_ts)"
   ]
  },
  {
   "cell_type": "code",
   "execution_count": null,
   "metadata": {},
   "outputs": [],
   "source": [
    "view(copy_ts)"
   ]
  },
  {
   "cell_type": "code",
   "execution_count": null,
   "metadata": {},
   "outputs": [],
   "source": [
    "def percent_change(original,new):\n",
    "    percent_change = (abs(new - original) / original) * 100\n",
    "    return percent_change"
   ]
  },
  {
   "cell_type": "code",
   "execution_count": null,
   "metadata": {},
   "outputs": [],
   "source": [
    "results = []"
   ]
  },
  {
   "cell_type": "code",
   "execution_count": null,
   "metadata": {},
   "outputs": [],
   "source": [
    "for combo in rxn.ts.torsions:\n",
    "    i,j,k,l = combo.indices\n",
    "    print combo.reaction_center\n",
    "    before = rxn.ts.ase_ts.get_dihedral(i,j,k,l)\n",
    "    after = copy_ts.get_dihedral(i,j,k,l)\n",
    "    #print before, after\n",
    "    \n",
    "    results.append([\"Tor\", combo.indices, combo.reaction_center, percent_change(before, after)])\n",
    "    print percent_change(before, after)\n",
    "    print"
   ]
  },
  {
   "cell_type": "code",
   "execution_count": null,
   "metadata": {
    "scrolled": false
   },
   "outputs": [],
   "source": [
    "for combo in rxn.ts.angles:\n",
    "    i,j,k = combo.indices\n",
    "    print combo.reaction_center\n",
    "    \n",
    "    before = rxn.ts.ase_ts.get_angle(i,j,k)\n",
    "    after = copy_ts.get_angle(i,j,k)\n",
    "    \n",
    "    #print int(before), int(after)\n",
    "\n",
    "    results.append([\"Ang\", combo.indices, combo.reaction_center, percent_change(before, after)])\n",
    "    print percent_change(before, after)\n",
    "    print\n",
    "    \n"
   ]
  },
  {
   "cell_type": "code",
   "execution_count": null,
   "metadata": {},
   "outputs": [],
   "source": [
    "for combo in rxn.ts.bonds:\n",
    "    i,j = combo.indices\n",
    "    print combo.reaction_center\n",
    "    \n",
    "    before = rxn.ts.ase_ts.get_distance(i,j)\n",
    "    after = copy_ts.get_distance(i,j)\n",
    "    #print before, after\n",
    "    results.append([\"Bond\", combo.indices, combo.reaction_center, percent_change(before, after)])\n",
    "    \n",
    "    print percent_change(before, after)\n",
    "    print"
   ]
  },
  {
   "cell_type": "code",
   "execution_count": null,
   "metadata": {},
   "outputs": [],
   "source": [
    "results = pd.DataFrame(results)\n",
    "results.columns = [\"type\", \"index\", \"center\", \"percent_change\"]\n",
    "results.sort_values(\"percent_change\", ascending=False)"
   ]
  },
  {
   "cell_type": "code",
   "execution_count": null,
   "metadata": {},
   "outputs": [],
   "source": [
    "b = results[results.center == \"Yes\"].mean()\n",
    "print results[results.center == \"No\"].mean()\n",
    "print results[results.center == \"Close\"].mean()"
   ]
  },
  {
   "cell_type": "code",
   "execution_count": null,
   "metadata": {},
   "outputs": [],
   "source": [
    "if ((float(results[results.center == \"Yes\"].mean()) > float(results[results.center == \"Close\"].mean())) and\n",
    "    float(results[results.center == \"Close\"].mean()) > float(results[results.center == \"No\"].mean())):\n",
    "    print \"Yay\""
   ]
  },
  {
   "cell_type": "code",
   "execution_count": null,
   "metadata": {},
   "outputs": [],
   "source": [
    "if (np.log10(((results[results.center == \"Yes\"].mean()))) > np.log10(((results[results.center != \"Yes\"].mean()))) + 1).all():\n",
    "    \n",
    "    "
   ]
  },
  {
   "cell_type": "code",
   "execution_count": null,
   "metadata": {},
   "outputs": [],
   "source": [
    "np.log10(((results[results.center != \"Yes\"].mean()))) + 1"
   ]
  },
  {
   "cell_type": "code",
   "execution_count": null,
   "metadata": {},
   "outputs": [],
   "source": [
    "np.log10((float(results[results.center == \"No\"].mean()))) + 1"
   ]
  },
  {
   "cell_type": "code",
   "execution_count": null,
   "metadata": {},
   "outputs": [],
   "source": []
  }
 ],
 "metadata": {
  "kernelspec": {
   "display_name": "Python (rmg_env)",
   "language": "python",
   "name": "myenv"
  },
  "language_info": {
   "codemirror_mode": {
    "name": "ipython",
    "version": 2
   },
   "file_extension": ".py",
   "mimetype": "text/x-python",
   "name": "python",
   "nbconvert_exporter": "python",
   "pygments_lexer": "ipython2",
   "version": "2.7.14"
  }
 },
 "nbformat": 4,
 "nbformat_minor": 2
}
