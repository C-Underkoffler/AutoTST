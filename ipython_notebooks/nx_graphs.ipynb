{
 "cells": [
  {
   "cell_type": "code",
   "execution_count": 1,
   "metadata": {},
   "outputs": [],
   "source": [
    "%matplotlib inline\n",
    "import matplotlib.pyplot as plt\n",
    "import networkx as nx\n",
    "from autotst.reaction import *"
   ]
  },
  {
   "cell_type": "code",
   "execution_count": 2,
   "metadata": {},
   "outputs": [
    {
     "name": "stderr",
     "output_type": "stream",
     "text": [
      "thermo.py:839 loadLibraries INFO Loading thermodynamics library from primaryThermoLibrary.py in /Users/nathan/Code/RMG-Py/../RMG-database/input/thermo/libraries...\n",
      "thermo.py:839 loadLibraries INFO Loading thermodynamics library from thermo_DFT_CCSDTF12_BAC.py in /Users/nathan/Code/RMG-Py/../RMG-database/input/thermo/libraries...\n",
      "thermo.py:839 loadLibraries INFO Loading thermodynamics library from CBS_QB3_1dHR.py in /Users/nathan/Code/RMG-Py/../RMG-database/input/thermo/libraries...\n",
      "thermo.py:856 loadGroups INFO Loading thermodynamics group database from /Users/nathan/Code/RMG-Py/../RMG-database/input/thermo/groups...\n",
      "transport.py:294 loadGroups INFO Loading transport group database from /Users/nathan/Code/RMG-Py/../RMG-database/input/transport/groups...\n",
      "database.py:167 loadFamilies INFO Loading the user-specified kinetics families from /Users/nathan/Code/RMG-Py/../RMG-database/input/kinetics/families\n",
      "statmech.py:526 loadGroups INFO Loading frequencies group database from /Users/nathan/Code/RMG-Py/../RMG-database/input/statmech/groups...\n",
      "database.py:126 load INFO Loading transitions state family groups from /Users/nathan/Code/RMG-Py/../AutoTST/database/H_Abstraction/TS_groups.py\n",
      "reaction.py:138 __init__ INFO Label provided: C#CC+[O]O_C#C[CH2]+OO\n",
      "reaction.py:139 __init__ INFO Family provided: H_Abstraction\n",
      "reaction.py:248 get_rmg_reactions INFO The distance data is as follows: \n",
      "DistanceData(distances={'d12': 1.354216,'d13': 2.540456,'d23': 1.199295,}, uncertainties={'d12': 0.401416,'d13': 0.207102,'d23': 0.459032,}, comment=u'Matched node C/H3/Ct ([<Entry index=120 label=\"C/H3/Ct\">, <Entry index=222 label=\"Csj/Cs/O/H\">])\\nMatched node OjO ([<Entry index=126 label=\"C/H2/Cd/Cd\">, <Entry index=32 label=\"OjO\">])\\n')\n",
      "reaction.py:347 get_labels INFO The labled atoms are [4, 7, 0].\n",
      "reaction.py:292 create_rdkit_ts_geometry INFO Initially embedded molecule\n",
      "reaction.py:295 create_rdkit_ts_geometry INFO Editing bounds matrix\n",
      "reaction.py:362 set_limits INFO For atoms 4 and 7 we have a distance of: \t 1.354216\n",
      "reaction.py:362 set_limits INFO For atoms 7 and 0 we have a distance of: \t 1.199295\n",
      "reaction.py:362 set_limits INFO For atoms 4 and 0 we have a distance of: \t 2.540456\n",
      "reaction.py:417 bm_pre_edit INFO Changing lower limit 3.65 to 3.25991382266\n",
      "reaction.py:417 bm_pre_edit INFO Changing lower limit 2.530456 to 2.473511\n",
      "reaction.py:417 bm_pre_edit INFO Changing lower limit 2.62837475853 to 2.58837475853\n",
      "reaction.py:417 bm_pre_edit INFO Changing lower limit 2.22380768291 to 2.18380768291\n",
      "reaction.py:417 bm_pre_edit INFO Changing lower limit 2.9 to 2.435295\n",
      "reaction.py:299 create_rdkit_ts_geometry INFO Performing triangle smoothing on bounds matrix.\n",
      "reaction.py:304 create_rdkit_ts_geometry INFO Now attempting to embed using edited bounds matrix.\n"
     ]
    }
   ],
   "source": [
    "rxn = AutoTST_Reaction(\"C#CC+[O]O_C#C[CH2]+OO\", \"H_Abstraction\")"
   ]
  },
  {
   "cell_type": "code",
   "execution_count": 3,
   "metadata": {},
   "outputs": [
    {
     "data": {
      "image/png": "[encoded data removed]",
      "text/plain": [
       "<Figure size 432x288 with 1 Axes>"
      ]
     },
     "metadata": {},
     "output_type": "display_data"
    }
   ],
   "source": [
    "g = nx.Graph()\n",
    "\n",
    "rdkit_mol = rxn.ts.create_pseudo_geometry()\n",
    "\n",
    "for i, atom in enumerate(rdkit_mol.GetAtoms()):\n",
    "    g.add_node(atom.GetIdx(), \n",
    "               atomic_num=atom.GetAtomicNum(), \n",
    "               radical_count=rxn.ts.rmg_ts.atoms[i].radicalElectrons,\n",
    "               label=rxn.ts.rmg_ts.atoms[i].label)\n",
    "    \n",
    "for bond in rdkit_mol.GetBonds():\n",
    "    if (((rxn.ts.rmg_ts.atoms[bond.GetBeginAtomIdx()].label == \"*1\") and \n",
    "        (rxn.ts.rmg_ts.atoms[bond.GetEndAtomIdx()].label == \"*2\")) or \n",
    "        ((rxn.ts.rmg_ts.atoms[bond.GetBeginAtomIdx()].label == \"*2\") and \n",
    "        (rxn.ts.rmg_ts.atoms[bond.GetEndAtomIdx()].label == \"*1\"))):\n",
    "        label = \"12\"\n",
    "        \n",
    "    elif (((rxn.ts.rmg_ts.atoms[bond.GetBeginAtomIdx()].label == \"*3\") and \n",
    "        (rxn.ts.rmg_ts.atoms[bond.GetEndAtomIdx()].label == \"*2\")) or \n",
    "        ((rxn.ts.rmg_ts.atoms[bond.GetBeginAtomIdx()].label == \"*2\") and \n",
    "        (rxn.ts.rmg_ts.atoms[bond.GetEndAtomIdx()].label == \"*3\"))):\n",
    "        label = \"23\"\n",
    "        \n",
    "        \n",
    "    else:\n",
    "        label = \"\"\n",
    "\n",
    "    g.add_edge(*(bond.GetBeginAtomIdx(), bond.GetEndAtomIdx()), weight=int(bond.GetBondType()), label=label)\n",
    "\n",
    "g.add_edge(*(rxn.ts.rmg_ts.getLabeledAtom(\"*1\").sortingLabel, rxn.ts.rmg_ts.getLabeledAtom(\"*3\").sortingLabel), weight=int(1), label=\"13\")   \n",
    "nx.draw(g)"
   ]
  },
  {
   "cell_type": "code",
   "execution_count": 4,
   "metadata": {},
   "outputs": [],
   "source": [
    "nx.write_gexf(g, rxn.label + \".gexf\")"
   ]
  },
  {
   "cell_type": "code",
   "execution_count": null,
   "metadata": {},
   "outputs": [],
   "source": []
  },
  {
   "cell_type": "code",
   "execution_count": null,
   "metadata": {},
   "outputs": [],
   "source": []
  },
  {
   "cell_type": "code",
   "execution_count": null,
   "metadata": {},
   "outputs": [],
   "source": []
  }
 ],
 "metadata": {
  "kernelspec": {
   "display_name": "Python (rmg_env)",
   "language": "python",
   "name": "myenv"
  },
  "language_info": {
   "codemirror_mode": {
    "name": "ipython",
    "version": 2
   },
   "file_extension": ".py",
   "mimetype": "text/x-python",
   "name": "python",
   "nbconvert_exporter": "python",
   "pygments_lexer": "ipython2",
   "version": "2.7.14"
  }
 },
 "nbformat": 4,
 "nbformat_minor": 2
}
