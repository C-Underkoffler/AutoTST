{
 "cells": [
  {
   "cell_type": "code",
   "execution_count": 1,
   "metadata": {},
   "outputs": [
    {
     "name": "stderr",
     "output_type": "stream",
     "text": [
      "thermo.py:836 loadLibraries INFO Loading thermodynamics library from primaryThermoLibrary.py in /Users/nathan/Code/RMG-database/input/thermo/libraries...\n",
      "thermo.py:836 loadLibraries INFO Loading thermodynamics library from thermo_DFT_CCSDTF12_BAC.py in /Users/nathan/Code/RMG-database/input/thermo/libraries...\n",
      "thermo.py:836 loadLibraries INFO Loading thermodynamics library from CBS_QB3_1dHR.py in /Users/nathan/Code/RMG-database/input/thermo/libraries...\n",
      "thermo.py:853 loadGroups INFO Loading thermodynamics group database from /Users/nathan/Code/RMG-database/input/thermo/groups...\n",
      "transport.py:294 loadGroups INFO Loading transport group database from /Users/nathan/Code/RMG-database/input/transport/groups...\n",
      "database.py:167 loadFamilies INFO Loading the user-specified kinetics families from /Users/nathan/Code/RMG-database/input/kinetics/families\n",
      "statmech.py:526 loadGroups INFO Loading frequencies group database from /Users/nathan/Code/RMG-database/input/statmech/groups...\n",
      "database.py:127 load INFO Loading transitions state family groups from ../database/H_Abstraction/TS_groups.py\n"
     ]
    }
   ],
   "source": [
    "from autotst.molecule import *\n",
    "from autotst.reaction import *\n",
    "from autotst.database import *\n",
    "from autotst.geometry import *\n",
    "\n",
    "# To view ase atoms\n",
    "from ase.visualize import view"
   ]
  },
  {
   "cell_type": "markdown",
   "metadata": {},
   "source": [
    "# Just a quick way to observe molecules"
   ]
  },
  {
   "cell_type": "code",
   "execution_count": null,
   "metadata": {},
   "outputs": [],
   "source": [
    "mol = AutoTST_Molecule(\"CCCC\")\n",
    "mol"
   ]
  },
  {
   "cell_type": "code",
   "execution_count": null,
   "metadata": {},
   "outputs": [],
   "source": [
    "mol.rmg_molecule"
   ]
  },
  {
   "cell_type": "code",
   "execution_count": null,
   "metadata": {},
   "outputs": [],
   "source": [
    "view(mol.ase_molecule, viewer='x3d')"
   ]
  },
  {
   "cell_type": "code",
   "execution_count": null,
   "metadata": {},
   "outputs": [],
   "source": [
    "import numpy as np\n",
    "a = np.array([\n",
    "    [1, 100],\n",
    "    [3, 1]\n",
    "])\n",
    "a"
   ]
  },
  {
   "cell_type": "code",
   "execution_count": null,
   "metadata": {},
   "outputs": [],
   "source": [
    "(a < 10) * a + (a>10) * 10"
   ]
  },
  {
   "cell_type": "code",
   "execution_count": null,
   "metadata": {},
   "outputs": [],
   "source": [
    "mol.rdkit_molecule"
   ]
  },
  {
   "cell_type": "code",
   "execution_count": null,
   "metadata": {},
   "outputs": [],
   "source": [
    "# In order to do this, you need to have pip installed py3dmol\n",
    "mol.view_mol()"
   ]
  },
  {
   "cell_type": "markdown",
   "metadata": {},
   "source": [
    "# Now for reactions\n",
    "\n",
    "Reactions have to be `RMG_Reactions` or in the form `r1+r2_p1+p2`. Currently this is only set up for H_Abstractions, but others should be able to work later"
   ]
  },
  {
   "cell_type": "code",
   "execution_count": 2,
   "metadata": {
    "scrolled": true
   },
   "outputs": [
    {
     "name": "stderr",
     "output_type": "stream",
     "text": [
      "reaction.py:314 bm_pre_edit INFO Changing lower limit 2.9 to 2.419726\n",
      "reaction.py:314 bm_pre_edit INFO Changing lower limit 3.65 to 3.28879259416\n",
      "reaction.py:314 bm_pre_edit INFO Changing lower limit 2.515309 to 2.455244\n",
      "reaction.py:314 bm_pre_edit INFO Changing lower limit 3.65 to 3.28879259416\n",
      "reaction.py:464 rd_embed INFO RDKit failed to embed on attempt 1 of 10000\n"
     ]
    },
    {
     "data": {
      "text/plain": [
       "<autotst.reaction.AutoTST_Reaction instance at 0x11299e170>"
      ]
     },
     "execution_count": 2,
     "metadata": {},
     "output_type": "execute_result"
    }
   ],
   "source": [
    "rxn = AutoTST_Reaction(\"CCCCCCCCC+[O]O_CCC[CH]CCCCC+OO\", \"H_Abstraction\")\n",
    "rxn"
   ]
  },
  {
   "cell_type": "code",
   "execution_count": 3,
   "metadata": {},
   "outputs": [
    {
     "data": {
      "text/html": [
       "<div id=\"3dmolviewer_152147818999\"  style=\"position: relative; width: 400px; height: 400px\">\n",
       "<script>\n",
       "if(typeof $3Dmolpromise === 'undefined') $3Dmolpromise = $.when($.getScript('https://3dmol.csb.pitt.edu/build/3Dmol.js'))\n",
       "var viewer_152147818999 = null;\n",
       "$3Dmolpromise.done(function() {\n",
       "viewer_152147818999 = $3Dmol.createViewer($(\"#3dmolviewer_152147818999\"),{backgroundColor:\"white\"});\n",
       "\tviewer_152147818999.addModel(\"\\n     RDKit          3D\\n\\n 32 30  0  0  0  0  0  0  0  0999 V2000\\n   -2.1551    0.2995   -0.5580 C   0  0  0  0  0  0  0  0  0  0  0  0\\n   -0.8923    0.1143   -1.4140 C   0  0  0  0  0  0  0  0  0  0  0  0\\n    0.1021   -0.9124   -0.8366 C   0  0  0  0  0  0  0  0  0  0  0  0\\n    0.6282   -0.4988    0.5461 C   0  0  0  0  0  0  0  0  0  0  0  0\\n    1.5644   -1.5716    1.1215 C   0  0  0  0  0  0  0  0  0  0  0  0\\n   -1.8655    0.9467    0.8028 C   0  0  0  0  0  0  0  0  0  0  0  0\\n    2.2084   -1.1427    2.4489 C   0  0  0  0  0  0  0  0  0  0  0  0\\n   -3.1593    1.2749    1.5422 C   0  0  0  0  0  0  0  0  0  0  0  0\\n    1.2104   -1.1068    3.6060 C   0  0  0  0  0  0  0  0  0  0  0  0\\n   -1.2855    1.8844    0.6602 H   0  0  0  0  0  0  0  0  0  0  0  0\\n   -1.2720    0.2499    1.4319 H   0  0  0  0  0  0  0  0  0  0  0  0\\n   -2.6529   -0.6837   -0.4103 H   0  0  0  0  0  0  0  0  0  0  0  0\\n   -2.8561    0.9481   -1.1272 H   0  0  0  0  0  0  0  0  0  0  0  0\\n   -1.2927   -0.3306   -2.6129 H   0  0  0  0  0  0  0  0  0  0  0  0\\n   -0.4041    1.0984   -1.5894 H   0  0  0  0  0  0  0  0  0  0  0  0\\n   -0.3607   -1.9225   -0.7840 H   0  0  0  0  0  0  0  0  0  0  0  0\\n    0.9668   -0.9849   -1.5314 H   0  0  0  0  0  0  0  0  0  0  0  0\\n    1.1818    0.4613    0.4515 H   0  0  0  0  0  0  0  0  0  0  0  0\\n   -0.2247   -0.3420    1.2366 H   0  0  0  0  0  0  0  0  0  0  0  0\\n    1.0070   -2.5234    1.2644 H   0  0  0  0  0  0  0  0  0  0  0  0\\n    2.3803   -1.7654    0.3910 H   0  0  0  0  0  0  0  0  0  0  0  0\\n    2.6871   -0.1454    2.3380 H   0  0  0  0  0  0  0  0  0  0  0  0\\n    3.0080   -1.8723    2.7022 H   0  0  0  0  0  0  0  0  0  0  0  0\\n   -3.7651    2.0000    0.9581 H   0  0  0  0  0  0  0  0  0  0  0  0\\n   -3.7529    0.3508    1.7094 H   0  0  0  0  0  0  0  0  0  0  0  0\\n   -2.9198    1.7265    2.5280 H   0  0  0  0  0  0  0  0  0  0  0  0\\n    0.4678   -0.2952    3.4607 H   0  0  0  0  0  0  0  0  0  0  0  0\\n    1.7532   -0.9111    4.5547 H   0  0  0  0  0  0  0  0  0  0  0  0\\n    0.6830   -2.0803    3.6956 H   0  0  0  0  0  0  0  0  0  0  0  0\\n   -2.4061   -0.5910   -4.8470 O   0  0  0  0  0  0  0  0  0  0  0  0\\n   -1.8223   -0.4545   -3.6755 O   0  0  0  0  0  1  0  0  0  0  0  0\\n   -1.9654    0.0823   -5.4239 H   0  0  0  0  0  0  0  0  0  0  0  0\\n  1  2  1  0\\n  1 12  1  0\\n  1 13  1  0\\n  1  6  1  0\\n  2 15  1  0\\n  2  3  1  0\\n  2 14  1  0\\n  3 16  1  0\\n  3 17  1  0\\n  3  4  1  0\\n  4 19  1  0\\n  4 18  1  0\\n  4  5  1  0\\n  5  7  1  0\\n  5 21  1  0\\n  5 20  1  0\\n  6  8  1  0\\n  6 10  1  0\\n  6 11  1  0\\n  7 23  1  0\\n  7  9  1  0\\n  7 22  1  0\\n  8 26  1  0\\n  8 24  1  0\\n  8 25  1  0\\n  9 28  1  0\\n  9 29  1  0\\n  9 27  1  0\\n 30 31  1  0\\n 30 32  1  0\\nM  RAD  1  31   2\\nM  END\\n\",\"sdf\");\n",
       "\tviewer_152147818999.setStyle({\"stick\": {}});\n",
       "\tviewer_152147818999.setBackgroundColor(\"0xeeeeee\");\n",
       "\tviewer_152147818999.zoomTo();\n",
       "viewer_152147818999.render();\n",
       "});\n",
       "</script>"
      ],
      "text/plain": [
       "<IPython.core.display.HTML object>"
      ]
     },
     "execution_count": 3,
     "metadata": {},
     "output_type": "execute_result"
    }
   ],
   "source": [
    "rxn.ts.view_ts()"
   ]
  },
  {
   "cell_type": "code",
   "execution_count": null,
   "metadata": {},
   "outputs": [],
   "source": [
    "mol = rxn.ts.rdkit_ts\n",
    "\n",
    "bm = rdkit.Chem.rdDistGeom.GetMoleculeBoundsMatrix(mol)"
   ]
  },
  {
   "cell_type": "code",
   "execution_count": null,
   "metadata": {},
   "outputs": [],
   "source": [
    "for lbl, atom in rxn.ts.rmg_ts.getLabeledAtoms().iteritems():\n",
    "    print atom.sortingLabel"
   ]
  },
  {
   "cell_type": "code",
   "execution_count": null,
   "metadata": {},
   "outputs": [],
   "source": [
    "for i, atom in enumerate(rxn.ts.rmg_ts.atoms):\n",
    "    if atom.label == \"*1\":\n",
    "        lbl1 = i\n",
    "    if atom.label == \"*2\":\n",
    "        lbl2 = i\n",
    "    if atom.label == \"*3\":\n",
    "        lbl3 = i\n",
    "    \n",
    "lbl1, lbl2, lbl3"
   ]
  },
  {
   "cell_type": "code",
   "execution_count": null,
   "metadata": {},
   "outputs": [],
   "source": [
    "rmg_database = RMGDatabase()\n",
    "database_path = os.path.join(os.path.expanduser('~'), 'Code',  'RMG-database', 'input')\n",
    "rmg_database.load(database_path,\n",
    "                 kineticsFamilies=['H_Abstraction'],\n",
    "                 transportLibraries=[],\n",
    "                 reactionLibraries=[],\n",
    "                 seedMechanisms=[],\n",
    "                 thermoLibraries=['primaryThermoLibrary', 'thermo_DFT_CCSDTF12_BAC', 'CBS_QB3_1dHR' ],\n",
    "                 solvation=False,\n",
    "                 )"
   ]
  },
  {
   "cell_type": "code",
   "execution_count": null,
   "metadata": {},
   "outputs": [],
   "source": [
    "reacts = [Molecule(SMILES=\"CCCC\"), Molecule(SMILES=\"[O]O\")]\n",
    "prods = [Molecule(SMILES=\"[CH2]CCC\"), Molecule(SMILES=\"OO\")]"
   ]
  },
  {
   "cell_type": "code",
   "execution_count": null,
   "metadata": {},
   "outputs": [],
   "source": [
    "rmg_database.kinetics.generate_reactions_from_families(reacts, prods)"
   ]
  },
  {
   "cell_type": "code",
   "execution_count": null,
   "metadata": {
    "scrolled": true
   },
   "outputs": [],
   "source": [
    "rxn.rmg_reaction\n",
    "# Note that the reaction center is already labeled"
   ]
  },
  {
   "cell_type": "code",
   "execution_count": null,
   "metadata": {},
   "outputs": [],
   "source": [
    "rxn.ts.rmg_ts.split() # A combined molecule object contaning both reactants"
   ]
  },
  {
   "cell_type": "code",
   "execution_count": null,
   "metadata": {},
   "outputs": [],
   "source": [
    "\n",
    "view(rxn.ts.ase_ts, viewer='x3d')"
   ]
  },
  {
   "cell_type": "code",
   "execution_count": null,
   "metadata": {
    "scrolled": false
   },
   "outputs": [],
   "source": [
    "rxn.ts.view_ts()"
   ]
  },
  {
   "cell_type": "code",
   "execution_count": null,
   "metadata": {},
   "outputs": [],
   "source": [
    "tst = rxn.ts.rdkit_ts\n",
    "rxn.ts.rmg_ts"
   ]
  },
  {
   "cell_type": "markdown",
   "metadata": {
    "collapsed": true
   },
   "source": [
    "## Welp.... we made an oopsie somewhere.... "
   ]
  },
  {
   "cell_type": "code",
   "execution_count": null,
   "metadata": {},
   "outputs": [],
   "source": [
    "def view_ts(mol):\n",
    "    \"\"\"\n",
    "    A method designed to create a 3D figure of the Multi_Molecule with py3Dmol\n",
    "    \"\"\"\n",
    "    if not mol:\n",
    "        mol = rdkit_ts\n",
    "\n",
    "    mb = Chem.MolToMolBlock(mol)\n",
    "    p = py3Dmol.view(width=400, height=400)\n",
    "    p.addModel(mb, \"sdf\")\n",
    "    p.setStyle({'stick':{}})\n",
    "    p.setBackgroundColor('0xeeeeee')\n",
    "    p.zoomTo()\n",
    "    return p.show()\n"
   ]
  },
  {
   "cell_type": "code",
   "execution_count": null,
   "metadata": {},
   "outputs": [],
   "source": [
    "\n",
    "mol = rxn.ts.rmg_ts.toRDKitMol(removeHs=False)\n",
    "Chem.rdDistGeom.EmbedMolecule(mol)\n",
    "\n",
    "view_ts(mol)"
   ]
  },
  {
   "cell_type": "code",
   "execution_count": null,
   "metadata": {},
   "outputs": [],
   "source": [
    "data = rxn.distance_data\n",
    "data"
   ]
  },
  {
   "cell_type": "code",
   "execution_count": null,
   "metadata": {},
   "outputs": [],
   "source": [
    "for array in rdkit.Chem.rdDistGeom.GetMoleculeBoundsMatrix(mol):\n",
    "    print array\n",
    "    \n",
    "bm = rdkit.Chem.rdDistGeom.GetMoleculeBoundsMatrix(mol)"
   ]
  },
  {
   "cell_type": "code",
   "execution_count": null,
   "metadata": {},
   "outputs": [],
   "source": [
    "\n",
    "for label, atom in rxn.ts.rmg_ts.getLabeledAtoms().iteritems():\n",
    "    print (label, atom.sortingLabel)\n",
    "    \n",
    "lb1 =  rxn.ts.rmg_ts.getLabeledAtom('*1').sortingLabel\n",
    "lb2 =  rxn.ts.rmg_ts.getLabeledAtom('*2').sortingLabel\n",
    "lb3 =  rxn.ts.rmg_ts.getLabeledAtom('*3').sortingLabel\n",
    "    \n",
    "match = ((lb1,), (lb2,), (lb3))\n",
    "print match"
   ]
  },
  {
   "cell_type": "code",
   "execution_count": null,
   "metadata": {},
   "outputs": [],
   "source": [
    "bm[lb1][lb2], bm[lb2][lb1]"
   ]
  },
  {
   "cell_type": "code",
   "execution_count": null,
   "metadata": {},
   "outputs": [],
   "source": [
    "dist = data.distances[\"d12\"]\n",
    "uncert = data.uncertainties[\"d12\"]\n",
    "\n",
    "dist, uncert"
   ]
  },
  {
   "cell_type": "code",
   "execution_count": null,
   "metadata": {},
   "outputs": [],
   "source": [
    "bm[lb1][lb2] = dist + uncert / 2\n",
    "bm[lb2][lb1] = dist - uncert / 2"
   ]
  },
  {
   "cell_type": "code",
   "execution_count": null,
   "metadata": {},
   "outputs": [],
   "source": [
    "def set_dist(bm, lb1, lb2, dist, uncert):\n",
    "    if lb1 > lb2:\n",
    "        high = lb1\n",
    "        low = lb2\n",
    "    else:\n",
    "        high = lb2\n",
    "        low = lb1\n",
    "        \n",
    "    print \"High: {}\".format(high)\n",
    "    print \"Low: {}\".format(low)\n",
    "        \n",
    "    print\n",
    "    \n",
    "    bm[low][high] = dist + uncert / 2\n",
    "    bm[high][low] = max(dist - uncert / 2, 0)\n",
    "    return bm\n",
    "    "
   ]
  },
  {
   "cell_type": "code",
   "execution_count": null,
   "metadata": {},
   "outputs": [],
   "source": [
    "bm = set_dist(bm, lb1, lb2, data.distances[\"d12\"], 0.4)\n",
    "bm = set_dist(bm, lb1, lb3, data.distances[\"d13\"], 0.4)\n",
    "bm = set_dist(bm, lb2, lb3, data.distances[\"d23\"], 0.4)\n",
    "\n",
    "bm"
   ]
  },
  {
   "cell_type": "code",
   "execution_count": null,
   "metadata": {},
   "outputs": [],
   "source": [
    "mol.RemoveAllConformers()"
   ]
  },
  {
   "cell_type": "code",
   "execution_count": null,
   "metadata": {},
   "outputs": [],
   "source": [
    "for i in range(10000):\n",
    "    try:\n",
    "        EmbedLib.EmbedMol(mol, bm, atomMatch=match)\n",
    "    except:\n",
    "        print \"Boo, failed on attempt {}\".format(i+1)\n",
    "        raise"
   ]
  },
  {
   "cell_type": "code",
   "execution_count": null,
   "metadata": {},
   "outputs": [],
   "source": [
    "a = rdkit.Chem.Mol()\n",
    "b = rxn.reactant_mols[0].rdkit_molecule\n",
    "c = rxn.reactant_mols[1].rdkit_molecule\n"
   ]
  },
  {
   "cell_type": "code",
   "execution_count": null,
   "metadata": {},
   "outputs": [],
   "source": [
    "b = rdkit.Chem.CombineMols(a,b)\n",
    "b = rdkit.Chem.CombineMols(b,c)"
   ]
  },
  {
   "cell_type": "code",
   "execution_count": null,
   "metadata": {},
   "outputs": [],
   "source": [
    "rxn.ts.view_ts(b)"
   ]
  },
  {
   "cell_type": "code",
   "execution_count": null,
   "metadata": {},
   "outputs": [],
   "source": []
  }
 ],
 "metadata": {
  "kernelspec": {
   "display_name": "Python 2",
   "language": "python",
   "name": "python2"
  },
  "language_info": {
   "codemirror_mode": {
    "name": "ipython",
    "version": 2
   },
   "file_extension": ".py",
   "mimetype": "text/x-python",
   "name": "python",
   "nbconvert_exporter": "python",
   "pygments_lexer": "ipython2",
   "version": "2.7.13"
  }
 },
 "nbformat": 4,
 "nbformat_minor": 2
}
