{
 "cells": [
  {
   "cell_type": "code",
   "execution_count": 1,
   "metadata": {},
   "outputs": [
    {
     "name": "stderr",
     "output_type": "stream",
     "text": [
      "thermo.py:836 loadLibraries INFO Loading thermodynamics library from primaryThermoLibrary.py in /Users/nathan/Code/RMG-database/input/thermo/libraries...\n",
      "thermo.py:836 loadLibraries INFO Loading thermodynamics library from thermo_DFT_CCSDTF12_BAC.py in /Users/nathan/Code/RMG-database/input/thermo/libraries...\n",
      "thermo.py:836 loadLibraries INFO Loading thermodynamics library from CBS_QB3_1dHR.py in /Users/nathan/Code/RMG-database/input/thermo/libraries...\n",
      "thermo.py:853 loadGroups INFO Loading thermodynamics group database from /Users/nathan/Code/RMG-database/input/thermo/groups...\n",
      "transport.py:294 loadGroups INFO Loading transport group database from /Users/nathan/Code/RMG-database/input/transport/groups...\n",
      "database.py:167 loadFamilies INFO Loading the user-specified kinetics families from /Users/nathan/Code/RMG-database/input/kinetics/families\n",
      "statmech.py:526 loadGroups INFO Loading frequencies group database from /Users/nathan/Code/RMG-database/input/statmech/groups...\n",
      "database.py:127 load INFO Loading transitions state family groups from /Users/nathan/Code/AutoTST/database/H_Abstraction/TS_groups.py\n"
     ]
    }
   ],
   "source": [
    "from autotst.reaction import *\n",
    "from autotst.molecule import *\n",
    "from autotst.geometry import *"
   ]
  },
  {
   "cell_type": "code",
   "execution_count": 2,
   "metadata": {},
   "outputs": [
    {
     "data": {
      "image/png": "[encoded data removed]",
      "text/plain": [
       "Reaction(reactants=[Molecule(SMILES=\"CCCC\"), Molecule(SMILES=\"[O]O\")], products=[Molecule(SMILES=\"[CH2]CCC\"), Molecule(SMILES=\"OO\")])"
      ]
     },
     "execution_count": 2,
     "metadata": {},
     "output_type": "execute_result"
    }
   ],
   "source": [
    "reactants = [Molecule(SMILES=\"CCCC\"), Molecule(SMILES=\"[O]O\")]\n",
    "products = [Molecule(SMILES=\"[CH2]CCC\"), Molecule(SMILES=\"OO\")]\n",
    "rmg_reaction = Reaction(reactants=reactants, products=products)\n",
    "rmg_reaction"
   ]
  },
  {
   "cell_type": "code",
   "execution_count": 3,
   "metadata": {},
   "outputs": [
    {
     "name": "stderr",
     "output_type": "stream",
     "text": [
      "reaction.py:423 bm_pre_edit INFO Changing lower limit 2.9 to 2.393074\n",
      "reaction.py:423 bm_pre_edit INFO Changing lower limit 3.65 to 3.26214059416\n",
      "reaction.py:423 bm_pre_edit INFO Changing lower limit 2.520343 to 2.457475\n"
     ]
    },
    {
     "data": {
      "text/plain": [
       "<autotst.reaction.AutoTST_Reaction instance at 0x11d706998>"
      ]
     },
     "execution_count": 3,
     "metadata": {},
     "output_type": "execute_result"
    }
   ],
   "source": [
    "test_reaction = AutoTST_Reaction(reaction_family=\"H_Abstraction\", rmg_reaction=rmg_reaction)\n",
    "test_reaction"
   ]
  },
  {
   "cell_type": "code",
   "execution_count": 4,
   "metadata": {
    "collapsed": true
   },
   "outputs": [],
   "source": [
    "from ase.calculators.gaussian import *"
   ]
  },
  {
   "cell_type": "code",
   "execution_count": 5,
   "metadata": {
    "collapsed": true
   },
   "outputs": [],
   "source": [
    "def rxn_shell_calc(autotst_rxn, scratch):\n",
    "    \n",
    "    indicies = []\n",
    "    for i, atom in enumerate(autotst_rxn.ts.rmg_ts.atoms):\n",
    "        if not (atom.label == \"\"):\n",
    "            indicies.append(i)\n",
    "    \n",
    "    combos = []\n",
    "    for combo in list(itertools.combinations(indicies, 2)):\n",
    "        a,b = combo\n",
    "        combos.append(\"{0} {1} F\".format(a,b))\n",
    "    \n",
    "\n",
    "    autotst_rxn.ts.rmg_ts.updateMultiplicity()\n",
    "    \n",
    "    calc = Gaussian(mem=\"5GB\", \n",
    "                    nprocshared=\"20\", \n",
    "                    label= autotst_rxn.label + \"_shell\", \n",
    "                    scratch=scratch, \n",
    "                    method=\"m062x\", \n",
    "                    basis=\"6-311+g(2df,2p)\",\n",
    "                    extra=\"opt=(ts,calcfc,noeigentest) freq\",\n",
    "                    multiplicity = test_reaction.ts.rmg_ts.multiplicity,\n",
    "                    addsec = combos)\n",
    "    \n",
    "    del calc.parameters['force']\n",
    "    \n",
    "    autotst_rxn.ts.ase_ts.set_calculator(calc)\n",
    "    return autotst_rxn\n",
    "\n",
    "\n",
    "def rxn_center_calc(autotst_rxn, scratch):\n",
    "    \n",
    "    indicies = []\n",
    "    for i, atom in enumerate(autotst_rxn.ts.rmg_ts.atoms):\n",
    "        if (atom.label == \"\"):\n",
    "            indicies.append(i)\n",
    "            \n",
    "    combos = []\n",
    "    for combo in list(itertools.combinations(indicies, 2)):\n",
    "        a,b = combo\n",
    "        combos.append(\"{0} {1} F\".format(a,b))\n",
    "    \n",
    "    autotst_rxn.ts.rmg_ts.updateMultiplicity()\n",
    "    \n",
    "    calc = Gaussian(mem=\"5GB\", \n",
    "                    nprocshared=\"20\", \n",
    "                    label=autotst_rxn.label + \"_center\", \n",
    "                    scratch=scratch, \n",
    "                    method=\"m062x\", \n",
    "                    basis=\"6-311+g(2df,2p)\",\n",
    "                    extra=\"opt=(ts,calcfc,noeigentest)\",\n",
    "                    multiplicity = test_reaction.ts.rmg_ts.multiplicity,\n",
    "                    addsec = combos)\n",
    "    del calc.parameters['force']\n",
    "    \n",
    "    autotst_rxn.ts.ase_ts.set_calculator(calc)\n",
    "    \n",
    "    return autotst_rxn\n",
    "\n",
    "\n",
    "\n",
    "def irc_calc(autotst_rxn, scratch):\n",
    "    \n",
    "    autotst_rxn.ts.rmg_ts.updateMultiplicity()\n",
    "    \n",
    "    calc = Gaussian(mem=\"5GB\", \n",
    "                    nprocshared=\"20\", \n",
    "                    label= autotst_rxn.label + \"_irc\", \n",
    "                    scratch=scratch, \n",
    "                    method=\"m062x\", \n",
    "                    basis=\"6-311+g(2df,2p)\",\n",
    "                    extra=\"irc=(calcall)\",\n",
    "                    multiplicity = test_reaction.ts.rmg_ts.multiplicity)\n",
    "    del calc.parameters['force']\n",
    "    \n",
    "    autotst_rxn.ts.ase_ts.set_calculator(calc)\n",
    "    \n",
    "    return autotst_rxn\n",
    "    \n"
   ]
  },
  {
   "cell_type": "code",
   "execution_count": 6,
   "metadata": {},
   "outputs": [
    {
     "name": "stdout",
     "output_type": "stream",
     "text": [
      "CCCC+[O]O_[CH2]CCC+OO_shell\n"
     ]
    }
   ],
   "source": [
    "rxn = rxn_shell_calc(test_reaction, \".\")\n",
    "calc1 = rxn.ts.ase_ts.get_calculator()\n",
    "print calc1.label"
   ]
  },
  {
   "cell_type": "code",
   "execution_count": 7,
   "metadata": {},
   "outputs": [
    {
     "name": "stdout",
     "output_type": "stream",
     "text": [
      "CCCC+[O]O_[CH2]CCC+OO_center\n"
     ]
    }
   ],
   "source": [
    "rxn = rxn_center_calc(test_reaction, \".\")\n",
    "calc2 = rxn.ts.ase_ts.get_calculator()\n",
    "print calc2.label"
   ]
  },
  {
   "cell_type": "code",
   "execution_count": 8,
   "metadata": {},
   "outputs": [
    {
     "name": "stdout",
     "output_type": "stream",
     "text": [
      "CCCC+[O]O_[CH2]CCC+OO_irc\n"
     ]
    }
   ],
   "source": [
    "rxn = irc_calc(test_reaction, \".\")\n",
    "calc3 = rxn.ts.ase_ts.get_calculator()\n",
    "print calc3.label"
   ]
  },
  {
   "cell_type": "code",
   "execution_count": 9,
   "metadata": {
    "scrolled": true
   },
   "outputs": [
    {
     "ename": "RuntimeError",
     "evalue": "Gaussian in . returned an error: 127",
     "output_type": "error",
     "traceback": [
      "\u001b[0;31m---------------------------------------------------------------------------\u001b[0m",
      "\u001b[0;31mRuntimeError\u001b[0m                              Traceback (most recent call last)",
      "\u001b[0;32m<ipython-input-9-b9d2966d2285>\u001b[0m in \u001b[0;36m<module>\u001b[0;34m()\u001b[0m\n\u001b[0;32m----> 1\u001b[0;31m \u001b[0mcalc1\u001b[0m\u001b[0;34m.\u001b[0m\u001b[0mcalculate\u001b[0m\u001b[0;34m(\u001b[0m\u001b[0mtest_reaction\u001b[0m\u001b[0;34m.\u001b[0m\u001b[0mts\u001b[0m\u001b[0;34m.\u001b[0m\u001b[0mase_ts\u001b[0m\u001b[0;34m)\u001b[0m\u001b[0;34m\u001b[0m\u001b[0m\n\u001b[0m",
      "\u001b[0;32m/Users/nathan/Code/ase/ase/calculators/calculator.pyc\u001b[0m in \u001b[0;36mcalculate\u001b[0;34m(self, atoms, properties, system_changes)\u001b[0m\n\u001b[1;32m    647\u001b[0m         \u001b[0;32mif\u001b[0m \u001b[0merrorcode\u001b[0m\u001b[0;34m:\u001b[0m\u001b[0;34m\u001b[0m\u001b[0m\n\u001b[1;32m    648\u001b[0m             raise RuntimeError('{} in {} returned an error: {}'\n\u001b[0;32m--> 649\u001b[0;31m                                .format(self.name, self.directory, errorcode))\n\u001b[0m\u001b[1;32m    650\u001b[0m         \u001b[0mself\u001b[0m\u001b[0;34m.\u001b[0m\u001b[0mread_results\u001b[0m\u001b[0;34m(\u001b[0m\u001b[0;34m)\u001b[0m\u001b[0;34m\u001b[0m\u001b[0m\n\u001b[1;32m    651\u001b[0m \u001b[0;34m\u001b[0m\u001b[0m\n",
      "\u001b[0;31mRuntimeError\u001b[0m: Gaussian in . returned an error: 127"
     ]
    }
   ],
   "source": [
    "calc1.calculate(test_reaction.ts.ase_ts)"
   ]
  },
  {
   "cell_type": "code",
   "execution_count": null,
   "metadata": {
    "collapsed": true
   },
   "outputs": [],
   "source": []
  }
 ],
 "metadata": {
  "kernelspec": {
   "display_name": "Python 2",
   "language": "python",
   "name": "python2"
  },
  "language_info": {
   "codemirror_mode": {
    "name": "ipython",
    "version": 2
   },
   "file_extension": ".py",
   "mimetype": "text/x-python",
   "name": "python",
   "nbconvert_exporter": "python",
   "pygments_lexer": "ipython2",
   "version": "2.7.13"
  }
 },
 "nbformat": 4,
 "nbformat_minor": 2
}
