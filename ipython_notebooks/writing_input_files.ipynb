{
 "cells": [
  {
   "cell_type": "code",
   "execution_count": 1,
   "metadata": {},
   "outputs": [
    {
     "name": "stderr",
     "output_type": "stream",
     "text": [
      "thermo.py:836 loadLibraries INFO Loading thermodynamics library from primaryThermoLibrary.py in /Users/nathan/Code/RMG-database/input/thermo/libraries...\n",
      "thermo.py:836 loadLibraries INFO Loading thermodynamics library from thermo_DFT_CCSDTF12_BAC.py in /Users/nathan/Code/RMG-database/input/thermo/libraries...\n",
      "thermo.py:836 loadLibraries INFO Loading thermodynamics library from CBS_QB3_1dHR.py in /Users/nathan/Code/RMG-database/input/thermo/libraries...\n",
      "thermo.py:853 loadGroups INFO Loading thermodynamics group database from /Users/nathan/Code/RMG-database/input/thermo/groups...\n",
      "transport.py:294 loadGroups INFO Loading transport group database from /Users/nathan/Code/RMG-database/input/transport/groups...\n",
      "database.py:167 loadFamilies INFO Loading the user-specified kinetics families from /Users/nathan/Code/RMG-database/input/kinetics/families\n",
      "statmech.py:526 loadGroups INFO Loading frequencies group database from /Users/nathan/Code/RMG-database/input/statmech/groups...\n",
      "database.py:127 load INFO Loading transitions state family groups from ../database/H_Abstraction/TS_groups.py\n"
     ]
    }
   ],
   "source": [
    "from autotst.reaction import *\n",
    "from autotst.molecule import *\n",
    "from autotst.geometry import *"
   ]
  },
  {
   "cell_type": "code",
   "execution_count": 2,
   "metadata": {},
   "outputs": [
    {
     "name": "stderr",
     "output_type": "stream",
     "text": [
      "reaction.py:408 bm_pre_edit INFO Changing lower limit 3.15 to 2.812396\n",
      "reaction.py:408 bm_pre_edit INFO Changing lower limit 2.519563 to 2.456764\n",
      "reaction.py:408 bm_pre_edit INFO Changing lower limit 3.65 to 3.22113913735\n",
      "reaction.py:467 rd_embed INFO RDKit failed to embed on attempt 1 of 10000\n"
     ]
    },
    {
     "data": {
      "text/html": [
       "<div id=\"3dmolviewer_152148958994\"  style=\"position: relative; width: 400px; height: 400px\">\n",
       "<script>\n",
       "if(typeof $3Dmolpromise === 'undefined') $3Dmolpromise = $.when($.getScript('https://3dmol.csb.pitt.edu/build/3Dmol.js'))\n",
       "var viewer_152148958994 = null;\n",
       "$3Dmolpromise.done(function() {\n",
       "viewer_152148958994 = $3Dmol.createViewer($(\"#3dmolviewer_152148958994\"),{backgroundColor:\"white\"});\n",
       "\tviewer_152148958994.addModel(\"\\n     RDKit          3D\\n\\n 20 18  0  0  0  0  0  0  0  0999 V2000\\n    3.3502   -0.6879    1.1933 O   0  0  0  0  0  0  0  0  0  0  0  0\\n    4.3432   -0.9896    0.3831 O   0  0  0  0  0  0  0  0  0  0  0  0\\n    2.5344   -0.2635    0.5084 H   0  0  0  0  0  0  0  0  0  0  0  0\\n    4.9561   -0.2129    0.4369 H   0  0  0  0  0  0  0  0  0  0  0  0\\n   -0.7987    0.8933   -0.7179 C   0  0  0  0  0  0  0  0  0  0  0  0\\n   -1.8683    1.4021   -1.6963 C   0  0  0  0  0  0  0  0  0  0  0  0\\n    0.6168    0.9647   -1.3039 C   0  0  0  0  0  0  0  0  0  0  0  0\\n   -1.8074    2.9152   -1.9036 C   0  0  0  0  0  0  0  0  0  0  0  0\\n    1.6201    0.3221   -0.3557 C   0  0  0  0  0  3  0  0  0  0  0  0\\n   -0.8472    1.4755    0.2287 H   0  0  0  0  0  0  0  0  0  0  0  0\\n   -1.0319   -0.1667   -0.4742 H   0  0  0  0  0  0  0  0  0  0  0  0\\n   -1.7669    0.8873   -2.6764 H   0  0  0  0  0  0  0  0  0  0  0  0\\n   -2.8693    1.1473   -1.2855 H   0  0  0  0  0  0  0  0  0  0  0  0\\n    0.9132    2.0216   -1.4725 H   0  0  0  0  0  0  0  0  0  0  0  0\\n    0.6493    0.4238   -2.2742 H   0  0  0  0  0  0  0  0  0  0  0  0\\n   -2.6691    3.2370   -2.5257 H   0  0  0  0  0  0  0  0  0  0  0  0\\n   -1.8595    3.4438   -0.9281 H   0  0  0  0  0  0  0  0  0  0  0  0\\n   -0.8747    3.2027   -2.4313 H   0  0  0  0  0  0  0  0  0  0  0  0\\n    1.6610    0.8812    0.6034 H   0  0  0  0  0  0  0  0  0  0  0  0\\n    2.6299    0.3176   -0.8176 H   0  0  0  0  0  0  0  0  0  0  0  0\\n  1  2  1  0\\n  1  3  1  0\\n  2  4  1  0\\n  5  6  1  0\\n  5  7  1  0\\n  5 10  1  0\\n  5 11  1  0\\n  6 13  1  0\\n  6  8  1  0\\n  6 12  1  0\\n  7 14  1  0\\n  7  9  1  0\\n  7 15  1  0\\n  8 16  1  0\\n  8 17  1  0\\n  8 18  1  0\\n  9 20  1  0\\n  9 19  1  0\\nM  RAD  1   9   2\\nM  END\\n\",\"sdf\");\n",
       "\tviewer_152148958994.setStyle({\"stick\": {}});\n",
       "\tviewer_152148958994.setBackgroundColor(\"0xeeeeee\");\n",
       "\tviewer_152148958994.zoomTo();\n",
       "viewer_152148958994.render();\n",
       "});\n",
       "</script>"
      ],
      "text/plain": [
       "<IPython.core.display.HTML object>"
      ]
     },
     "execution_count": 2,
     "metadata": {},
     "output_type": "execute_result"
    }
   ],
   "source": [
    "test_reaction = AutoTST_Reaction(\"OO+[CH2]CCCC_[O]O+CCCCC\", \"H_Abstraction\")\n",
    "test_reaction.ts.view_ts()"
   ]
  },
  {
   "cell_type": "code",
   "execution_count": 3,
   "metadata": {},
   "outputs": [],
   "source": [
    "from ase.calculators.gaussian import *"
   ]
  },
  {
   "cell_type": "code",
   "execution_count": 4,
   "metadata": {},
   "outputs": [],
   "source": [
    "def opt_rxn_shell(self):\n",
    "    \n",
    "    indicies = []\n",
    "\n",
    "    for i, atom in enumerate(self.ts.rmg_ts.atoms):\n",
    "        #print atom, i\n",
    "        if not atom.label:\n",
    "            indicies.append(i)\n",
    "            \n",
    "    c = list(itertools.combinations(indicies, 2))\n",
    "    \n",
    "    combos = []\n",
    "    for combo in c:\n",
    "        i,j = combo\n",
    "        combos.append(\"{0} {1} F\".format(i,j))\n",
    "    \n",
    "\n",
    "    self.ts.rmg_ts.updateMultiplicity()\n",
    "    calc = Gaussian(mem=\"5GB\", \n",
    "                    nprocshared=\"20\", \n",
    "                    label=\"test\", \n",
    "                    scratch=\"/gss_gpfs_scratch/harms.n/drug_conformer\", \n",
    "                    method=\"m062x\", \n",
    "                    basis=\"6-311+g(2df,2p)\",\n",
    "                    extra=\"opt=(ts,calcfc,noeigentest) freq\",\n",
    "                    multiplicity = test_reaction.ts.rmg_ts.multiplicity,\n",
    "                    addsec = combos)\n",
    "    del calc.parameters['force']\n",
    "    return calc\n",
    "\n",
    "\n",
    "def opt_rxn_center(self):\n",
    "    \n",
    "    indicies = []\n",
    "\n",
    "    for i, atom in enumerate(self.ts.rmg_ts.atoms):\n",
    "        #print atom, i\n",
    "        if atom.label:\n",
    "            indicies.append(i)\n",
    "            \n",
    "    c = list(itertools.combinations(indicies, 2))\n",
    "    \n",
    "    combos = []\n",
    "    for combo in c:\n",
    "        i,j = combo\n",
    "        combos.append(\"{0} {1} F\".format(i,j))\n",
    "    \n",
    "\n",
    "    self.ts.rmg_ts.updateMultiplicity()\n",
    "    calc = Gaussian(mem=\"5GB\", \n",
    "                    nprocshared=\"20\", \n",
    "                    label=\"test\", \n",
    "                    scratch=\"/gss_gpfs_scratch/harms.n/drug_conformer\", \n",
    "                    method=\"m062x\", \n",
    "                    basis=\"6-311+g(2df,2p)\",\n",
    "                    extra=\"opt=(ts,calcfc,noeigentest) freq\",\n",
    "                    multiplicity = test_reaction.ts.rmg_ts.multiplicity,\n",
    "                    addsec = combos)\n",
    "    del calc.parameters['force']\n",
    "    return calc"
   ]
  },
  {
   "cell_type": "code",
   "execution_count": 5,
   "metadata": {},
   "outputs": [
    {
     "data": {
      "text/plain": [
       "{'basis': '6-311+g(2df,2p)',\n",
       " 'charge': 0,\n",
       " 'mem': '5GB',\n",
       " 'method': 'm062x',\n",
       " 'multiplicity': 2,\n",
       " 'nprocshared': '20'}"
      ]
     },
     "execution_count": 5,
     "metadata": {},
     "output_type": "execute_result"
    }
   ],
   "source": [
    "calc = opt_rxn_shell(test_reaction)\n",
    "calc.parameters"
   ]
  },
  {
   "cell_type": "code",
   "execution_count": 6,
   "metadata": {},
   "outputs": [
    {
     "data": {
      "text/plain": [
       "['1 2',\n",
       " '1 3',\n",
       " '2 4',\n",
       " '5 6',\n",
       " '5 7',\n",
       " '5 10',\n",
       " '5 11',\n",
       " '6 13',\n",
       " '6 8',\n",
       " '6 12',\n",
       " '7 14',\n",
       " '7 9',\n",
       " '7 15',\n",
       " '8 16',\n",
       " '8 17',\n",
       " '8 18',\n",
       " '9 20',\n",
       " '9 19']"
      ]
     },
     "execution_count": 6,
     "metadata": {},
     "output_type": "execute_result"
    }
   ],
   "source": [
    "bond_list = []\n",
    "for bond in test_reaction.ts.rdkit_ts.GetBonds():\n",
    "    bond_list.append(str(bond.GetBeginAtomIdx()+1)+\" \" +  str(bond.GetEndAtomIdx() + 1))\n",
    "bond_list"
   ]
  },
  {
   "cell_type": "code",
   "execution_count": 7,
   "metadata": {
    "scrolled": true
   },
   "outputs": [
    {
     "ename": "RuntimeError",
     "evalue": "Gaussian in . returned an error: 127",
     "output_type": "error",
     "traceback": [
      "\u001b[0;31m---------------------------------------------------------------------------\u001b[0m",
      "\u001b[0;31mRuntimeError\u001b[0m                              Traceback (most recent call last)",
      "\u001b[0;32m<ipython-input-7-be9862cf32c5>\u001b[0m in \u001b[0;36m<module>\u001b[0;34m()\u001b[0m\n\u001b[0;32m----> 1\u001b[0;31m \u001b[0mcalc\u001b[0m\u001b[0;34m.\u001b[0m\u001b[0mcalculate\u001b[0m\u001b[0;34m(\u001b[0m\u001b[0mtest_reaction\u001b[0m\u001b[0;34m.\u001b[0m\u001b[0mts\u001b[0m\u001b[0;34m.\u001b[0m\u001b[0mase_ts\u001b[0m\u001b[0;34m)\u001b[0m\u001b[0;34m\u001b[0m\u001b[0m\n\u001b[0m",
      "\u001b[0;32m/Users/nathan/Code/ase/ase/calculators/calculator.pyc\u001b[0m in \u001b[0;36mcalculate\u001b[0;34m(self, atoms, properties, system_changes)\u001b[0m\n\u001b[1;32m    647\u001b[0m         \u001b[0;32mif\u001b[0m \u001b[0merrorcode\u001b[0m\u001b[0;34m:\u001b[0m\u001b[0;34m\u001b[0m\u001b[0m\n\u001b[1;32m    648\u001b[0m             raise RuntimeError('{} in {} returned an error: {}'\n\u001b[0;32m--> 649\u001b[0;31m                                .format(self.name, self.directory, errorcode))\n\u001b[0m\u001b[1;32m    650\u001b[0m         \u001b[0mself\u001b[0m\u001b[0;34m.\u001b[0m\u001b[0mread_results\u001b[0m\u001b[0;34m(\u001b[0m\u001b[0;34m)\u001b[0m\u001b[0;34m\u001b[0m\u001b[0m\n\u001b[1;32m    651\u001b[0m \u001b[0;34m\u001b[0m\u001b[0m\n",
      "\u001b[0;31mRuntimeError\u001b[0m: Gaussian in . returned an error: 127"
     ]
    }
   ],
   "source": [
    "calc.calculate(test_reaction.ts.ase_ts)"
   ]
  },
  {
   "cell_type": "markdown",
   "metadata": {},
   "source": [
    "# Todo:\n",
    "\n",
    "- [ ] Write a TS geometry optimization file\n",
    "- [ ] Write a TS geometry optimization file with certian distances frozen\n",
    "- [ ] Write a r / p geometry optimization file"
   ]
  },
  {
   "cell_type": "code",
   "execution_count": null,
   "metadata": {},
   "outputs": [],
   "source": []
  }
 ],
 "metadata": {
  "kernelspec": {
   "display_name": "Python 2",
   "language": "python",
   "name": "python2"
  },
  "language_info": {
   "codemirror_mode": {
    "name": "ipython",
    "version": 2
   },
   "file_extension": ".py",
   "mimetype": "text/x-python",
   "name": "python",
   "nbconvert_exporter": "python",
   "pygments_lexer": "ipython2",
   "version": "2.7.13"
  }
 },
 "nbformat": 4,
 "nbformat_minor": 2
}
