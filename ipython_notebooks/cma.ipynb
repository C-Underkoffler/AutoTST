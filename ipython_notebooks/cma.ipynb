{
 "cells": [
  {
   "cell_type": "code",
   "execution_count": 16,
   "metadata": {},
   "outputs": [
    {
     "data": {
      "text/plain": [
       "'es.py'"
      ]
     },
     "execution_count": 16,
     "metadata": {},
     "output_type": "execute_result"
    }
   ],
   "source": [
    "import es\n",
    "es.__file__\n"
   ]
  },
  {
   "cell_type": "code",
   "execution_count": 2,
   "metadata": {},
   "outputs": [],
   "source": [
    "\n",
    "import  numpy  as  np\n",
    "import  matplotlib.pyplot as plt\n",
    "import cma\n",
    "from es import CMAES, PEPG"
   ]
  },
  {
   "cell_type": "code",
   "execution_count": 3,
   "metadata": {},
   "outputs": [],
   "source": [
    "def rastrigin(x):\n",
    "  \"\"\"Rastrigin test objective function, shifted by 10. units away from origin\"\"\"\n",
    "  x = np.copy(x)\n",
    "  x -= 10.0\n",
    "  if not np.isscalar(x[0]):\n",
    "    N = len(x[0])\n",
    "    return -np.array([10 * N + sum(xi**2 - 10 * np.cos(2 * np.pi * xi)) for xi in x])\n",
    "  N = len(x)\n",
    "  return -(10 * N + sum(x**2 - 10 * np.cos(2 * np.pi * x)))\n",
    "\n",
    "fit_func = rastrigin"
   ]
  },
  {
   "cell_type": "code",
   "execution_count": 98,
   "metadata": {},
   "outputs": [
    {
     "name": "stdout",
     "output_type": "stream",
     "text": [
      "This is F(0):\n",
      "15.092756447106783\n"
     ]
    }
   ],
   "source": [
    "x = np.zeros(NPARAMS)# 100-dimensional problem\n",
    "x += -1e7\n",
    "print(\"This is F(0):\")\n",
    "print(rastrigin(x))"
   ]
  },
  {
   "cell_type": "code",
   "execution_count": 99,
   "metadata": {},
   "outputs": [
    {
     "name": "stdout",
     "output_type": "stream",
     "text": [
      "-942.8400422682157\n",
      "('global optimum point:\\n', array([30., 30.]))\n"
     ]
    }
   ],
   "source": [
    "\n",
    "x  =  np.ones((NPARAMS))*30. # 100-dimensional problem\n",
    "print(rastrigin(x))\n",
    "print(\"global optimum point:\\n\", x)"
   ]
  },
  {
   "cell_type": "code",
   "execution_count": 16,
   "metadata": {},
   "outputs": [],
   "source": [
    "from autotst.reaction import *"
   ]
  },
  {
   "cell_type": "code",
   "execution_count": 127,
   "metadata": {},
   "outputs": [
    {
     "name": "stderr",
     "output_type": "stream",
     "text": [
      "thermo.py:839 loadLibraries INFO Loading thermodynamics library from primaryThermoLibrary.py in /Users/nathan/Code/RMG-Py/../RMG-database/input/thermo/libraries...\n",
      "thermo.py:839 loadLibraries INFO Loading thermodynamics library from thermo_DFT_CCSDTF12_BAC.py in /Users/nathan/Code/RMG-Py/../RMG-database/input/thermo/libraries...\n",
      "thermo.py:839 loadLibraries INFO Loading thermodynamics library from CBS_QB3_1dHR.py in /Users/nathan/Code/RMG-Py/../RMG-database/input/thermo/libraries...\n",
      "thermo.py:856 loadGroups INFO Loading thermodynamics group database from /Users/nathan/Code/RMG-Py/../RMG-database/input/thermo/groups...\n",
      "transport.py:294 loadGroups INFO Loading transport group database from /Users/nathan/Code/RMG-Py/../RMG-database/input/transport/groups...\n",
      "database.py:167 loadFamilies INFO Loading the user-specified kinetics families from /Users/nathan/Code/RMG-Py/../RMG-database/input/kinetics/families\n",
      "statmech.py:526 loadGroups INFO Loading frequencies group database from /Users/nathan/Code/RMG-Py/../RMG-database/input/statmech/groups...\n",
      "database.py:126 load INFO Loading transitions state family groups from /Users/nathan/Code/RMG-Py/../AutoTST/database/H_Abstraction/TS_groups.py\n",
      "reaction.py:138 __init__ INFO Label provided: CCCCO+[O]O_CC[CH]CO+OO\n",
      "reaction.py:139 __init__ INFO Family provided: H_Abstraction\n",
      "reaction.py:248 get_rmg_reactions INFO The distance data is as follows: \n",
      "DistanceData(distances={'d12': 1.351518,'d13': 2.525309,'d23': 1.183726,}, uncertainties={'d12': 0.392119,'d13': 0.212740,'d23': 0.322733,}, comment=u'Matched node C/H2/Cs/Cs ([<Entry index=122 label=\"C/H2/Cs/Cs\">, <Entry index=62 label=\"OjCs\">])\\nMatched node OjO ([<Entry index=126 label=\"C/H2/Cd/Cd\">, <Entry index=32 label=\"OjO\">])\\n')\n",
      "reaction.py:347 get_labels INFO The labled atoms are [6, 16, 0].\n",
      "reaction.py:292 create_rdkit_ts_geometry INFO Initially embedded molecule\n",
      "reaction.py:295 create_rdkit_ts_geometry INFO Editing bounds matrix\n",
      "reaction.py:362 set_limits INFO For atoms 6 and 16 we have a distance of: \t 1.351518\n",
      "reaction.py:362 set_limits INFO For atoms 16 and 0 we have a distance of: \t 1.183726\n",
      "reaction.py:362 set_limits INFO For atoms 6 and 0 we have a distance of: \t 2.525309\n",
      "reaction.py:417 bm_pre_edit INFO Changing lower limit 3.65 to 3.28879259416\n",
      "reaction.py:417 bm_pre_edit INFO Changing lower limit 3.65 to 3.28879259416\n",
      "reaction.py:417 bm_pre_edit INFO Changing lower limit 2.515309 to 2.455244\n",
      "reaction.py:417 bm_pre_edit INFO Changing lower limit 2.9 to 2.419726\n",
      "reaction.py:299 create_rdkit_ts_geometry INFO Performing triangle smoothing on bounds matrix.\n",
      "reaction.py:304 create_rdkit_ts_geometry INFO Now attempting to embed using edited bounds matrix.\n"
     ]
    }
   ],
   "source": [
    "mol = AutoTST_Reaction(\"CCCCO+[O]O_CC[CH]CO+OO\", \"H_Abstraction\")"
   ]
  },
  {
   "cell_type": "code",
   "execution_count": 128,
   "metadata": {},
   "outputs": [
    {
     "data": {
      "text/html": [
       "<div id=\"3dmolviewer_152606022474\"  style=\"position: relative; width: 400px; height: 400px\">\n",
       "<script>\n",
       "if(typeof $3Dmolpromise === 'undefined') $3Dmolpromise = $.when($.getScript('https://3dmol.csb.pitt.edu/build/3Dmol.js'))\n",
       "var viewer_152606022474 = null;\n",
       "$3Dmolpromise.done(function() {\n",
       "viewer_152606022474 = $3Dmol.createViewer($(\"#3dmolviewer_152606022474\"),{backgroundColor:\"white\"});\n",
       "\tviewer_152606022474.addModel(\"\\n     RDKit          3D\\n\\n 18 16  0  0  0  0  0  0  0  0999 V2000\\n    2.0833   -0.8477   -0.4454 O   0  0  0  0  0  1  0  0  0  0  0  0\\n    3.1855   -1.5598   -0.3450 O   0  0  0  0  0  0  0  0  0  0  0  0\\n   -2.4958   -1.0740   -0.3520 O   0  0  0  0  0  0  0  0  0  0  0  0\\n    0.3272    2.1887    0.3491 C   0  0  0  0  0  0  0  0  0  0  0  0\\n   -1.1247   -1.3556   -0.2944 C   0  0  0  0  0  0  0  0  0  0  0  0\\n   -0.5186    0.9422    0.5877 C   0  0  0  0  0  0  0  0  0  0  0  0\\n   -0.3145   -0.0823   -0.5343 C   0  0  0  0  0  0  0  0  0  0  0  0\\n    3.3789   -1.5822    0.6259 H   0  0  0  0  0  0  0  0  0  0  0  0\\n   -2.9603   -1.9348   -0.1846 H   0  0  0  0  0  0  0  0  0  0  0  0\\n    0.0419    2.6709   -0.6102 H   0  0  0  0  0  0  0  0  0  0  0  0\\n    0.1613    2.9137    1.1737 H   0  0  0  0  0  0  0  0  0  0  0  0\\n    1.4057    1.9244    0.3208 H   0  0  0  0  0  0  0  0  0  0  0  0\\n   -0.8637   -2.0962   -1.0823 H   0  0  0  0  0  0  0  0  0  0  0  0\\n   -0.8629   -1.7875    0.6974 H   0  0  0  0  0  0  0  0  0  0  0  0\\n   -0.2279    0.4924    1.5618 H   0  0  0  0  0  0  0  0  0  0  0  0\\n   -1.5887    1.2387    0.6399 H   0  0  0  0  0  0  0  0  0  0  0  0\\n    0.9827   -0.4121   -0.5971 H   0  0  0  0  0  0  0  0  0  0  0  0\\n   -0.6094    0.3612   -1.5108 H   0  0  0  0  0  0  0  0  0  0  0  0\\n  1  2  1  0\\n  2  8  1  0\\n  3  9  1  0\\n  3  5  1  0\\n  4  6  1  0\\n  4 11  1  0\\n  4 12  1  0\\n  4 10  1  0\\n  5 14  1  0\\n  5  7  1  0\\n  5 13  1  0\\n  6 15  1  0\\n  6 16  1  0\\n  6  7  1  0\\n  7 17  1  0\\n  7 18  1  0\\nM  RAD  1   1   2\\nM  END\\n\",\"sdf\");\n",
       "\tviewer_152606022474.setStyle({\"stick\": {}});\n",
       "\tviewer_152606022474.setBackgroundColor(\"0xeeeeee\");\n",
       "\tviewer_152606022474.zoomTo();\n",
       "viewer_152606022474.render();\n",
       "});\n",
       "</script>"
      ],
      "text/plain": [
       "<IPython.core.display.HTML object>"
      ]
     },
     "execution_count": 128,
     "metadata": {},
     "output_type": "execute_result"
    }
   ],
   "source": [
    "mol.ts.view_ts()"
   ]
  },
  {
   "cell_type": "code",
   "execution_count": 129,
   "metadata": {},
   "outputs": [],
   "source": [
    "from ase.calculators.lj import LennardJones\n",
    "mol.ts.ase_ts.set_calculator(LennardJones())"
   ]
  },
  {
   "cell_type": "code",
   "execution_count": 130,
   "metadata": {},
   "outputs": [],
   "source": [
    "\n",
    "NPARAMS = len(mol.ts.torsions)        # make this a 100-dimensinal problem.\n",
    "NPOPULATION = 101    # use population size of 101.\n",
    "MAX_ITERATION = 50 # run each solver for 5000 generations."
   ]
  },
  {
   "cell_type": "code",
   "execution_count": 136,
   "metadata": {},
   "outputs": [],
   "source": [
    "def rastrigin(dihedrals):\n",
    "    \"\"\"Rastrigin test objective function, shifted by 10. units away from origin\"\"\"\n",
    "    dihedrals = np.copy(dihedrals)\n",
    "    \n",
    "    for i, dihedral in enumerate(dihedrals): \n",
    "        torsion = mol.ts.torsions[i]\n",
    "        i,j,k,l = torsion.indices\n",
    "        mol.ts.ase_ts.set_dihedral(i,j,k,l, angle=dihedral, mask=torsion.right_mask)\n",
    "        \n",
    "    return - mol.ts.ase_ts.get_potential_energy()\n",
    "   \n",
    "\n",
    "fit_func = rastrigin"
   ]
  },
  {
   "cell_type": "code",
   "execution_count": 137,
   "metadata": {},
   "outputs": [
    {
     "name": "stdout",
     "output_type": "stream",
     "text": [
      "(50_w,101)-aCMA-ES (mu_w=27.2,w_1=8%) in dimension 4 (seed=225444, Fri May 11 13:37:59 2018)\n"
     ]
    }
   ],
   "source": [
    "cmaes = CMAES(NPARAMS,\n",
    "              popsize=NPOPULATION,\n",
    "              weight_decay=0.0,\n",
    "              sigma_init =180*NPOPULATION\n",
    "          )"
   ]
  },
  {
   "cell_type": "code",
   "execution_count": 138,
   "metadata": {},
   "outputs": [],
   "source": [
    "def test_solver(solver):\n",
    "  history = []\n",
    "  for j in range(MAX_ITERATION):\n",
    "    solutions = solver.ask()\n",
    "    #print solutions\n",
    "    fitness_list = np.zeros(solver.popsize)\n",
    "    #print fitness_list\n",
    "    for i in range(solver.popsize):\n",
    "      fitness_list[i] = fit_func(solutions[i])\n",
    "    solver.tell(fitness_list)\n",
    "    result = solver.result() # first element is the best solution, second element is the best fitness\n",
    "    history.append(result[1])\n",
    "\n",
    "    print(\"fitness at iteration\", (j+1), result[1])\n",
    "  print(\"local optimum discovered by solver:\\n\", result[0])\n",
    "  print(\"fitness score at this local optimum:\", result[1])\n",
    "  return history"
   ]
  },
  {
   "cell_type": "code",
   "execution_count": 139,
   "metadata": {},
   "outputs": [
    {
     "name": "stdout",
     "output_type": "stream",
     "text": [
      "('fitness at iteration', 1, 13.18933704036796)\n",
      "('fitness at iteration', 2, 13.18933704036796)\n",
      "('fitness at iteration', 3, 13.18933704036796)\n",
      "('fitness at iteration', 4, 13.18933704036796)\n",
      "('fitness at iteration', 5, 13.18933704036796)\n",
      "('fitness at iteration', 6, 13.18933704036796)\n",
      "('fitness at iteration', 7, 13.18933704036796)\n",
      "('fitness at iteration', 8, 13.18933704036796)\n",
      "('fitness at iteration', 9, 13.18933704036796)\n",
      "('fitness at iteration', 10, 13.18933704036796)\n",
      "('fitness at iteration', 11, 13.18933704036796)\n",
      "('fitness at iteration', 12, 13.18933704036796)\n",
      "('fitness at iteration', 13, 13.18933704036796)\n",
      "('fitness at iteration', 14, 13.18933704036796)\n",
      "('fitness at iteration', 15, 13.18933704036796)\n",
      "('fitness at iteration', 16, 13.18933704036796)\n",
      "('fitness at iteration', 17, 13.18933704036796)\n",
      "('fitness at iteration', 18, 13.18933704036796)\n",
      "('fitness at iteration', 19, 13.18933704036796)\n",
      "('fitness at iteration', 20, 13.18933704036796)\n",
      "('fitness at iteration', 21, 13.18933704036796)\n",
      "('fitness at iteration', 22, 13.18933704036796)\n",
      "('fitness at iteration', 23, 13.18933704036796)\n",
      "('fitness at iteration', 24, 13.18933704036796)\n",
      "('fitness at iteration', 25, 13.18933704036796)\n",
      "('fitness at iteration', 26, 13.18933704036796)\n",
      "('fitness at iteration', 27, 13.18933704036796)\n",
      "('fitness at iteration', 28, 13.18933704036796)\n",
      "('fitness at iteration', 29, 13.18933704036796)\n",
      "('fitness at iteration', 30, 13.18933704036796)\n",
      "('fitness at iteration', 31, 13.18933704036796)\n",
      "('fitness at iteration', 32, 13.18933704036796)\n",
      "('fitness at iteration', 33, 13.18933704036796)\n",
      "('fitness at iteration', 34, 13.18933704036796)\n",
      "('fitness at iteration', 35, 13.18933704036796)\n",
      "('fitness at iteration', 36, 13.18933704036796)\n",
      "('fitness at iteration', 37, 13.18933704036796)\n",
      "('fitness at iteration', 38, 13.192609458469708)\n",
      "('fitness at iteration', 39, 13.192609458469708)\n",
      "('fitness at iteration', 40, 13.192609458469708)\n",
      "('fitness at iteration', 41, 13.192609458469708)\n",
      "('fitness at iteration', 42, 13.192609458469708)\n",
      "('fitness at iteration', 43, 13.192609458469708)\n",
      "('fitness at iteration', 44, 13.192609458469708)\n",
      "('fitness at iteration', 45, 13.192609458469708)\n",
      "('fitness at iteration', 46, 13.192609458469708)\n",
      "('fitness at iteration', 47, 13.192609458469708)\n",
      "('fitness at iteration', 48, 13.192609458469708)\n",
      "('fitness at iteration', 49, 13.192609458469708)\n",
      "('fitness at iteration', 50, 13.192609458469708)\n",
      "('local optimum discovered by solver:\\n', array([-11039.94790518,   5259.00961643,  24360.8824858 ,  -9757.02401599]))\n",
      "('fitness score at this local optimum:', 13.192609458469708)\n"
     ]
    }
   ],
   "source": [
    "cma_history = test_solver(cmaes)"
   ]
  },
  {
   "cell_type": "code",
   "execution_count": 141,
   "metadata": {},
   "outputs": [],
   "source": [
    "mol.ts.update_from_ase_ts()"
   ]
  },
  {
   "cell_type": "code",
   "execution_count": 143,
   "metadata": {},
   "outputs": [
    {
     "data": {
      "text/html": [
       "<div id=\"3dmolviewer_152606033458\"  style=\"position: relative; width: 400px; height: 400px\">\n",
       "<script>\n",
       "if(typeof $3Dmolpromise === 'undefined') $3Dmolpromise = $.when($.getScript('https://3dmol.csb.pitt.edu/build/3Dmol.js'))\n",
       "var viewer_152606033458 = null;\n",
       "$3Dmolpromise.done(function() {\n",
       "viewer_152606033458 = $3Dmol.createViewer($(\"#3dmolviewer_152606033458\"),{backgroundColor:\"white\"});\n",
       "\tviewer_152606033458.addModel(\"\\n     RDKit          3D\\n\\n 18 16  0  0  0  0  0  0  0  0999 V2000\\n   -2.4039   -1.2417    0.2616 O   0  0  0  0  0  1  0  0  0  0  0  0\\n   -3.5802   -1.7877    0.4858 O   0  0  0  0  0  0  0  0  0  0  0  0\\n    0.3081    2.2219   -0.8129 O   0  0  0  0  0  0  0  0  0  0  0  0\\n    2.1354    0.0885    0.0299 C   0  0  0  0  0  0  0  0  0  0  0  0\\n   -0.7834    1.3438   -0.8199 C   0  0  0  0  0  0  0  0  0  0  0  0\\n    0.7313   -0.1242    0.5859 C   0  0  0  0  0  0  0  0  0  0  0  0\\n   -0.3145   -0.0823   -0.5343 C   0  0  0  0  0  0  0  0  0  0  0  0\\n   -4.1732   -1.0226    0.6945 H   0  0  0  0  0  0  0  0  0  0  0  0\\n   -0.0633    3.1233   -0.9983 H   0  0  0  0  0  0  0  0  0  0  0  0\\n    2.2074    1.0790   -0.4682 H   0  0  0  0  0  0  0  0  0  0  0  0\\n    2.8727    0.0543    0.8596 H   0  0  0  0  0  0  0  0  0  0  0  0\\n    2.3867   -0.7092   -0.7011 H   0  0  0  0  0  0  0  0  0  0  0  0\\n   -1.2705    1.3639   -1.8198 H   0  0  0  0  0  0  0  0  0  0  0  0\\n   -1.5310    1.6547   -0.0562 H   0  0  0  0  0  0  0  0  0  0  0  0\\n    0.6930   -1.1111    1.0960 H   0  0  0  0  0  0  0  0  0  0  0  0\\n    0.5170    0.6697    1.3340 H   0  0  0  0  0  0  0  0  0  0  0  0\\n   -1.3776   -0.8120   -0.1699 H   0  0  0  0  0  0  0  0  0  0  0  0\\n    0.1084   -0.5222   -1.4643 H   0  0  0  0  0  0  0  0  0  0  0  0\\n  1  2  1  0\\n  2  8  1  0\\n  3  9  1  0\\n  3  5  1  0\\n  4  6  1  0\\n  4 11  1  0\\n  4 12  1  0\\n  4 10  1  0\\n  5 14  1  0\\n  5  7  1  0\\n  5 13  1  0\\n  6 15  1  0\\n  6 16  1  0\\n  6  7  1  0\\n  7 17  1  0\\n  7 18  1  0\\nM  RAD  1   1   2\\nM  END\\n\",\"sdf\");\n",
       "\tviewer_152606033458.setStyle({\"stick\": {}});\n",
       "\tviewer_152606033458.setBackgroundColor(\"0xeeeeee\");\n",
       "\tviewer_152606033458.zoomTo();\n",
       "viewer_152606033458.render();\n",
       "});\n",
       "</script>"
      ],
      "text/plain": [
       "<IPython.core.display.HTML object>"
      ]
     },
     "execution_count": 143,
     "metadata": {},
     "output_type": "execute_result"
    }
   ],
   "source": [
    "mol.ts.view_ts()"
   ]
  },
  {
   "cell_type": "code",
   "execution_count": 65,
   "metadata": {},
   "outputs": [],
   "source": [
    "CMAES??"
   ]
  },
  {
   "cell_type": "code",
   "execution_count": 66,
   "metadata": {},
   "outputs": [
    {
     "ename": "NameError",
     "evalue": "name 'solutions' is not defined",
     "output_type": "error",
     "traceback": [
      "\u001b[0;31m---------------------------------------------------------------------------\u001b[0m",
      "\u001b[0;31mNameError\u001b[0m                                 Traceback (most recent call last)",
      "\u001b[0;32m<ipython-input-66-113eb42bb8a1>\u001b[0m in \u001b[0;36m<module>\u001b[0;34m()\u001b[0m\n\u001b[0;32m----> 1\u001b[0;31m \u001b[0msolutions\u001b[0m\u001b[0;34m\u001b[0m\u001b[0m\n\u001b[0m",
      "\u001b[0;31mNameError\u001b[0m: name 'solutions' is not defined"
     ]
    }
   ],
   "source": [
    "solutions"
   ]
  },
  {
   "cell_type": "code",
   "execution_count": null,
   "metadata": {},
   "outputs": [],
   "source": []
  }
 ],
 "metadata": {
  "kernelspec": {
   "display_name": "Python (rmg_env)",
   "language": "python",
   "name": "myenv"
  },
  "language_info": {
   "codemirror_mode": {
    "name": "ipython",
    "version": 2
   },
   "file_extension": ".py",
   "mimetype": "text/x-python",
   "name": "python",
   "nbconvert_exporter": "python",
   "pygments_lexer": "ipython2",
   "version": "2.7.14"
  }
 },
 "nbformat": 4,
 "nbformat_minor": 2
}
