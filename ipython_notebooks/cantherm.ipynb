{
 "cells": [
  {
   "cell_type": "code",
   "execution_count": 1,
   "metadata": {},
   "outputs": [],
   "source": [
    "from rmgpy.cantherm import CanTherm, KineticsJob, StatMechJob\n",
    "from rmgpy.cantherm import *\n",
    "from autotst.reaction import *"
   ]
  },
  {
   "cell_type": "code",
   "execution_count": 2,
   "metadata": {},
   "outputs": [
    {
     "name": "stderr",
     "output_type": "stream",
     "text": [
      "thermo.py:839 loadLibraries INFO Loading thermodynamics library from primaryThermoLibrary.py in /Users/nathan/Code/RMG-Py/../RMG-database/input/thermo/libraries...\n",
      "thermo.py:839 loadLibraries INFO Loading thermodynamics library from thermo_DFT_CCSDTF12_BAC.py in /Users/nathan/Code/RMG-Py/../RMG-database/input/thermo/libraries...\n",
      "thermo.py:839 loadLibraries INFO Loading thermodynamics library from CBS_QB3_1dHR.py in /Users/nathan/Code/RMG-Py/../RMG-database/input/thermo/libraries...\n",
      "thermo.py:856 loadGroups INFO Loading thermodynamics group database from /Users/nathan/Code/RMG-Py/../RMG-database/input/thermo/groups...\n",
      "transport.py:294 loadGroups INFO Loading transport group database from /Users/nathan/Code/RMG-Py/../RMG-database/input/transport/groups...\n",
      "database.py:167 loadFamilies INFO Loading the user-specified kinetics families from /Users/nathan/Code/RMG-Py/../RMG-database/input/kinetics/families\n",
      "statmech.py:526 loadGroups INFO Loading frequencies group database from /Users/nathan/Code/RMG-Py/../RMG-database/input/statmech/groups...\n",
      "database.py:126 load INFO Loading transitions state family groups from /Users/nathan/Code/RMG-Py/../AutoTST/database/H_Abstraction/TS_groups.py\n",
      "reaction.py:248 get_rmg_reactions INFO The distance data is as follows: \n",
      "DistanceData(distances={'d12': 1.322228,'d13': 2.547443,'d23': 1.235329,}, uncertainties={'d12': 0.368943,'d13': 0.209844,'d23': 0.312795,}, comment=u'Matched node C/H3/Cd ([<Entry index=119 label=\"C/H3/Cd\">, <Entry index=210 label=\"Csj/Ct/H2\">])\\nMatched node OjO ([<Entry index=126 label=\"C/H2/Cd/Cd\">, <Entry index=32 label=\"OjO\">])\\n')\n",
      "reaction.py:347 get_labels INFO The labled atoms are [4, 9, 0].\n",
      "reaction.py:292 create_rdkit_ts_geometry INFO Initially embedded molecule\n",
      "reaction.py:295 create_rdkit_ts_geometry INFO Editing bounds matrix\n",
      "reaction.py:362 set_limits INFO For atoms 4 and 9 we have a distance of: \t 1.322228\n",
      "reaction.py:362 set_limits INFO For atoms 9 and 0 we have a distance of: \t 1.235329\n",
      "reaction.py:362 set_limits INFO For atoms 4 and 0 we have a distance of: \t 2.547443\n",
      "reaction.py:417 bm_pre_edit INFO Changing lower limit 3.65 to 3.31857083943\n",
      "reaction.py:417 bm_pre_edit INFO Changing lower limit 2.537443 to 2.477557\n",
      "reaction.py:417 bm_pre_edit INFO Changing lower limit 2.9 to 2.471329\n",
      "reaction.py:299 create_rdkit_ts_geometry INFO Performing triangle smoothing on bounds matrix.\n",
      "reaction.py:304 create_rdkit_ts_geometry INFO Now attempting to embed using edited bounds matrix.\n"
     ]
    }
   ],
   "source": [
    "reactants = [Molecule(SMILES=\"CC=C(C)C\"), Molecule(SMILES=\"[O]O\")]\n",
    "products = [Molecule(SMILES=\"[CH2]C=C(C)C\"), Molecule(SMILES=\"OO\")]\n",
    "rmg_reaction = Reaction(reactants=reactants, products=products)\n",
    "\n",
    "rxn = AutoTST_Reaction(reaction_family=\"H_Abstraction\", rmg_reaction=rmg_reaction)\n"
   ]
  },
  {
   "cell_type": "markdown",
   "metadata": {},
   "source": [
    "## Writing the overall CanTherm file"
   ]
  },
  {
   "cell_type": "code",
   "execution_count": 3,
   "metadata": {},
   "outputs": [],
   "source": [
    "def write_cantherm_ts(rxn):\n",
    "    top = [\"#!/usr/bin/env python\", \"# -*- coding: utf-8 -*-\", \"\", 'modelChemistry = \"M06-2X/cc-pVTZ\"', \"frequencyScaleFactor = 0.982\", \"useHinderedRotors = False\", \"useBondCorrections = False\", \"\"]\n",
    "\n",
    "    scratch =\".\"\n",
    "    for react in rxn.reactant_mols:\n",
    "        line = \"species('{0}', '{1}')\".format(react.smiles, os.path.join(scratch, react.smiles +\".py\"))\n",
    "        top.append(line)\n",
    "\n",
    "    for prod in rxn.product_mols:\n",
    "        line = \"species('{0}', '{1}')\".format(prod.smiles, os.path.join(scratch, prod.smiles +\".py\"))\n",
    "        top.append(line)\n",
    "\n",
    "    line = \"transitionState('TS', '{0}')\".format(os.path.join(scratch, rxn.label +\".py\"))\n",
    "    top.append(line)\n",
    "\n",
    "\n",
    "    line = [\"\",\n",
    "    \"reaction(\",\n",
    "    \"    label = '{0}',\".format(rxn.label),\n",
    "    \"    reactants = ['{0}', '{1}'],\".format(rxn.reactant_mols[0].smiles, rxn.reactant_mols[1].smiles),\n",
    "    \"    products = ['{0}', '{1}'],\".format(rxn.product_mols[0].smiles, rxn.product_mols[1].smiles),\n",
    "    \"    transitionState = 'TS',\",\n",
    "    \"    tunneling = 'Eckart',\",\n",
    "    \")\",\n",
    "    \"\",\n",
    "    \"statmech('TS')\",\n",
    "    \"kinetics('{0}')\".format(rxn.label)]\n",
    "    top += line\n",
    "\n",
    "\n",
    "    input_string = \"\"\n",
    "\n",
    "    for t in top:\n",
    "        input_string += t +\"\\n\"\n",
    "\n",
    "    with open(rxn.label +\".cantherm.py\", \"w\") as f:\n",
    "        f.write(input_string)"
   ]
  },
  {
   "cell_type": "code",
   "execution_count": 4,
   "metadata": {},
   "outputs": [],
   "source": [
    "def write_statmech_ts(rxn):\n",
    "    output = ['#!/usr/bin/env python', '# -*- coding: utf-8 -*-', '', 'atoms = {']\n",
    "\n",
    "\n",
    "    atom_dict = get_atoms(rxn)\n",
    "\n",
    "    for atom, count in atom_dict.iteritems():\n",
    "        output.append(\"    '{0}': {1},\".format(atom, count))\n",
    "    output = output + ['}', '']\n",
    "\n",
    "\n",
    "    bond_dict = get_bonds(rxn)\n",
    "    if bond_dict != {}:\n",
    "        output.append('bonds = {')\n",
    "        for bond_type, num in bond_dict.iteritems():\n",
    "            output.append(\"    '{0}': {1},\".format(bond_type, num))\n",
    "            \n",
    "        output.append(\"}\")\n",
    "    else:\n",
    "        output.append('bonds = {}')\n",
    "\n",
    "\n",
    "\n",
    "    output += [\"\",\"linear = False\",\"\",\"externalSymmetry = 1\", \"\", \"spinMultiplicity = {}\".format(rxn.ts.rmg_ts.multiplicity), \"\", \"opticalIsomers = 1\", \"\"]\n",
    "\n",
    "    output += [\"energy = {\",\"    'M06-2X/cc-pVTZ': GaussianLog('{}_overall.log'),\".format(rxn.label),\"}\",\"\"]\n",
    "\n",
    "    output += [\"geometry = GaussianLog('{}_overall.log')\".format(rxn.label), \"\"]\n",
    "\n",
    "    output += [\"frequencies = GaussianLog('{}_overall.log')\".format(rxn.label), \"\"]\n",
    "\n",
    "    output += [\"rotors = []\", \"\"]\n",
    "\n",
    "    input_string = \"\"\n",
    "\n",
    "    for t in output:\n",
    "        input_string += t +\"\\n\"\n",
    "    print input_string\n",
    "\n",
    "    with open(os.path.join(rxn.label +\".py\"), \"w\") as f:\n",
    "        f.write(input_string)"
   ]
  },
  {
   "cell_type": "code",
   "execution_count": 5,
   "metadata": {},
   "outputs": [],
   "source": [
    "def write_cantherm_for_reacts_and_prods(mol):\n",
    "\n",
    "    output = ['#!/usr/bin/env python', '# -*- coding: utf-8 -*-', '', 'atoms = {']\n",
    "            \n",
    "    atom_dict = get_atoms(mol)\n",
    "\n",
    "    for atom, count in atom_dict.iteritems():\n",
    "        output.append(\"    '{0}': {1},\".format(atom, count))\n",
    "    output = output + ['}', '']\n",
    "\n",
    "    bond_dict = get_bonds(mol)\n",
    "    if bond_dict != {}:\n",
    "        output.append('bonds = {')\n",
    "        for bond_type, num in bond_dict.iteritems():\n",
    "            output.append(\"    '{0}': {1},\".format(bond_type, num))\n",
    "        output.append(\"}\")\n",
    "    else:\n",
    "        output.append('bonds = {}')\n",
    "\n",
    "\n",
    "\n",
    "    output += [\"\",\"linear = False\",\"\",\"externalSymmetry = 1\", \"\", \"spinMultiplicity = {}\".format(mol.rmg_molecule.multiplicity), \"\", \"opticalIsomers = 1\", \"\"]\n",
    "\n",
    "    output += [\"energy = {\",\"    'M06-2X/cc-pVTZ': GaussianLog('{}.log'),\".format(mol.smiles),\"}\",\"\"]\n",
    "\n",
    "    output += [\"geometry = GaussianLog('{}.log')\".format(mol.smiles), \"\"]\n",
    "\n",
    "    output += [\"frequencies = GaussianLog('{}.log')\".format(mol.smiles), \"\"]\n",
    "\n",
    "    output += [\"rotors = []\"]\n",
    "\n",
    "    input_string = \"\"\n",
    "\n",
    "    for t in output:\n",
    "        input_string += t +\"\\n\"\n",
    "\n",
    "    with open(os.path.join(mol.smiles+\".py\"), \"w\") as f:\n",
    "        f.write(input_string)\n",
    "        \n"
   ]
  },
  {
   "cell_type": "code",
   "execution_count": 6,
   "metadata": {},
   "outputs": [],
   "source": [
    "def get_bonds(mol):\n",
    "    bondList = []\n",
    "    if isinstance(mol, AutoTST_Molecule):\n",
    "        rmg_mol = mol.rmg_molecule\n",
    "    elif isinstance(mol, AutoTST_Reaction):\n",
    "        rmg_mol = mol.ts.rmg_ts\n",
    "    elif isinstance(mol, AutoTST_TS):\n",
    "        rmg_mol = mol.rmg_ts\n",
    "    for atom in rmg_mol.atoms:\n",
    "        for bond in atom.bonds.values():\n",
    "            bondList.append(bond)\n",
    "    bonds = list(set(bondList))\n",
    "    bondDict = {}\n",
    "    for bond in bonds:\n",
    "        if bond.isSingle():\n",
    "            if bond.atom1.symbol=='C' and bond.atom2.symbol=='C':\n",
    "                bondType = 'C-C'\n",
    "            elif (bond.atom1.symbol=='H' and bond.atom2.symbol=='H'):\n",
    "                bondType = 'H-H'\n",
    "            elif (bond.atom1.symbol=='C' and bond.atom2.symbol=='H') or (bond.atom1.symbol=='H' and bond.atom2.symbol=='C'):\n",
    "                bondType = 'C-H'\n",
    "            elif (bond.atom1.symbol=='O' and bond.atom2.symbol=='O'):\n",
    "                bondType = 'O-O'\n",
    "            elif (bond.atom1.symbol=='C' and bond.atom2.symbol=='O') or (bond.atom1.symbol=='O' and bond.atom2.symbol=='C'):\n",
    "                bondType = 'C-O'\n",
    "            elif (bond.atom1.symbol=='H' and bond.atom2.symbol=='O') or (bond.atom1.symbol=='O' and bond.atom2.symbol=='H'):\n",
    "                bondType = 'O-H'\n",
    "            elif bond.atom1.symbol=='N' and bond.atom2.symbol=='N':\n",
    "                bondType = 'N-N'\n",
    "            elif (bond.atom1.symbol=='C' and bond.atom2.symbol=='N') or (bond.atom1.symbol=='N' and bond.atom2.symbol=='C'):\n",
    "                bondType = 'N-C'\n",
    "            elif (bond.atom1.symbol=='O' and bond.atom2.symbol=='N') or (bond.atom1.symbol=='N' and bond.atom2.symbol=='O'):\n",
    "                bondType = 'N-O'\n",
    "            elif (bond.atom1.symbol=='H' and bond.atom2.symbol=='N') or (bond.atom1.symbol=='N' and bond.atom2.symbol=='H'):\n",
    "                bondType = 'N-H'\n",
    "            elif bond.atom1.symbol=='S' and bond.atom2.symbol=='S':\n",
    "                bondType = 'S-S'\n",
    "            elif (bond.atom1.symbol=='H' and bond.atom2.symbol=='S') or (bond.atom1.symbol=='S' and bond.atom2.symbol=='H'):\n",
    "                bondType = 'S-H'\n",
    "        elif bond.isDouble:\n",
    "            if bond.atom1.symbol=='C' and bond.atom2.symbol=='C':\n",
    "                bondType = 'C=C'\n",
    "            elif (bond.atom1.symbol=='O' and bond.atom2.symbol=='O'):\n",
    "                bondType = 'O=O'\n",
    "            elif (bond.atom1.symbol=='C' and bond.atom2.symbol=='O') or (bond.atom1.symbol=='O' and bond.atom2.symbol=='C'):\n",
    "                bondType = 'C=O'\n",
    "            elif bond.atom1.symbol=='N' and bond.atom2.symbol=='N':\n",
    "                bondType = 'N=N'\n",
    "            elif (bond.atom1.symbol=='C' and bond.atom2.symbol=='N') or (bond.atom1.symbol=='N' and bond.atom2.symbol=='C'):\n",
    "                bondType = 'N=C'\n",
    "            elif (bond.atom1.symbol=='O' and bond.atom2.symbol=='N') or (bond.atom1.symbol=='N' and bond.atom2.symbol=='O'):\n",
    "                bondType = 'N=O'\n",
    "            elif (bond.atom1.symbol=='O' and bond.atom2.symbol=='S') or (bond.atom1.symbol=='S' and bond.atom2.symbol=='O'):\n",
    "                bondType = 'S=O'\n",
    "        elif bond.isTriple:\n",
    "            if bond.atom1.symbol=='C' and bond.atom2.symbol=='C':\n",
    "                bondType = 'C#C'\n",
    "            elif bond.atom1.symbol=='N' and bond.atom2.symbol=='N':\n",
    "                bondType = 'N#N'\n",
    "            elif (bond.atom1.symbol=='C' and bond.atom2.symbol=='N') or (bond.atom1.symbol=='N' and bond.atom2.symbol=='C'):\n",
    "                bondType = 'N#C'\n",
    "        try:\n",
    "            bondDict[bondType] += 1\n",
    "        except KeyError:\n",
    "            bondDict[bondType] = 1\n",
    "\n",
    "    return bondDict"
   ]
  },
  {
   "cell_type": "code",
   "execution_count": 7,
   "metadata": {},
   "outputs": [],
   "source": [
    "def get_atoms(mol):\n",
    "    atom_dict={}\n",
    "    if isinstance(mol, AutoTST_Molecule):\n",
    "        rmg_mol = mol.rmg_molecule\n",
    "    elif isinstance(mol, AutoTST_Reaction):\n",
    "        rmg_mol = mol.ts.rmg_ts\n",
    "    elif isinstance(mol, AutoTST_TS):\n",
    "        rmg_mol = mol.rmg_ts\n",
    "    for atom in rmg_mol.atoms:\n",
    "        if atom.isCarbon():\n",
    "            atom_type = \"C\"\n",
    "        if atom.isHydrogen():\n",
    "            atom_type = \"H\"\n",
    "        if atom.isOxygen():\n",
    "            atom_type = \"O\"\n",
    "\n",
    "        try:\n",
    "            atom_dict[atom_type] += 1\n",
    "        except KeyError:\n",
    "            atom_dict[atom_type] = 1\n",
    "            \n",
    "    return atom_dict"
   ]
  },
  {
   "cell_type": "code",
   "execution_count": 8,
   "metadata": {},
   "outputs": [
    {
     "name": "stdout",
     "output_type": "stream",
     "text": [
      "#!/usr/bin/env python\n",
      "# -*- coding: utf-8 -*-\n",
      "\n",
      "atoms = {\n",
      "    'H': 11,\n",
      "    'C': 5,\n",
      "    'O': 2,\n",
      "}\n",
      "\n",
      "bonds = {\n",
      "    'O-O': 1,\n",
      "    'C=C': 1,\n",
      "    'O-H': 1,\n",
      "    'C-C': 3,\n",
      "    'C-H': 10,\n",
      "}\n",
      "\n",
      "linear = False\n",
      "\n",
      "externalSymmetry = 1\n",
      "\n",
      "spinMultiplicity = 2\n",
      "\n",
      "opticalIsomers = 1\n",
      "\n",
      "energy = {\n",
      "    'M06-2X/cc-pVTZ': GaussianLog('CC=C(C)C+[O]O_[CH2]C=C(C)C+OO_overall.log'),\n",
      "}\n",
      "\n",
      "geometry = GaussianLog('CC=C(C)C+[O]O_[CH2]C=C(C)C+OO_overall.log')\n",
      "\n",
      "frequencies = GaussianLog('CC=C(C)C+[O]O_[CH2]C=C(C)C+OO_overall.log')\n",
      "\n",
      "rotors = []\n",
      "\n",
      "\n"
     ]
    }
   ],
   "source": [
    "for mol in rxn.reactant_mols:\n",
    "    write_cantherm_for_reacts_and_prods(mol)\n",
    "    \n",
    "for mol in rxn.product_mols:\n",
    "    write_cantherm_for_reacts_and_prods(mol)\n",
    "    \n",
    "write_statmech_ts(rxn)\n",
    "\n",
    "write_cantherm_ts(rxn)"
   ]
  },
  {
   "cell_type": "code",
   "execution_count": 9,
   "metadata": {},
   "outputs": [
    {
     "name": "stdout",
     "output_type": "stream",
     "text": [
      "CanTherm execution initiated at Tue May  8 20:00:56 2018\n",
      "\n",
      "###############################################################\n",
      "#                                                             #\n",
      "#                          CanTherm                           #\n",
      "#                                                             #\n",
      "#   Version: 2.1.0                                            #\n",
      "#   Authors: RMG Developers (rmg_dev@mit.edu)                 #\n",
      "#   P.I.s:   William H. Green (whgreen@mit.edu)               #\n",
      "#            Richard H. West (r.west@neu.edu)                 #\n",
      "#   Website: http://reactionmechanismgenerator.github.io/     #\n",
      "#                                                             #\n",
      "###############################################################\n",
      "\n",
      "Loading species CC=C(C)C...\n",
      "Loading species [O]O...\n",
      "Loading species [CH2]C=C(C)C...\n",
      "Loading species OO...\n",
      "Loading transition state TS...\n",
      "Loading reaction CC=C(C)C+[O]O_[CH2]C=C(C)C+OO...\n",
      "\n",
      "\n",
      "Loading statistical mechanics parameters for CC=C(C)C...\n",
      "Saving statistical mechanics parameters for CC=C(C)C...\n",
      "Loading statistical mechanics parameters for [O]O...\n",
      "Saving statistical mechanics parameters for [O]O...\n",
      "Loading statistical mechanics parameters for [CH2]C=C(C)C...\n",
      "Saving statistical mechanics parameters for [CH2]C=C(C)C...\n",
      "Loading statistical mechanics parameters for OO...\n",
      "Saving statistical mechanics parameters for OO...\n",
      "Loading statistical mechanics parameters for TS...\n",
      "Saving statistical mechanics parameters for TS...\n",
      "Saving kinetics for [O]O + CC=C(C)C <=> [CH2]C=C(C)C + OO...\n"
     ]
    },
    {
     "name": "stderr",
     "output_type": "stream",
     "text": [
      "/Users/nathan/Code/RMG-Py/rmgpy/cantherm/kinetics.py:166: FutureWarning: `rcond` parameter will change to the default of machine precision times ``max(M, N)`` where M and N are the input matrix dimensions.\n",
      "To use the future default and silence this warning we advise to pass `rcond=None`, to keep using the old, explicitly pass `rcond=-1`.\n",
      "  self.reaction.kinetics = Arrhenius().fitToData(Tlist, klist, kunits=self.kunits)\n"
     ]
    },
    {
     "name": "stdout",
     "output_type": "stream",
     "text": [
      "\n",
      "CanTherm execution terminated at Tue May  8 20:00:58 2018\n"
     ]
    },
    {
     "name": "stderr",
     "output_type": "stream",
     "text": [
      "/Users/nathan/Code/RMG-Py/rmgpy/cantherm/kinetics.py:228: FutureWarning: `rcond` parameter will change to the default of machine precision times ``max(M, N)`` where M and N are the input matrix dimensions.\n",
      "To use the future default and silence this warning we advise to pass `rcond=None`, to keep using the old, explicitly pass `rcond=-1`.\n",
      "  kinetics0rev = Arrhenius().fitToData(Tlist, numpy.array(k0revs), kunits=self.krunits)\n",
      "/Users/nathan/Code/RMG-Py/rmgpy/cantherm/kinetics.py:229: FutureWarning: `rcond` parameter will change to the default of machine precision times ``max(M, N)`` where M and N are the input matrix dimensions.\n",
      "To use the future default and silence this warning we advise to pass `rcond=None`, to keep using the old, explicitly pass `rcond=-1`.\n",
      "  kineticsrev = Arrhenius().fitToData(Tlist, numpy.array(krevs), kunits=self.krunits)\n"
     ]
    }
   ],
   "source": [
    "cantherm_job = CanTherm()\n",
    "cantherm_job.inputFile = rxn.label + \".cantherm.py\"\n",
    "cantherm_job.plot = False\n",
    "cantherm_job.outputDirectory = \".\"\n",
    "\n",
    "cantherm_job.execute()"
   ]
  },
  {
   "cell_type": "code",
   "execution_count": 10,
   "metadata": {},
   "outputs": [],
   "source": [
    "for job in cantherm_job.jobList:\n",
    "    if isinstance(job, KineticsJob):\n",
    "        break"
   ]
  },
  {
   "cell_type": "code",
   "execution_count": 11,
   "metadata": {},
   "outputs": [],
   "source": [
    "for reactant in rxn.rmg_reaction.reactants:\n",
    "    for r in job.reaction.reactants: \n",
    "        if reactant.toSMILES() == r.label:\n",
    "            r.molecule = [reactant]\n",
    "            \n",
    "for product in rxn.rmg_reaction.products:\n",
    "    for p in job.reaction.products: \n",
    "        if product.toSMILES() == p.label:\n",
    "            p.molecule = [product]"
   ]
  },
  {
   "cell_type": "code",
   "execution_count": 12,
   "metadata": {},
   "outputs": [
    {
     "data": {
      "image/png": "[encoded data removed]",
      "text/plain": [
       "Reaction(label='CC=C(C)C+[O]O_[CH2]C=C(C)C+OO', reactants=[Species(label=\"[O]O\", conformer=Conformer(E0=(1936.47,'kJ/mol'), modes=[IdealGasTranslation(mass=(32.9977,'amu')), NonlinearRotor(inertia=([0.775043,14.5598,15.3349],'amu*angstrom^2'), symmetry=1), HarmonicOscillator(frequencies=([1228.4,1593.69,3942.52],'cm^-1'))], spinMultiplicity=2), molecule=[Molecule(SMILES=\"[O]O\")]), Species(label=\"CC=C(C)C\", conformer=Conformer(E0=(3546.66,'kJ/mol'), modes=[IdealGasTranslation(mass=(70.0782,'amu')), NonlinearRotor(inertia=([62.5929,143.621,196.994],'amu*angstrom^2'), symmetry=1), HarmonicOscillator(frequencies=([117.231,134.704,189.224,278.553,313.164,403.088,485.653,549.797,803.349,902.596,1017.95,1032.88,1098.3,1139.51,1155.72,1194.66,1205.24,1318.16,1476.87,1538.13,1541.56,1551.02,1589.96,1601.1,1601.23,1609.84,1615.09,1615.76,1881.78,3127.87,3135.15,3138.61,3169.45,3175.38,3176.31,3218.89,3231.29,3253.11,3261.32],'cm^-1'))]), molecule=[Molecule(SMILES=\"CC=C(C)C\")])], products=[Species(label=\"[CH2]C=C(C)C\", conformer=Conformer(E0=(3569.16,'kJ/mol'), modes=[IdealGasTranslation(mass=(69.0704,'amu')), NonlinearRotor(inertia=([62.0095,134.418,190.276],'amu*angstrom^2'), symmetry=1), HarmonicOscillator(frequencies=([55.824,137.413,224.402,309.649,342.943,391.034,550.411,556.615,757.306,775.912,969.647,1034.34,1052.27,1064.51,1130.49,1141.67,1235.38,1321.61,1442.84,1531.95,1540.44,1562.4,1589.42,1598.56,1605.33,1620.98,1630.08,3118.91,3128.18,3157.94,3164.69,3212.74,3242.66,3259.8,3282.43,3365.89],'cm^-1'))], spinMultiplicity=2), molecule=[Molecule(SMILES=\"[CH2]C=C(C)C\")]), Species(label=\"OO\", conformer=Conformer(E0=(1930.97,'kJ/mol'), modes=[IdealGasTranslation(mass=(34.0055,'amu')), NonlinearRotor(inertia=([1.58184,17.8015,18.4661],'amu*angstrom^2'), symmetry=1), HarmonicOscillator(frequencies=([391.396,1129.99,1466.15,1605.09,4017.01,4018.89],'cm^-1'))]), molecule=[Molecule(SMILES=\"OO\")])], kinetics=Arrhenius(A=(4.24535e-41,'cm^3/(mol*s)'), n=15.2205, Ea=(12.3176,'kJ/mol'), T0=(1,'K'), Tmin=(303.03,'K'), Tmax=(2500,'K'), comment=\"\"\"Fitted to 59 data points; dA = *|/ 53.2679, dn = +|- 0.521727, dEa = +|- 2.87002 kJ/mol\"\"\"), transitionState=TransitionState(label=\"TS\", conformer=Conformer(E0=(5624.22,'kJ/mol'), modes=[IdealGasTranslation(mass=(103.076,'amu')), NonlinearRotor(inertia=([102.297,548.163,575.177],'amu*angstrom^2'), symmetry=1), HarmonicOscillator(frequencies=([18.1757,53.4283,61.8371,97.9974,164.373,191.497,290.477,309.356,370.558,403.245,450.994,524.332,576.341,581.091,792.729,909.448,1031.48,1051.52,1071.96,1125,1136.56,1160.99,1168.5,1206.05,1296.97,1332.98,1463.51,1517,1538.16,1544.07,1546.49,1586,1590.38,1595.83,1606.18,1610.66,1655.66,3128.23,3136.79,3171.33,3178.27,3216.62,3220.05,3250.53,3270.18,3298.12,3993.19],'cm^-1'))], spinMultiplicity=2), frequency=(-3357.9,'cm^-1'), tunneling=Eckart(frequency=(-3357.9,'cm^-1'), E0_reac=(5483.13,'kJ/mol'), E0_TS=(5624.22,'kJ/mol'), E0_prod=(5500.13,'kJ/mol'))))"
      ]
     },
     "execution_count": 12,
     "metadata": {},
     "output_type": "execute_result"
    }
   ],
   "source": [
    "job.reaction"
   ]
  },
  {
   "cell_type": "code",
   "execution_count": 13,
   "metadata": {},
   "outputs": [
    {
     "name": "stdout",
     "output_type": "stream",
     "text": [
      "Reaction(label='CC=C(C)C+[O]O_[CH2]C=C(C)C+OO', reactants=[Species(label=\"[O]O\", conformer=Conformer(E0=(1936.47,'kJ/mol'), modes=[IdealGasTranslation(mass=(32.9977,'amu')), NonlinearRotor(inertia=([0.775043,14.5598,15.3349],'amu*angstrom^2'), symmetry=1), HarmonicOscillator(frequencies=([1228.4,1593.69,3942.52],'cm^-1'))], spinMultiplicity=2), molecule=[Molecule(SMILES=\"[O]O\")]), Species(label=\"CC=C(C)C\", conformer=Conformer(E0=(3546.66,'kJ/mol'), modes=[IdealGasTranslation(mass=(70.0782,'amu')), NonlinearRotor(inertia=([62.5929,143.621,196.994],'amu*angstrom^2'), symmetry=1), HarmonicOscillator(frequencies=([117.231,134.704,189.224,278.553,313.164,403.088,485.653,549.797,803.349,902.596,1017.95,1032.88,1098.3,1139.51,1155.72,1194.66,1205.24,1318.16,1476.87,1538.13,1541.56,1551.02,1589.96,1601.1,1601.23,1609.84,1615.09,1615.76,1881.78,3127.87,3135.15,3138.61,3169.45,3175.38,3176.31,3218.89,3231.29,3253.11,3261.32],'cm^-1'))]), molecule=[Molecule(SMILES=\"CC=C(C)C\")])], products=[Species(label=\"[CH2]C=C(C)C\", conformer=Conformer(E0=(3569.16,'kJ/mol'), modes=[IdealGasTranslation(mass=(69.0704,'amu')), NonlinearRotor(inertia=([62.0095,134.418,190.276],'amu*angstrom^2'), symmetry=1), HarmonicOscillator(frequencies=([55.824,137.413,224.402,309.649,342.943,391.034,550.411,556.615,757.306,775.912,969.647,1034.34,1052.27,1064.51,1130.49,1141.67,1235.38,1321.61,1442.84,1531.95,1540.44,1562.4,1589.42,1598.56,1605.33,1620.98,1630.08,3118.91,3128.18,3157.94,3164.69,3212.74,3242.66,3259.8,3282.43,3365.89],'cm^-1'))], spinMultiplicity=2), molecule=[Molecule(SMILES=\"[CH2]C=C(C)C\")]), Species(label=\"OO\", conformer=Conformer(E0=(1930.97,'kJ/mol'), modes=[IdealGasTranslation(mass=(34.0055,'amu')), NonlinearRotor(inertia=([1.58184,17.8015,18.4661],'amu*angstrom^2'), symmetry=1), HarmonicOscillator(frequencies=([391.396,1129.99,1466.15,1605.09,4017.01,4018.89],'cm^-1'))]), molecule=[Molecule(SMILES=\"OO\")])], kinetics=Arrhenius(A=(4.24535e-41,'cm^3/(mol*s)'), n=15.2205, Ea=(12.3176,'kJ/mol'), T0=(1,'K'), Tmin=(303.03,'K'), Tmax=(2500,'K'), comment=\"\"\"Fitted to 59 data points; dA = *|/ 53.2679, dn = +|- 0.521727, dEa = +|- 2.87002 kJ/mol\"\"\"), transitionState=TransitionState(label=\"TS\", conformer=Conformer(E0=(5624.22,'kJ/mol'), modes=[IdealGasTranslation(mass=(103.076,'amu')), NonlinearRotor(inertia=([102.297,548.163,575.177],'amu*angstrom^2'), symmetry=1), HarmonicOscillator(frequencies=([18.1757,53.4283,61.8371,97.9974,164.373,191.497,290.477,309.356,370.558,403.245,450.994,524.332,576.341,581.091,792.729,909.448,1031.48,1051.52,1071.96,1125,1136.56,1160.99,1168.5,1206.05,1296.97,1332.98,1463.51,1517,1538.16,1544.07,1546.49,1586,1590.38,1595.83,1606.18,1610.66,1655.66,3128.23,3136.79,3171.33,3178.27,3216.62,3220.05,3250.53,3270.18,3298.12,3993.19],'cm^-1'))], spinMultiplicity=2), frequency=(-3357.9,'cm^-1'), tunneling=Eckart(frequency=(-3357.9,'cm^-1'), E0_reac=(5483.13,'kJ/mol'), E0_TS=(5624.22,'kJ/mol'), E0_prod=(5500.13,'kJ/mol'))))\n"
     ]
    }
   ],
   "source": [
    "print \"{0!r}\".format(job.reaction)"
   ]
  },
  {
   "cell_type": "code",
   "execution_count": 14,
   "metadata": {},
   "outputs": [],
   "source": [
    "from autotst.calculators.cantherm import *"
   ]
  },
  {
   "cell_type": "code",
   "execution_count": 15,
   "metadata": {},
   "outputs": [],
   "source": [
    "calc = AutoTST_CanTherm(rxn)"
   ]
  },
  {
   "cell_type": "code",
   "execution_count": 16,
   "metadata": {},
   "outputs": [],
   "source": [
    "calc.write_files()"
   ]
  },
  {
   "cell_type": "code",
   "execution_count": 17,
   "metadata": {},
   "outputs": [
    {
     "name": "stdout",
     "output_type": "stream",
     "text": [
      "CanTherm execution initiated at Tue May  8 20:00:59 2018\n",
      "\n",
      "###############################################################\n",
      "#                                                             #\n",
      "#                          CanTherm                           #\n",
      "#                                                             #\n",
      "#   Version: 2.1.0                                            #\n",
      "#   Authors: RMG Developers (rmg_dev@mit.edu)                 #\n",
      "#   P.I.s:   William H. Green (whgreen@mit.edu)               #\n",
      "#            Richard H. West (r.west@neu.edu)                 #\n",
      "#   Website: http://reactionmechanismgenerator.github.io/     #\n",
      "#                                                             #\n",
      "###############################################################\n",
      "\n",
      "Loading species CC=C(C)C...\n",
      "Loading species [O]O...\n",
      "Loading species [CH2]C=C(C)C...\n",
      "Loading species OO...\n",
      "Loading transition state TS...\n",
      "Loading reaction CC=C(C)C+[O]O_[CH2]C=C(C)C+OO...\n",
      "\n",
      "\n",
      "Loading statistical mechanics parameters for CC=C(C)C...\n",
      "Saving statistical mechanics parameters for CC=C(C)C...\n",
      "Loading statistical mechanics parameters for [O]O...\n",
      "Saving statistical mechanics parameters for [O]O...\n",
      "Loading statistical mechanics parameters for [CH2]C=C(C)C...\n",
      "Saving statistical mechanics parameters for [CH2]C=C(C)C...\n",
      "Loading statistical mechanics parameters for OO...\n",
      "Saving statistical mechanics parameters for OO...\n",
      "Loading statistical mechanics parameters for TS...\n",
      "Saving statistical mechanics parameters for TS...\n",
      "Saving kinetics for CC=C(C)C + [O]O <=> OO + [CH2]C=C(C)C...\n",
      "\n",
      "CanTherm execution terminated at Tue May  8 20:01:01 2018\n"
     ]
    }
   ],
   "source": [
    "calc.run()"
   ]
  },
  {
   "cell_type": "code",
   "execution_count": 18,
   "metadata": {},
   "outputs": [
    {
     "data": {
      "text/plain": [
       "<AutoTST Reaction \"CC=C(C)C+[O]O_[CH2]C=C(C)C+OO\">"
      ]
     },
     "execution_count": 18,
     "metadata": {},
     "output_type": "execute_result"
    }
   ],
   "source": [
    "calc.set_reactants_and_products()"
   ]
  },
  {
   "cell_type": "code",
   "execution_count": 19,
   "metadata": {},
   "outputs": [
    {
     "data": {
      "image/png": "[encoded data removed]",
      "text/plain": [
       "Reaction(label='CC=C(C)C+[O]O_[CH2]C=C(C)C+OO', reactants=[Species(label=\"CC=C(C)C\", conformer=Conformer(E0=(3546.66,'kJ/mol'), modes=[IdealGasTranslation(mass=(70.0782,'amu')), NonlinearRotor(inertia=([62.5929,143.621,196.994],'amu*angstrom^2'), symmetry=1), HarmonicOscillator(frequencies=([117.231,134.704,189.224,278.553,313.164,403.088,485.653,549.797,803.349,902.596,1017.95,1032.88,1098.3,1139.51,1155.72,1194.66,1205.24,1318.16,1476.87,1538.13,1541.56,1551.02,1589.96,1601.1,1601.23,1609.84,1615.09,1615.76,1881.78,3127.87,3135.15,3138.61,3169.45,3175.38,3176.31,3218.89,3231.29,3253.11,3261.32],'cm^-1'))]), molecule=[Molecule(SMILES=\"CC=C(C)C\")]), Species(label=\"[O]O\", conformer=Conformer(E0=(1936.47,'kJ/mol'), modes=[IdealGasTranslation(mass=(32.9977,'amu')), NonlinearRotor(inertia=([0.775043,14.5598,15.3349],'amu*angstrom^2'), symmetry=1), HarmonicOscillator(frequencies=([1228.4,1593.69,3942.52],'cm^-1'))], spinMultiplicity=2), molecule=[Molecule(SMILES=\"[O]O\")])], products=[Species(label=\"OO\", conformer=Conformer(E0=(1930.97,'kJ/mol'), modes=[IdealGasTranslation(mass=(34.0055,'amu')), NonlinearRotor(inertia=([1.58184,17.8015,18.4661],'amu*angstrom^2'), symmetry=1), HarmonicOscillator(frequencies=([391.396,1129.99,1466.15,1605.09,4017.01,4018.89],'cm^-1'))]), molecule=[Molecule(SMILES=\"OO\")]), Species(label=\"[CH2]C=C(C)C\", conformer=Conformer(E0=(3569.16,'kJ/mol'), modes=[IdealGasTranslation(mass=(69.0704,'amu')), NonlinearRotor(inertia=([62.0095,134.418,190.276],'amu*angstrom^2'), symmetry=1), HarmonicOscillator(frequencies=([55.824,137.413,224.402,309.649,342.943,391.034,550.411,556.615,757.306,775.912,969.647,1034.34,1052.27,1064.51,1130.49,1141.67,1235.38,1321.61,1442.84,1531.95,1540.44,1562.4,1589.42,1598.56,1605.33,1620.98,1630.08,3118.91,3128.18,3157.94,3164.69,3212.74,3242.66,3259.8,3282.43,3365.89],'cm^-1'))], spinMultiplicity=2), molecule=[Molecule(SMILES=\"[CH2]C=C(C)C\")])], kinetics=Arrhenius(A=(4.24535e-41,'cm^3/(mol*s)'), n=15.2205, Ea=(12.3176,'kJ/mol'), T0=(1,'K'), Tmin=(303.03,'K'), Tmax=(2500,'K'), comment=\"\"\"Fitted to 59 data points; dA = *|/ 53.2679, dn = +|- 0.521727, dEa = +|- 2.87002 kJ/mol\"\"\"), transitionState=TransitionState(label=\"TS\", conformer=Conformer(E0=(5624.22,'kJ/mol'), modes=[IdealGasTranslation(mass=(103.076,'amu')), NonlinearRotor(inertia=([102.297,548.163,575.177],'amu*angstrom^2'), symmetry=1), HarmonicOscillator(frequencies=([18.1757,53.4283,61.8371,97.9974,164.373,191.497,290.477,309.356,370.558,403.245,450.994,524.332,576.341,581.091,792.729,909.448,1031.48,1051.52,1071.96,1125,1136.56,1160.99,1168.5,1206.05,1296.97,1332.98,1463.51,1517,1538.16,1544.07,1546.49,1586,1590.38,1595.83,1606.18,1610.66,1655.66,3128.23,3136.79,3171.33,3178.27,3216.62,3220.05,3250.53,3270.18,3298.12,3993.19],'cm^-1'))], spinMultiplicity=2), frequency=(-3357.9,'cm^-1'), tunneling=Eckart(frequency=(-3357.9,'cm^-1'), E0_reac=(5483.13,'kJ/mol'), E0_TS=(5624.22,'kJ/mol'), E0_prod=(5500.13,'kJ/mol'))))"
      ]
     },
     "execution_count": 19,
     "metadata": {},
     "output_type": "execute_result"
    }
   ],
   "source": [
    "calc.kinetics_job.reaction"
   ]
  },
  {
   "cell_type": "code",
   "execution_count": null,
   "metadata": {},
   "outputs": [],
   "source": []
  },
  {
   "cell_type": "code",
   "execution_count": 20,
   "metadata": {},
   "outputs": [
    {
     "data": {
      "image/png": "[encoded data removed]",
      "text/plain": [
       "Reaction(label='CC=C(C)C+[O]O_[CH2]C=C(C)C+OO', reactants=[Species(label=\"CC=C(C)C\", conformer=Conformer(E0=(3546.66,'kJ/mol'), modes=[IdealGasTranslation(mass=(70.0782,'amu')), NonlinearRotor(inertia=([62.5929,143.621,196.994],'amu*angstrom^2'), symmetry=1), HarmonicOscillator(frequencies=([117.231,134.704,189.224,278.553,313.164,403.088,485.653,549.797,803.349,902.596,1017.95,1032.88,1098.3,1139.51,1155.72,1194.66,1205.24,1318.16,1476.87,1538.13,1541.56,1551.02,1589.96,1601.1,1601.23,1609.84,1615.09,1615.76,1881.78,3127.87,3135.15,3138.61,3169.45,3175.38,3176.31,3218.89,3231.29,3253.11,3261.32],'cm^-1'))]), molecule=[Molecule(SMILES=\"CC=C(C)C\")]), Species(label=\"[O]O\", conformer=Conformer(E0=(1936.47,'kJ/mol'), modes=[IdealGasTranslation(mass=(32.9977,'amu')), NonlinearRotor(inertia=([0.775043,14.5598,15.3349],'amu*angstrom^2'), symmetry=1), HarmonicOscillator(frequencies=([1228.4,1593.69,3942.52],'cm^-1'))], spinMultiplicity=2), molecule=[Molecule(SMILES=\"[O]O\")])], products=[Species(label=\"OO\", conformer=Conformer(E0=(1930.97,'kJ/mol'), modes=[IdealGasTranslation(mass=(34.0055,'amu')), NonlinearRotor(inertia=([1.58184,17.8015,18.4661],'amu*angstrom^2'), symmetry=1), HarmonicOscillator(frequencies=([391.396,1129.99,1466.15,1605.09,4017.01,4018.89],'cm^-1'))]), molecule=[Molecule(SMILES=\"OO\")]), Species(label=\"[CH2]C=C(C)C\", conformer=Conformer(E0=(3569.16,'kJ/mol'), modes=[IdealGasTranslation(mass=(69.0704,'amu')), NonlinearRotor(inertia=([62.0095,134.418,190.276],'amu*angstrom^2'), symmetry=1), HarmonicOscillator(frequencies=([55.824,137.413,224.402,309.649,342.943,391.034,550.411,556.615,757.306,775.912,969.647,1034.34,1052.27,1064.51,1130.49,1141.67,1235.38,1321.61,1442.84,1531.95,1540.44,1562.4,1589.42,1598.56,1605.33,1620.98,1630.08,3118.91,3128.18,3157.94,3164.69,3212.74,3242.66,3259.8,3282.43,3365.89],'cm^-1'))], spinMultiplicity=2), molecule=[Molecule(SMILES=\"[CH2]C=C(C)C\")])], kinetics=Arrhenius(A=(4.24535e-41,'cm^3/(mol*s)'), n=15.2205, Ea=(12.3176,'kJ/mol'), T0=(1,'K'), Tmin=(303.03,'K'), Tmax=(2500,'K'), comment=\"\"\"Fitted to 59 data points; dA = *|/ 53.2679, dn = +|- 0.521727, dEa = +|- 2.87002 kJ/mol\"\"\"), transitionState=TransitionState(label=\"TS\", conformer=Conformer(E0=(5624.22,'kJ/mol'), modes=[IdealGasTranslation(mass=(103.076,'amu')), NonlinearRotor(inertia=([102.297,548.163,575.177],'amu*angstrom^2'), symmetry=1), HarmonicOscillator(frequencies=([18.1757,53.4283,61.8371,97.9974,164.373,191.497,290.477,309.356,370.558,403.245,450.994,524.332,576.341,581.091,792.729,909.448,1031.48,1051.52,1071.96,1125,1136.56,1160.99,1168.5,1206.05,1296.97,1332.98,1463.51,1517,1538.16,1544.07,1546.49,1586,1590.38,1595.83,1606.18,1610.66,1655.66,3128.23,3136.79,3171.33,3178.27,3216.62,3220.05,3250.53,3270.18,3298.12,3993.19],'cm^-1'))], spinMultiplicity=2), frequency=(-3357.9,'cm^-1'), tunneling=Eckart(frequency=(-3357.9,'cm^-1'), E0_reac=(5483.13,'kJ/mol'), E0_TS=(5624.22,'kJ/mol'), E0_prod=(5500.13,'kJ/mol'))))"
      ]
     },
     "execution_count": 20,
     "metadata": {},
     "output_type": "execute_result"
    }
   ],
   "source": [
    "rxn.rmg_reaction"
   ]
  },
  {
   "cell_type": "code",
   "execution_count": 21,
   "metadata": {},
   "outputs": [
    {
     "data": {
      "text/plain": [
       "<AutoTST Molecule \"CC=C(C)C\">"
      ]
     },
     "execution_count": 21,
     "metadata": {},
     "output_type": "execute_result"
    }
   ],
   "source": [
    "rxn.reactant_mols[0]"
   ]
  },
  {
   "cell_type": "code",
   "execution_count": 22,
   "metadata": {},
   "outputs": [
    {
     "data": {
      "text/html": [
       "<div>\n",
       "<style scoped>\n",
       "    .dataframe tbody tr th:only-of-type {\n",
       "        vertical-align: middle;\n",
       "    }\n",
       "\n",
       "    .dataframe tbody tr th {\n",
       "        vertical-align: top;\n",
       "    }\n",
       "\n",
       "    .dataframe thead th {\n",
       "        text-align: right;\n",
       "    }\n",
       "</style>\n",
       "<table border=\"1\" class=\"dataframe\">\n",
       "  <thead>\n",
       "    <tr style=\"text-align: right;\">\n",
       "      <th></th>\n",
       "      <th>0</th>\n",
       "      <th>1</th>\n",
       "      <th>2</th>\n",
       "      <th>3</th>\n",
       "    </tr>\n",
       "  </thead>\n",
       "  <tbody>\n",
       "    <tr>\n",
       "      <th>0</th>\n",
       "      <td>-1</td>\n",
       "      <td>-2</td>\n",
       "      <td>-3</td>\n",
       "      <td>-4</td>\n",
       "    </tr>\n",
       "    <tr>\n",
       "      <th>1</th>\n",
       "      <td>-2</td>\n",
       "      <td>-3</td>\n",
       "      <td>-4</td>\n",
       "      <td>-5</td>\n",
       "    </tr>\n",
       "    <tr>\n",
       "      <th>2</th>\n",
       "      <td>-4</td>\n",
       "      <td>-5</td>\n",
       "      <td>-3</td>\n",
       "      <td>-6</td>\n",
       "    </tr>\n",
       "    <tr>\n",
       "      <th>3</th>\n",
       "      <td>4</td>\n",
       "      <td>6</td>\n",
       "      <td>9</td>\n",
       "      <td>10</td>\n",
       "    </tr>\n",
       "  </tbody>\n",
       "</table>\n",
       "</div>"
      ],
      "text/plain": [
       "   0  1  2   3\n",
       "0 -1 -2 -3  -4\n",
       "1 -2 -3 -4  -5\n",
       "2 -4 -5 -3  -6\n",
       "3  4  6  9  10"
      ]
     },
     "execution_count": 22,
     "metadata": {},
     "output_type": "execute_result"
    }
   ],
   "source": [
    "df = [[1,2,3,4],\n",
    "      [2,3,4,5],\n",
    "      [4,5,3,6],\n",
    "      [-4,-6,-9,-10]]\n",
    "\n",
    "df = -1 * pd.DataFrame(df)\n",
    "df"
   ]
  },
  {
   "cell_type": "code",
   "execution_count": 23,
   "metadata": {},
   "outputs": [
    {
     "data": {
      "text/html": [
       "<div>\n",
       "<style scoped>\n",
       "    .dataframe tbody tr th:only-of-type {\n",
       "        vertical-align: middle;\n",
       "    }\n",
       "\n",
       "    .dataframe tbody tr th {\n",
       "        vertical-align: top;\n",
       "    }\n",
       "\n",
       "    .dataframe thead th {\n",
       "        text-align: right;\n",
       "    }\n",
       "</style>\n",
       "<table border=\"1\" class=\"dataframe\">\n",
       "  <thead>\n",
       "    <tr style=\"text-align: right;\">\n",
       "      <th></th>\n",
       "      <th>0</th>\n",
       "      <th>1</th>\n",
       "      <th>2</th>\n",
       "      <th>3</th>\n",
       "    </tr>\n",
       "  </thead>\n",
       "  <tbody>\n",
       "    <tr>\n",
       "      <th>count</th>\n",
       "      <td>4.00000</td>\n",
       "      <td>4.000000</td>\n",
       "      <td>4.000000</td>\n",
       "      <td>4.000000</td>\n",
       "    </tr>\n",
       "    <tr>\n",
       "      <th>mean</th>\n",
       "      <td>-0.75000</td>\n",
       "      <td>-1.000000</td>\n",
       "      <td>-0.250000</td>\n",
       "      <td>-1.250000</td>\n",
       "    </tr>\n",
       "    <tr>\n",
       "      <th>std</th>\n",
       "      <td>3.40343</td>\n",
       "      <td>4.830459</td>\n",
       "      <td>6.184658</td>\n",
       "      <td>7.544314</td>\n",
       "    </tr>\n",
       "    <tr>\n",
       "      <th>min</th>\n",
       "      <td>-4.00000</td>\n",
       "      <td>-5.000000</td>\n",
       "      <td>-4.000000</td>\n",
       "      <td>-6.000000</td>\n",
       "    </tr>\n",
       "    <tr>\n",
       "      <th>25%</th>\n",
       "      <td>-2.50000</td>\n",
       "      <td>-3.500000</td>\n",
       "      <td>-3.250000</td>\n",
       "      <td>-5.250000</td>\n",
       "    </tr>\n",
       "    <tr>\n",
       "      <th>50%</th>\n",
       "      <td>-1.50000</td>\n",
       "      <td>-2.500000</td>\n",
       "      <td>-3.000000</td>\n",
       "      <td>-4.500000</td>\n",
       "    </tr>\n",
       "    <tr>\n",
       "      <th>75%</th>\n",
       "      <td>0.25000</td>\n",
       "      <td>0.000000</td>\n",
       "      <td>0.000000</td>\n",
       "      <td>-0.500000</td>\n",
       "    </tr>\n",
       "    <tr>\n",
       "      <th>max</th>\n",
       "      <td>4.00000</td>\n",
       "      <td>6.000000</td>\n",
       "      <td>9.000000</td>\n",
       "      <td>10.000000</td>\n",
       "    </tr>\n",
       "  </tbody>\n",
       "</table>\n",
       "</div>"
      ],
      "text/plain": [
       "             0         1         2          3\n",
       "count  4.00000  4.000000  4.000000   4.000000\n",
       "mean  -0.75000 -1.000000 -0.250000  -1.250000\n",
       "std    3.40343  4.830459  6.184658   7.544314\n",
       "min   -4.00000 -5.000000 -4.000000  -6.000000\n",
       "25%   -2.50000 -3.500000 -3.250000  -5.250000\n",
       "50%   -1.50000 -2.500000 -3.000000  -4.500000\n",
       "75%    0.25000  0.000000  0.000000  -0.500000\n",
       "max    4.00000  6.000000  9.000000  10.000000"
      ]
     },
     "execution_count": 23,
     "metadata": {},
     "output_type": "execute_result"
    }
   ],
   "source": [
    "t = df.describe()\n",
    "t"
   ]
  },
  {
   "cell_type": "code",
   "execution_count": 24,
   "metadata": {},
   "outputs": [
    {
     "data": {
      "text/plain": [
       "0.42542870534712784"
      ]
     },
     "execution_count": 24,
     "metadata": {},
     "output_type": "execute_result"
    }
   ],
   "source": [
    "t.loc[\"std\"][0] / abs(t.loc[\"max\"][0] - t.loc[\"min\"][0])"
   ]
  },
  {
   "cell_type": "code",
   "execution_count": 25,
   "metadata": {},
   "outputs": [
    {
     "data": {
      "text/plain": [
       "2"
      ]
     },
     "execution_count": 25,
     "metadata": {},
     "output_type": "execute_result"
    }
   ],
   "source": [
    "-3 - (-5)"
   ]
  },
  {
   "cell_type": "code",
   "execution_count": 26,
   "metadata": {},
   "outputs": [
    {
     "name": "stdout",
     "output_type": "stream",
     "text": [
      "2\n",
      "0\n",
      "0\n",
      "0\n",
      "2\n",
      "0\n",
      "0\n",
      "0\n",
      "0\n",
      "2\n",
      "0\n",
      "0\n",
      "0\n",
      "0\n",
      "0\n",
      "0\n",
      "0\n",
      "0\n"
     ]
    }
   ],
   "source": [
    "for a in rxn.ts.rmg_ts.atoms:\n",
    "    print len(a.label)"
   ]
  },
  {
   "cell_type": "code",
   "execution_count": 27,
   "metadata": {},
   "outputs": [],
   "source": [
    "from autotst.calculators.gaussian import *"
   ]
  },
  {
   "cell_type": "code",
   "execution_count": 28,
   "metadata": {},
   "outputs": [
    {
     "data": {
      "text/plain": [
       "<AutoTST Gaussian Calculators \"CC=C(C)C+[O]O_[CH2]C=C(C)C+OO\">"
      ]
     },
     "execution_count": 28,
     "metadata": {},
     "output_type": "execute_result"
    }
   ],
   "source": [
    "calc = AutoTST_Gaussian(rxn)\n",
    "calc"
   ]
  },
  {
   "cell_type": "code",
   "execution_count": 29,
   "metadata": {},
   "outputs": [
    {
     "data": {
      "text/plain": [
       "'2 3 F\\n2 4 F\\n2 6 F\\n2 7 F\\n2 8 F\\n2 9 F\\n2 11 F\\n2 12 F\\n2 13 F\\n2 14 F\\n2 15 F\\n2 16 F\\n2 17 F\\n2 18 F\\n3 4 F\\n3 6 F\\n3 7 F\\n3 8 F\\n3 9 F\\n3 11 F\\n3 12 F\\n3 13 F\\n3 14 F\\n3 15 F\\n3 16 F\\n3 17 F\\n3 18 F\\n4 6 F\\n4 7 F\\n4 8 F\\n4 9 F\\n4 11 F\\n4 12 F\\n4 13 F\\n4 14 F\\n4 15 F\\n4 16 F\\n4 17 F\\n4 18 F\\n6 7 F\\n6 8 F\\n6 9 F\\n6 11 F\\n6 12 F\\n6 13 F\\n6 14 F\\n6 15 F\\n6 16 F\\n6 17 F\\n6 18 F\\n7 8 F\\n7 9 F\\n7 11 F\\n7 12 F\\n7 13 F\\n7 14 F\\n7 15 F\\n7 16 F\\n7 17 F\\n7 18 F\\n8 9 F\\n8 11 F\\n8 12 F\\n8 13 F\\n8 14 F\\n8 15 F\\n8 16 F\\n8 17 F\\n8 18 F\\n9 11 F\\n9 12 F\\n9 13 F\\n9 14 F\\n9 15 F\\n9 16 F\\n9 17 F\\n9 18 F\\n11 12 F\\n11 13 F\\n11 14 F\\n11 15 F\\n11 16 F\\n11 17 F\\n11 18 F\\n12 13 F\\n12 14 F\\n12 15 F\\n12 16 F\\n12 17 F\\n12 18 F\\n13 14 F\\n13 15 F\\n13 16 F\\n13 17 F\\n13 18 F\\n14 15 F\\n14 16 F\\n14 17 F\\n14 18 F\\n15 16 F\\n15 17 F\\n15 18 F\\n16 17 F\\n16 18 F\\n17 18 F'"
      ]
     },
     "execution_count": 29,
     "metadata": {},
     "output_type": "execute_result"
    }
   ],
   "source": [
    "string = calc.center_calc.addsec[0]\n",
    "string"
   ]
  },
  {
   "cell_type": "code",
   "execution_count": 30,
   "metadata": {},
   "outputs": [
    {
     "data": {
      "text/plain": [
       "[1, 2, 3, 5, 6, 7, 8, 10, 11, 12, 13, 14, 15, 16, 17]"
      ]
     },
     "execution_count": 30,
     "metadata": {},
     "output_type": "execute_result"
    }
   ],
   "source": [
    "indicies = []\n",
    "for i, atom in enumerate(rxn.ts.rmg_ts.atoms):\n",
    "    if len(atom.label) == 0:\n",
    "        indicies.append(i)\n",
    "        \n",
    "indicies"
   ]
  },
  {
   "cell_type": "code",
   "execution_count": 31,
   "metadata": {},
   "outputs": [
    {
     "name": "stdout",
     "output_type": "stream",
     "text": [
      "2 3 F\n",
      "2 4 F\n",
      "2 6 F\n",
      "2 7 F\n",
      "2 8 F\n",
      "2 9 F\n",
      "2 11 F\n",
      "2 12 F\n",
      "2 13 F\n",
      "2 14 F\n",
      "2 15 F\n",
      "2 16 F\n",
      "2 17 F\n",
      "2 18 F\n",
      "3 4 F\n",
      "3 6 F\n",
      "3 7 F\n",
      "3 8 F\n",
      "3 9 F\n",
      "3 11 F\n",
      "3 12 F\n",
      "3 13 F\n",
      "3 14 F\n",
      "3 15 F\n",
      "3 16 F\n",
      "3 17 F\n",
      "3 18 F\n",
      "4 6 F\n",
      "4 7 F\n",
      "4 8 F\n",
      "4 9 F\n",
      "4 11 F\n",
      "4 12 F\n",
      "4 13 F\n",
      "4 14 F\n",
      "4 15 F\n",
      "4 16 F\n",
      "4 17 F\n",
      "4 18 F\n",
      "6 7 F\n",
      "6 8 F\n",
      "6 9 F\n",
      "6 11 F\n",
      "6 12 F\n",
      "6 13 F\n",
      "6 14 F\n",
      "6 15 F\n",
      "6 16 F\n",
      "6 17 F\n",
      "6 18 F\n",
      "7 8 F\n",
      "7 9 F\n",
      "7 11 F\n",
      "7 12 F\n",
      "7 13 F\n",
      "7 14 F\n",
      "7 15 F\n",
      "7 16 F\n",
      "7 17 F\n",
      "7 18 F\n",
      "8 9 F\n",
      "8 11 F\n",
      "8 12 F\n",
      "8 13 F\n",
      "8 14 F\n",
      "8 15 F\n",
      "8 16 F\n",
      "8 17 F\n",
      "8 18 F\n",
      "9 11 F\n",
      "9 12 F\n",
      "9 13 F\n",
      "9 14 F\n",
      "9 15 F\n",
      "9 16 F\n",
      "9 17 F\n",
      "9 18 F\n",
      "11 12 F\n",
      "11 13 F\n",
      "11 14 F\n",
      "11 15 F\n",
      "11 16 F\n",
      "11 17 F\n",
      "11 18 F\n",
      "12 13 F\n",
      "12 14 F\n",
      "12 15 F\n",
      "12 16 F\n",
      "12 17 F\n",
      "12 18 F\n",
      "13 14 F\n",
      "13 15 F\n",
      "13 16 F\n",
      "13 17 F\n",
      "13 18 F\n",
      "14 15 F\n",
      "14 16 F\n",
      "14 17 F\n",
      "14 18 F\n",
      "15 16 F\n",
      "15 17 F\n",
      "15 18 F\n",
      "16 17 F\n",
      "16 18 F\n",
      "17 18 F\n",
      "\n"
     ]
    }
   ],
   "source": [
    "combos = \"\"\n",
    "for combo in list(itertools.combinations(indicies, 2)):\n",
    "    a,b = combo\n",
    "    combos += \"{0} {1} F\\n\".format(a+1,b+1)\n",
    "    \n",
    "print combos"
   ]
  },
  {
   "cell_type": "code",
   "execution_count": 32,
   "metadata": {},
   "outputs": [
    {
     "data": {
      "text/plain": [
       "False"
      ]
     },
     "execution_count": 32,
     "metadata": {},
     "output_type": "execute_result"
    }
   ],
   "source": [
    "combos == string"
   ]
  },
  {
   "cell_type": "code",
   "execution_count": 33,
   "metadata": {},
   "outputs": [
    {
     "data": {
      "text/plain": [
       "105"
      ]
     },
     "execution_count": 33,
     "metadata": {},
     "output_type": "execute_result"
    }
   ],
   "source": [
    "len(string.split(\"\\n\"))"
   ]
  },
  {
   "cell_type": "code",
   "execution_count": 34,
   "metadata": {},
   "outputs": [
    {
     "data": {
      "text/plain": [
       "106"
      ]
     },
     "execution_count": 34,
     "metadata": {},
     "output_type": "execute_result"
    }
   ],
   "source": [
    "len(combos.split(\"\\n\"))"
   ]
  },
  {
   "cell_type": "code",
   "execution_count": 35,
   "metadata": {},
   "outputs": [
    {
     "data": {
      "image/png": "[encoded data removed]",
      "text/plain": [
       "Molecule(SMILES=\"CC=C(C)C.[O]O\")"
      ]
     },
     "execution_count": 35,
     "metadata": {},
     "output_type": "execute_result"
    }
   ],
   "source": [
    "test  = rxn.ts.rmg_ts\n",
    "test"
   ]
  },
  {
   "cell_type": "code",
   "execution_count": 36,
   "metadata": {},
   "outputs": [
    {
     "data": {
      "text/plain": [
       "[2, 3, 4, 6, 7, 8, 9, 11, 12, 13, 14, 15, 16, 17, 18]"
      ]
     },
     "execution_count": 36,
     "metadata": {},
     "output_type": "execute_result"
    }
   ],
   "source": [
    "labeled_atoms = []\n",
    "non_labeled_atoms = range(1, len(test.atoms)+1)\n",
    "for atom in test.getLabeledAtoms().values():\n",
    "    labeled_atoms.append(atom.sortingLabel + 1)\n",
    "    non_labeled_atoms.remove(atom.sortingLabel +1)\n",
    "non_labeled_atoms"
   ]
  },
  {
   "cell_type": "code",
   "execution_count": 37,
   "metadata": {},
   "outputs": [
    {
     "data": {
      "text/plain": [
       "[4, 9, 0]"
      ]
     },
     "execution_count": 37,
     "metadata": {},
     "output_type": "execute_result"
    }
   ],
   "source": [
    "labeled_atoms = []\n",
    "r = range(len(test.atoms))\n",
    "for atom in test.getLabeledAtoms().values():\n",
    "    labeled_atoms.append(atom.sortingLabel)\n",
    "labeled_atoms"
   ]
  },
  {
   "cell_type": "code",
   "execution_count": 38,
   "metadata": {},
   "outputs": [
    {
     "name": "stdout",
     "output_type": "stream",
     "text": [
      "(2, 3)\n",
      "(2, 4)\n",
      "(2, 6)\n",
      "(2, 7)\n",
      "(2, 8)\n",
      "(2, 9)\n",
      "(2, 11)\n",
      "(2, 12)\n",
      "(2, 13)\n",
      "(2, 14)\n",
      "(2, 15)\n",
      "(2, 16)\n",
      "(2, 17)\n",
      "(2, 18)\n",
      "(3, 4)\n",
      "(3, 6)\n",
      "(3, 7)\n",
      "(3, 8)\n",
      "(3, 9)\n",
      "(3, 11)\n",
      "(3, 12)\n",
      "(3, 13)\n",
      "(3, 14)\n",
      "(3, 15)\n",
      "(3, 16)\n",
      "(3, 17)\n",
      "(3, 18)\n",
      "(4, 6)\n",
      "(4, 7)\n",
      "(4, 8)\n",
      "(4, 9)\n",
      "(4, 11)\n",
      "(4, 12)\n",
      "(4, 13)\n",
      "(4, 14)\n",
      "(4, 15)\n",
      "(4, 16)\n",
      "(4, 17)\n",
      "(4, 18)\n",
      "(6, 7)\n",
      "(6, 8)\n",
      "(6, 9)\n",
      "(6, 11)\n",
      "(6, 12)\n",
      "(6, 13)\n",
      "(6, 14)\n",
      "(6, 15)\n",
      "(6, 16)\n",
      "(6, 17)\n",
      "(6, 18)\n",
      "(7, 8)\n",
      "(7, 9)\n",
      "(7, 11)\n",
      "(7, 12)\n",
      "(7, 13)\n",
      "(7, 14)\n",
      "(7, 15)\n",
      "(7, 16)\n",
      "(7, 17)\n",
      "(7, 18)\n",
      "(8, 9)\n",
      "(8, 11)\n",
      "(8, 12)\n",
      "(8, 13)\n",
      "(8, 14)\n",
      "(8, 15)\n",
      "(8, 16)\n",
      "(8, 17)\n",
      "(8, 18)\n",
      "(9, 11)\n",
      "(9, 12)\n",
      "(9, 13)\n",
      "(9, 14)\n",
      "(9, 15)\n",
      "(9, 16)\n",
      "(9, 17)\n",
      "(9, 18)\n",
      "(11, 12)\n",
      "(11, 13)\n",
      "(11, 14)\n",
      "(11, 15)\n",
      "(11, 16)\n",
      "(11, 17)\n",
      "(11, 18)\n",
      "(12, 13)\n",
      "(12, 14)\n",
      "(12, 15)\n",
      "(12, 16)\n",
      "(12, 17)\n",
      "(12, 18)\n",
      "(13, 14)\n",
      "(13, 15)\n",
      "(13, 16)\n",
      "(13, 17)\n",
      "(13, 18)\n",
      "(14, 15)\n",
      "(14, 16)\n",
      "(14, 17)\n",
      "(14, 18)\n",
      "(15, 16)\n",
      "(15, 17)\n",
      "(15, 18)\n",
      "(16, 17)\n",
      "(16, 18)\n",
      "(17, 18)\n"
     ]
    }
   ],
   "source": [
    "for combo in itertools.combinations(non_labeled_atoms, 2):\n",
    "    print combo"
   ]
  },
  {
   "cell_type": "code",
   "execution_count": null,
   "metadata": {},
   "outputs": [],
   "source": [
    "len(list(itertools.combinations(range(len(test.atoms)), 2)))"
   ]
  },
  {
   "cell_type": "code",
   "execution_count": null,
   "metadata": {},
   "outputs": [],
   "source": [
    "combos = []\n",
    "for i in labeled_atoms:\n",
    "    for j in labeled_atoms:\n",
    "        if i == j:\n",
    "            continue\n",
    "        \n",
    "        if (i,j) in combos or tuple(reversed((i,j))) in combos:\n",
    "            continue\n",
    "            \n",
    "        combos.append((i,j))\n",
    "        \n",
    "combos"
   ]
  },
  {
   "cell_type": "code",
   "execution_count": null,
   "metadata": {},
   "outputs": [],
   "source": [
    "combos = []\n",
    "for i in non_labeled_atoms:\n",
    "    for j in non_labeled_atoms:\n",
    "        if i == j:\n",
    "            continue\n",
    "        \n",
    "        if (i,j) in combos or tuple(reversed((i,j))) in combos:\n",
    "            continue\n",
    "            \n",
    "        combos.append((i,j))\n",
    "combos"
   ]
  },
  {
   "cell_type": "code",
   "execution_count": null,
   "metadata": {
    "scrolled": true
   },
   "outputs": [],
   "source": [
    "rxn = AutoTST_Reaction(reaction_family=\"H_Abstraction\", rmg_reaction=rmg_reaction)"
   ]
  },
  {
   "cell_type": "code",
   "execution_count": null,
   "metadata": {},
   "outputs": [],
   "source": [
    "rxn.ts.create_pseudo_geometry()"
   ]
  },
  {
   "cell_type": "code",
   "execution_count": null,
   "metadata": {},
   "outputs": [],
   "source": [
    "logging.getLogger('rdkit').setLevel(logging.FATAL)"
   ]
  },
  {
   "cell_type": "code",
   "execution_count": null,
   "metadata": {},
   "outputs": [],
   "source": [
    "m = rxn.ts.create_pseudo_geometry()\n",
    "m.UpdatePropertyCache(strict=False)"
   ]
  },
  {
   "cell_type": "code",
   "execution_count": 41,
   "metadata": {},
   "outputs": [
    {
     "ename": "RuntimeError",
     "evalue": "Gaussian in . returned an error: 127",
     "output_type": "error",
     "traceback": [
      "\u001b[0;31m---------------------------------------------------------------------------\u001b[0m",
      "\u001b[0;31mRuntimeError\u001b[0m                              Traceback (most recent call last)",
      "\u001b[0;32m<ipython-input-41-6df7b19d0778>\u001b[0m in \u001b[0;36m<module>\u001b[0;34m()\u001b[0m\n\u001b[0;32m----> 1\u001b[0;31m \u001b[0mcalc\u001b[0m\u001b[0;34m.\u001b[0m\u001b[0mrun_all\u001b[0m\u001b[0;34m(\u001b[0m\u001b[0;34m)\u001b[0m\u001b[0;34m\u001b[0m\u001b[0m\n\u001b[0m",
      "\u001b[0;32m/Users/nathan/Code/AutoTST/autotst/calculators/gaussian.py\u001b[0m in \u001b[0;36mrun_all\u001b[0;34m(self, vibrational_analysis)\u001b[0m\n\u001b[1;32m    318\u001b[0m         \"\"\"\n\u001b[1;32m    319\u001b[0m \u001b[0;34m\u001b[0m\u001b[0m\n\u001b[0;32m--> 320\u001b[0;31m         \u001b[0mself\u001b[0m\u001b[0;34m.\u001b[0m\u001b[0mrun_reactants_and_products\u001b[0m\u001b[0;34m(\u001b[0m\u001b[0;34m)\u001b[0m\u001b[0;34m\u001b[0m\u001b[0m\n\u001b[0m\u001b[1;32m    321\u001b[0m         \u001b[0mself\u001b[0m\u001b[0;34m.\u001b[0m\u001b[0mrun_shell\u001b[0m\u001b[0;34m(\u001b[0m\u001b[0;34m)\u001b[0m\u001b[0;34m\u001b[0m\u001b[0m\n\u001b[1;32m    322\u001b[0m         \u001b[0mself\u001b[0m\u001b[0;34m.\u001b[0m\u001b[0mrun_center\u001b[0m\u001b[0;34m(\u001b[0m\u001b[0;34m)\u001b[0m\u001b[0;34m\u001b[0m\u001b[0m\n",
      "\u001b[0;32m/Users/nathan/Code/AutoTST/autotst/calculators/gaussian.py\u001b[0m in \u001b[0;36mrun_reactants_and_products\u001b[0;34m(self)\u001b[0m\n\u001b[1;32m    243\u001b[0m         \u001b[0;34m\"A method to run the calculations for all reactants and products\"\u001b[0m\u001b[0;34m\u001b[0m\u001b[0m\n\u001b[1;32m    244\u001b[0m         \u001b[0;32mfor\u001b[0m \u001b[0mmol\u001b[0m\u001b[0;34m,\u001b[0m \u001b[0mcalc\u001b[0m \u001b[0;32min\u001b[0m \u001b[0mself\u001b[0m\u001b[0;34m.\u001b[0m\u001b[0mreactant_calcs\u001b[0m\u001b[0;34m.\u001b[0m\u001b[0miteritems\u001b[0m\u001b[0;34m(\u001b[0m\u001b[0;34m)\u001b[0m\u001b[0;34m:\u001b[0m\u001b[0;34m\u001b[0m\u001b[0m\n\u001b[0;32m--> 245\u001b[0;31m             \u001b[0mmol\u001b[0m \u001b[0;34m=\u001b[0m \u001b[0mself\u001b[0m\u001b[0;34m.\u001b[0m\u001b[0mcalculate\u001b[0m\u001b[0;34m(\u001b[0m\u001b[0mmol\u001b[0m\u001b[0;34m,\u001b[0m \u001b[0mcalc\u001b[0m\u001b[0;34m)\u001b[0m\u001b[0;34m\u001b[0m\u001b[0m\n\u001b[0m\u001b[1;32m    246\u001b[0m \u001b[0;34m\u001b[0m\u001b[0m\n\u001b[1;32m    247\u001b[0m         \u001b[0;32mfor\u001b[0m \u001b[0mmol\u001b[0m\u001b[0;34m,\u001b[0m \u001b[0mcalc\u001b[0m \u001b[0;32min\u001b[0m \u001b[0mself\u001b[0m\u001b[0;34m.\u001b[0m\u001b[0mproduct_calcs\u001b[0m\u001b[0;34m.\u001b[0m\u001b[0miteritems\u001b[0m\u001b[0;34m(\u001b[0m\u001b[0;34m)\u001b[0m\u001b[0;34m:\u001b[0m\u001b[0;34m\u001b[0m\u001b[0m\n",
      "\u001b[0;32m/Users/nathan/Code/AutoTST/autotst/calculators/gaussian.py\u001b[0m in \u001b[0;36mcalculate\u001b[0;34m(self, autotst_object, calc)\u001b[0m\n\u001b[1;32m    222\u001b[0m         \u001b[0;32mif\u001b[0m \u001b[0misinstance\u001b[0m\u001b[0;34m(\u001b[0m\u001b[0mautotst_object\u001b[0m\u001b[0;34m,\u001b[0m \u001b[0mAutoTST_Molecule\u001b[0m\u001b[0;34m)\u001b[0m\u001b[0;34m:\u001b[0m\u001b[0;34m\u001b[0m\u001b[0m\n\u001b[1;32m    223\u001b[0m             \u001b[0;32mif\u001b[0m \u001b[0;32mnot\u001b[0m \u001b[0mos\u001b[0m\u001b[0;34m.\u001b[0m\u001b[0mpath\u001b[0m\u001b[0;34m.\u001b[0m\u001b[0mexists\u001b[0m\u001b[0;34m(\u001b[0m\u001b[0mos\u001b[0m\u001b[0;34m.\u001b[0m\u001b[0mpath\u001b[0m\u001b[0;34m.\u001b[0m\u001b[0mjoin\u001b[0m\u001b[0;34m(\u001b[0m\u001b[0mcalc\u001b[0m\u001b[0;34m.\u001b[0m\u001b[0mscratch\u001b[0m\u001b[0;34m,\u001b[0m \u001b[0mcalc\u001b[0m\u001b[0;34m.\u001b[0m\u001b[0mlabel\u001b[0m \u001b[0;34m+\u001b[0m \u001b[0;34m\".log\"\u001b[0m\u001b[0;34m)\u001b[0m\u001b[0;34m)\u001b[0m\u001b[0;34m:\u001b[0m\u001b[0;34m\u001b[0m\u001b[0m\n\u001b[0;32m--> 224\u001b[0;31m                 \u001b[0mcalc\u001b[0m\u001b[0;34m.\u001b[0m\u001b[0mcalculate\u001b[0m\u001b[0;34m(\u001b[0m\u001b[0mautotst_object\u001b[0m\u001b[0;34m.\u001b[0m\u001b[0mase_molecule\u001b[0m\u001b[0;34m)\u001b[0m\u001b[0;34m\u001b[0m\u001b[0m\n\u001b[0m\u001b[1;32m    225\u001b[0m             \u001b[0mautotst_object\u001b[0m\u001b[0;34m.\u001b[0m\u001b[0mase_molecule\u001b[0m \u001b[0;34m=\u001b[0m \u001b[0mread_gaussian_out\u001b[0m\u001b[0;34m(\u001b[0m\u001b[0mos\u001b[0m\u001b[0;34m.\u001b[0m\u001b[0mpath\u001b[0m\u001b[0;34m.\u001b[0m\u001b[0mjoin\u001b[0m\u001b[0;34m(\u001b[0m\u001b[0mcalc\u001b[0m\u001b[0;34m.\u001b[0m\u001b[0mscratch\u001b[0m\u001b[0;34m,\u001b[0m \u001b[0mcalc\u001b[0m\u001b[0;34m.\u001b[0m\u001b[0mlabel\u001b[0m \u001b[0;34m+\u001b[0m \u001b[0;34m\".log\"\u001b[0m\u001b[0;34m)\u001b[0m\u001b[0;34m)\u001b[0m\u001b[0;34m\u001b[0m\u001b[0m\n\u001b[1;32m    226\u001b[0m             \u001b[0mautotst_object\u001b[0m\u001b[0;34m.\u001b[0m\u001b[0mupdate_from_ase_mol\u001b[0m\u001b[0;34m(\u001b[0m\u001b[0;34m)\u001b[0m\u001b[0;34m\u001b[0m\u001b[0m\n",
      "\u001b[0;32m/Users/nathan/Code/ase/ase/calculators/calculator.pyc\u001b[0m in \u001b[0;36mcalculate\u001b[0;34m(self, atoms, properties, system_changes)\u001b[0m\n\u001b[1;32m    654\u001b[0m         \u001b[0;32mif\u001b[0m \u001b[0merrorcode\u001b[0m\u001b[0;34m:\u001b[0m\u001b[0;34m\u001b[0m\u001b[0m\n\u001b[1;32m    655\u001b[0m             raise RuntimeError('{} in {} returned an error: {}'\n\u001b[0;32m--> 656\u001b[0;31m                                .format(self.name, self.directory, errorcode))\n\u001b[0m\u001b[1;32m    657\u001b[0m         \u001b[0mself\u001b[0m\u001b[0;34m.\u001b[0m\u001b[0mread_results\u001b[0m\u001b[0;34m(\u001b[0m\u001b[0;34m)\u001b[0m\u001b[0;34m\u001b[0m\u001b[0m\n\u001b[1;32m    658\u001b[0m \u001b[0;34m\u001b[0m\u001b[0m\n",
      "\u001b[0;31mRuntimeError\u001b[0m: Gaussian in . returned an error: 127"
     ]
    }
   ],
   "source": [
    "calc.run_all()"
   ]
  },
  {
   "cell_type": "code",
   "execution_count": null,
   "metadata": {},
   "outputs": [],
   "source": []
  }
 ],
 "metadata": {
  "kernelspec": {
   "display_name": "Python (rmg_env)",
   "language": "python",
   "name": "myenv"
  },
  "language_info": {
   "codemirror_mode": {
    "name": "ipython",
    "version": 2
   },
   "file_extension": ".py",
   "mimetype": "text/x-python",
   "name": "python",
   "nbconvert_exporter": "python",
   "pygments_lexer": "ipython2",
   "version": "2.7.14"
  }
 },
 "nbformat": 4,
 "nbformat_minor": 2
}
