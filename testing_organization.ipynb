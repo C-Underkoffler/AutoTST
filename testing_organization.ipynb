{
 "cells": [
  {
   "cell_type": "code",
   "execution_count": null,
   "metadata": {
    "collapsed": true
   },
   "outputs": [],
   "source": [
    "from rmgpy.molecule import Molecule, Atom, getElement\n",
    "from rdkit.Chem import AllChem, Pharm3D"
   ]
  },
  {
   "cell_type": "code",
   "execution_count": 2,
   "metadata": {
    "collapsed": false
   },
   "outputs": [],
   "source": [
    "import os\n",
    "import re\n",
    "import logging\n",
    "import external.cclib as cclib\n",
    "import time\n",
    "from subprocess import Popen\n",
    "from copy import deepcopy\n",
    "import numpy\n",
    "import shutil\n",
    "import math\n",
    "import sqlite3 as lite\n",
    "\n",
    "import rmgpy\n",
    "#from rmgpy.data.kinetics.transitionstates import TransitionStates\n",
    "from rmgpy.molecule import Molecule, Atom, getElement\n",
    "#import rmgpy.molecule.\n",
    "from rmgpy.species import Species, TransitionState\n",
    "from rmgpy.reaction import Reaction\n",
    "from rmgpy.kinetics import Arrhenius, Eckart\n",
    "from rmgpy.statmech import Conformer, IdealGasTranslation, NonlinearRotor, HarmonicOscillator, LinearRotor\n",
    "from qm.transitionstates import DistanceData, TransitionStateDepository, TSGroups, TransitionStates\n",
    "from rmgpy.cantherm.main import CanTherm\n",
    "from rmgpy.cantherm.kinetics import KineticsJob"
   ]
  },
  {
   "cell_type": "code",
   "execution_count": 3,
   "metadata": {
    "collapsed": false,
    "scrolled": true
   },
   "outputs": [
    {
     "name": "stderr",
     "output_type": "stream",
     "text": [
      "thermo.py:833 loadLibraries INFO Loading thermodynamics library from primaryThermoLibrary.py in /Users/nathan/Code/RMG-database/input/thermo/libraries...\n",
      "thermo.py:833 loadLibraries INFO Loading thermodynamics library from KlippensteinH2O2.py in /Users/nathan/Code/RMG-database/input/thermo/libraries...\n",
      "thermo.py:833 loadLibraries INFO Loading thermodynamics library from thermo_DFT_CCSDTF12_BAC.py in /Users/nathan/Code/RMG-database/input/thermo/libraries...\n",
      "thermo.py:833 loadLibraries INFO Loading thermodynamics library from CBS_QB3_1dHR.py in /Users/nathan/Code/RMG-database/input/thermo/libraries...\n",
      "thermo.py:850 loadGroups INFO Loading thermodynamics group database from /Users/nathan/Code/RMG-database/input/thermo/groups...\n",
      "transport.py:294 loadGroups INFO Loading transport group database from /Users/nathan/Code/RMG-database/input/transport/groups...\n",
      "database.py:172 loadFamilies INFO Loading the user-specified kinetics families from /Users/nathan/Code/RMG-database/input/kinetics/families\n",
      "statmech.py:526 loadGroups INFO Loading frequencies group database from /Users/nathan/Code/RMG-database/input/statmech/groups...\n",
      "transitionstates.py:127 load INFO Loading transitions state family groups from database/H_Abstraction/TS_groups.py\n"
     ]
    }
   ],
   "source": [
    "from autotst.molecule import *\n",
    "import autotst.conformer\n",
    "from autotst.reaction import *\n",
    "from autotst.conformer import *\n",
    "from rmgpy.reaction import Reaction"
   ]
  },
  {
   "cell_type": "code",
   "execution_count": 4,
   "metadata": {
    "collapsed": false
   },
   "outputs": [],
   "source": [
    "from rmgpy.data.kinetics.common import KineticsError, saveEntry"
   ]
  },
  {
   "cell_type": "code",
   "execution_count": 5,
   "metadata": {
    "collapsed": false,
    "scrolled": true
   },
   "outputs": [
    {
     "name": "stdout",
     "output_type": "stream",
     "text": [
      "[Molecule(SMILES=\"OO\"), Molecule(SMILES=\"[CH2]CCCC\")]\n",
      "[TemplateReaction(reactants=[Species(label=\"\", molecule=[Molecule(SMILES=\"OO\")]), Species(label=\"\", molecule=[Molecule(SMILES=\"[CH2]CCCC\")])], products=[Species(label=\"\", molecule=[Molecule(SMILES=\"CCCCC\")]), Species(label=\"\", molecule=[Molecule(SMILES=\"[O]O\")])], degeneracy=2.0, pairs=[[Species(label=\"\", molecule=[Molecule(SMILES=\"OO\")]), Species(label=\"\", molecule=[Molecule(SMILES=\"[O]O\")])], [Species(label=\"\", molecule=[Molecule(SMILES=\"[CH2]CCCC\")]), Species(label=\"\", molecule=[Molecule(SMILES=\"CCCCC\")])]], family='H_Abstraction', template=['OOH', 'Csj/Cs/H2'])]\n",
      "OO + [CH2]CCCC <=> CCCCC + [O]O\n"
     ]
    },
    {
     "name": "stderr",
     "output_type": "stream",
     "text": [
      "Exception TypeError: \"Argument 'other' has incorrect type (expected rmgpy.molecule.graph.Graph, got rmgpy.species.Species)\" in 'rmgpy.reaction._isomorphicSpeciesList' ignored\n",
      "Exception TypeError: \"Argument 'other' has incorrect type (expected rmgpy.molecule.graph.Graph, got rmgpy.species.Species)\" in 'rmgpy.reaction._isomorphicSpeciesList' ignored\n",
      "Exception TypeError: \"Argument 'other' has incorrect type (expected rmgpy.molecule.graph.Graph, got rmgpy.species.Species)\" in 'rmgpy.reaction._isomorphicSpeciesList' ignored\n",
      "Exception TypeError: \"Argument 'other' has incorrect type (expected rmgpy.molecule.graph.Graph, got rmgpy.species.Species)\" in 'rmgpy.reaction._isomorphicSpeciesList' ignored\n"
     ]
    },
    {
     "ename": "ValueError",
     "evalue": "No atom in the molecule has the label \"*1\".",
     "output_type": "error",
     "traceback": [
      "\u001b[0;31m---------------------------------------------------------------------------\u001b[0m",
      "\u001b[0;31mValueError\u001b[0m                                Traceback (most recent call last)",
      "\u001b[0;32m<ipython-input-5-a70e237114c3>\u001b[0m in \u001b[0;36m<module>\u001b[0;34m()\u001b[0m\n\u001b[0;32m----> 1\u001b[0;31m \u001b[0ma\u001b[0m \u001b[0;34m=\u001b[0m \u001b[0mAutoTST_Reaction\u001b[0m\u001b[0;34m(\u001b[0m\u001b[0;34m\"OO+[CH2]CCCC_[O]O+CCCCC\"\u001b[0m\u001b[0;34m,\u001b[0m \u001b[0;34m\"H_Abstraction\"\u001b[0m\u001b[0;34m)\u001b[0m\u001b[0;34m\u001b[0m\u001b[0m\n\u001b[0m\u001b[1;32m      2\u001b[0m \u001b[0ma\u001b[0m\u001b[0;34m\u001b[0m\u001b[0m\n",
      "\u001b[0;32m/Users/nathan/Code/AutoTST/autotst/reaction.py\u001b[0m in \u001b[0;36m__init__\u001b[0;34m(self, label, reaction_family, rmg_reaction)\u001b[0m\n\u001b[1;32m    106\u001b[0m \u001b[0;34m\u001b[0m\u001b[0m\n\u001b[1;32m    107\u001b[0m         \u001b[0mself\u001b[0m\u001b[0;34m.\u001b[0m\u001b[0mget_rmg_reactions\u001b[0m\u001b[0;34m(\u001b[0m\u001b[0;34m)\u001b[0m\u001b[0;34m\u001b[0m\u001b[0m\n\u001b[0;32m--> 108\u001b[0;31m         \u001b[0mself\u001b[0m\u001b[0;34m.\u001b[0m\u001b[0mcreate_ts_geometries\u001b[0m\u001b[0;34m(\u001b[0m\u001b[0;34m)\u001b[0m\u001b[0;34m\u001b[0m\u001b[0m\n\u001b[0m\u001b[1;32m    109\u001b[0m \u001b[0;34m\u001b[0m\u001b[0m\n\u001b[1;32m    110\u001b[0m     \u001b[0;32mdef\u001b[0m \u001b[0mget_reactants_and_products\u001b[0m\u001b[0;34m(\u001b[0m\u001b[0mself\u001b[0m\u001b[0;34m)\u001b[0m\u001b[0;34m:\u001b[0m\u001b[0;34m\u001b[0m\u001b[0m\n",
      "\u001b[0;32m/Users/nathan/Code/AutoTST/autotst/reaction.py\u001b[0m in \u001b[0;36mcreate_ts_geometries\u001b[0;34m(self)\u001b[0m\n\u001b[1;32m    201\u001b[0m                         \u001b[0mrdkit\u001b[0m\u001b[0;34m,\u001b[0m \u001b[0mase\u001b[0m\u001b[0;34m,\u001b[0m \u001b[0;32mand\u001b[0m \u001b[0mrmg\u001b[0m \u001b[0mmolecules\u001b[0m\u001b[0;34m\u001b[0m\u001b[0m\n\u001b[1;32m    202\u001b[0m         \"\"\"\n\u001b[0;32m--> 203\u001b[0;31m         \u001b[0mself\u001b[0m\u001b[0;34m.\u001b[0m\u001b[0mts\u001b[0m \u001b[0;34m=\u001b[0m \u001b[0mAutoTST_TS\u001b[0m\u001b[0;34m(\u001b[0m\u001b[0mself\u001b[0m\u001b[0;34m)\u001b[0m\u001b[0;34m\u001b[0m\u001b[0m\n\u001b[0m\u001b[1;32m    204\u001b[0m \u001b[0;34m\u001b[0m\u001b[0m\n\u001b[1;32m    205\u001b[0m \u001b[0;34m\u001b[0m\u001b[0m\n",
      "\u001b[0;32m/Users/nathan/Code/AutoTST/autotst/reaction.py\u001b[0m in \u001b[0;36m__init__\u001b[0;34m(self, autotst_reaction)\u001b[0m\n\u001b[1;32m    210\u001b[0m         \u001b[0mself\u001b[0m\u001b[0;34m.\u001b[0m\u001b[0mlabel\u001b[0m \u001b[0;34m=\u001b[0m \u001b[0mautotst_reaction\u001b[0m\u001b[0;34m.\u001b[0m\u001b[0mlabel\u001b[0m  \u001b[0;31m# make sure that both the reaction and TS have same label\u001b[0m\u001b[0;34m\u001b[0m\u001b[0m\n\u001b[1;32m    211\u001b[0m \u001b[0;34m\u001b[0m\u001b[0m\n\u001b[0;32m--> 212\u001b[0;31m         \u001b[0mself\u001b[0m\u001b[0;34m.\u001b[0m\u001b[0mcreate_rdkit_ts_geometry\u001b[0m\u001b[0;34m(\u001b[0m\u001b[0;34m)\u001b[0m\u001b[0;34m\u001b[0m\u001b[0m\n\u001b[0m\u001b[1;32m    213\u001b[0m         \u001b[0mself\u001b[0m\u001b[0;34m.\u001b[0m\u001b[0mcreate_ase_ts_geometry\u001b[0m\u001b[0;34m(\u001b[0m\u001b[0;34m)\u001b[0m\u001b[0;34m\u001b[0m\u001b[0m\n\u001b[1;32m    214\u001b[0m         \u001b[0mself\u001b[0m\u001b[0;34m.\u001b[0m\u001b[0mcreate_rmg_ts_geometry\u001b[0m\u001b[0;34m(\u001b[0m\u001b[0;34m)\u001b[0m\u001b[0;34m\u001b[0m\u001b[0m\n",
      "\u001b[0;32m/Users/nathan/Code/AutoTST/autotst/reaction.py\u001b[0m in \u001b[0;36mcreate_rdkit_ts_geometry\u001b[0;34m(self)\u001b[0m\n\u001b[1;32m    243\u001b[0m         \u001b[0mself\u001b[0m\u001b[0;34m.\u001b[0m\u001b[0mrmg_ts\u001b[0m\u001b[0;34m,\u001b[0m \u001b[0mproduct\u001b[0m \u001b[0;34m=\u001b[0m \u001b[0mself\u001b[0m\u001b[0;34m.\u001b[0m\u001b[0msetup_molecules\u001b[0m\u001b[0;34m(\u001b[0m\u001b[0;34m)\u001b[0m\u001b[0;34m\u001b[0m\u001b[0m\n\u001b[1;32m    244\u001b[0m \u001b[0;34m\u001b[0m\u001b[0m\n\u001b[0;32m--> 245\u001b[0;31m         \u001b[0mlabels\u001b[0m\u001b[0;34m,\u001b[0m \u001b[0matom_match\u001b[0m \u001b[0;34m=\u001b[0m \u001b[0mself\u001b[0m\u001b[0;34m.\u001b[0m\u001b[0mget_labels\u001b[0m\u001b[0;34m(\u001b[0m\u001b[0mself\u001b[0m\u001b[0;34m.\u001b[0m\u001b[0mrmg_ts\u001b[0m\u001b[0;34m)\u001b[0m\u001b[0;34m\u001b[0m\u001b[0m\n\u001b[0m\u001b[1;32m    246\u001b[0m \u001b[0;34m\u001b[0m\u001b[0m\n\u001b[1;32m    247\u001b[0m         \u001b[0mpre_edit_mol\u001b[0m \u001b[0;34m=\u001b[0m \u001b[0mself\u001b[0m\u001b[0;34m.\u001b[0m\u001b[0mrmg_ts\u001b[0m\u001b[0;34m.\u001b[0m\u001b[0mtoRDKitMol\u001b[0m\u001b[0;34m(\u001b[0m\u001b[0mremoveHs\u001b[0m\u001b[0;34m=\u001b[0m\u001b[0mFalse\u001b[0m\u001b[0;34m)\u001b[0m\u001b[0;31m#, returnMapping=True)\u001b[0m\u001b[0;34m\u001b[0m\u001b[0m\n",
      "\u001b[0;32m/Users/nathan/Code/AutoTST/autotst/reaction.py\u001b[0m in \u001b[0;36mget_labels\u001b[0;34m(self, reactants)\u001b[0m\n\u001b[1;32m    278\u001b[0m \u001b[0;34m\u001b[0m\u001b[0m\n\u001b[1;32m    279\u001b[0m         \u001b[0;32mif\u001b[0m \u001b[0mself\u001b[0m\u001b[0;34m.\u001b[0m\u001b[0mautotst_reaction\u001b[0m\u001b[0;34m.\u001b[0m\u001b[0mrmg_reaction\u001b[0m\u001b[0;34m.\u001b[0m\u001b[0mfamily\u001b[0m\u001b[0;34m.\u001b[0m\u001b[0mlower\u001b[0m\u001b[0;34m(\u001b[0m\u001b[0;34m)\u001b[0m \u001b[0;32min\u001b[0m \u001b[0;34m[\u001b[0m\u001b[0;34m'h_abstraction'\u001b[0m\u001b[0;34m,\u001b[0m \u001b[0;34m'r_addition_multiplebond'\u001b[0m\u001b[0;34m,\u001b[0m \u001b[0;34m'intra_h_migration'\u001b[0m\u001b[0;34m]\u001b[0m\u001b[0;34m:\u001b[0m\u001b[0;34m\u001b[0m\u001b[0m\n\u001b[0;32m--> 280\u001b[0;31m             \u001b[0mlbl1\u001b[0m \u001b[0;34m=\u001b[0m \u001b[0mreactants\u001b[0m\u001b[0;34m.\u001b[0m\u001b[0mgetLabeledAtom\u001b[0m\u001b[0;34m(\u001b[0m\u001b[0;34m'*1'\u001b[0m\u001b[0;34m)\u001b[0m\u001b[0;34m.\u001b[0m\u001b[0msortingLabel\u001b[0m\u001b[0;34m\u001b[0m\u001b[0m\n\u001b[0m\u001b[1;32m    281\u001b[0m             \u001b[0mlbl2\u001b[0m \u001b[0;34m=\u001b[0m \u001b[0mreactants\u001b[0m\u001b[0;34m.\u001b[0m\u001b[0mgetLabeledAtom\u001b[0m\u001b[0;34m(\u001b[0m\u001b[0;34m'*2'\u001b[0m\u001b[0;34m)\u001b[0m\u001b[0;34m.\u001b[0m\u001b[0msortingLabel\u001b[0m\u001b[0;34m\u001b[0m\u001b[0m\n\u001b[1;32m    282\u001b[0m             \u001b[0mlbl3\u001b[0m \u001b[0;34m=\u001b[0m \u001b[0mreactants\u001b[0m\u001b[0;34m.\u001b[0m\u001b[0mgetLabeledAtom\u001b[0m\u001b[0;34m(\u001b[0m\u001b[0;34m'*3'\u001b[0m\u001b[0;34m)\u001b[0m\u001b[0;34m.\u001b[0m\u001b[0msortingLabel\u001b[0m\u001b[0;34m\u001b[0m\u001b[0m\n",
      "\u001b[0;32m/Users/nathan/Code/RMG-Py/rmgpy/molecule/molecule.so\u001b[0m in \u001b[0;36mrmgpy.molecule.molecule.Molecule.getLabeledAtom (build/pyrex/rmgpy/molecule/molecule.c:22761)\u001b[0;34m()\u001b[0m\n",
      "\u001b[0;32m/Users/nathan/Code/RMG-Py/rmgpy/molecule/molecule.so\u001b[0m in \u001b[0;36mrmgpy.molecule.molecule.Molecule.getLabeledAtom (build/pyrex/rmgpy/molecule/molecule.c:22704)\u001b[0;34m()\u001b[0m\n",
      "\u001b[0;31mValueError\u001b[0m: No atom in the molecule has the label \"*1\"."
     ]
    }
   ],
   "source": [
    "a = AutoTST_Reaction(\"OO+[CH2]CCCC_[O]O+CCCCC\", \"H_Abstraction\")\n",
    "a"
   ]
  },
  {
   "cell_type": "code",
   "execution_count": null,
   "metadata": {
    "collapsed": false
   },
   "outputs": [],
   "source": [
    "a.ts.view_ts()"
   ]
  },
  {
   "cell_type": "code",
   "execution_count": null,
   "metadata": {
    "collapsed": false
   },
   "outputs": [],
   "source": [
    "rd_mol = react.toRDKitMol(removeHs=False)\n",
    "rdkit.Chem.AllChem.EmbedMolecule(rd_mol)\n",
    "a.ts.view_ts(rd_mol)"
   ]
  },
  {
   "cell_type": "code",
   "execution_count": null,
   "metadata": {
    "collapsed": false
   },
   "outputs": [],
   "source": [
    "r1, r2 = a.rmg_reaction.reactants\n",
    "r1 = r1.toRDKitMol(removeHs=False)\n",
    "r2 = r2.toRDKitMol(removeHs=False)\n",
    "\n",
    "combo = Chem.CombineMols(r1,r2)\n",
    "rdkit.Chem.AllChem.EmbedMolecule(combo)\n",
    "combo"
   ]
  },
  {
   "cell_type": "code",
   "execution_count": null,
   "metadata": {
    "collapsed": false
   },
   "outputs": [],
   "source": [
    "a.ts.view_ts(combo)"
   ]
  },
  {
   "cell_type": "code",
   "execution_count": null,
   "metadata": {
    "collapsed": true
   },
   "outputs": [],
   "source": [
    "r = Reaction(reactants=[Molecule(SMILES=\"OO\"), Molecule(SMILES=\"[CH2]CCC\")], products=[Molecule(SMILES=\"[O]O\"),Molecule(SMILES=\"CCCC\")])"
   ]
  },
  {
   "cell_type": "code",
   "execution_count": null,
   "metadata": {
    "collapsed": false
   },
   "outputs": [],
   "source": [
    "reacts = rmg_database.kinetics.generateReactionsFromFamilies(r.reactants, r.products)\n",
    "r1, r2 = reacts\n",
    "r1"
   ]
  },
  {
   "cell_type": "code",
   "execution_count": null,
   "metadata": {
    "collapsed": false
   },
   "outputs": [],
   "source": [
    "a, b = r1.reactants\n",
    "merge = Molecule.merge(a,b)\n",
    "merge"
   ]
  },
  {
   "cell_type": "code",
   "execution_count": null,
   "metadata": {
    "collapsed": true
   },
   "outputs": [],
   "source": [
    "def view_ts(mol=None):\n",
    "    \"\"\"\n",
    "    A method designed to create a 3D figure of the Multi_Molecule with py3Dmol\n",
    "    \"\"\"\n",
    "    \n",
    "\n",
    "    mb = Chem.MolToMolBlock(mol)\n",
    "    p = py3Dmol.view(width=400, height=400)\n",
    "    p.addModel(mb, \"sdf\")\n",
    "    p.setStyle({'stick':{}})\n",
    "    p.setBackgroundColor('0xeeeeee')\n",
    "    p.zoomTo()\n",
    "    return p.show()"
   ]
  },
  {
   "cell_type": "code",
   "execution_count": null,
   "metadata": {
    "collapsed": false
   },
   "outputs": [],
   "source": [
    "from autotst.reaction import *\n",
    "rd_merge = merge.toRDKitMol(removeHs=False)\n",
    "rdkit.Chem.AllChem.EmbedMolecule(rd_merge)\n",
    "view_ts(rd_merge)\n"
   ]
  },
  {
   "cell_type": "code",
   "execution_count": null,
   "metadata": {
    "collapsed": false
   },
   "outputs": [],
   "source": [
    "bm = rdkit.Chem.rdDistGeom.GetMoleculeBoundsMatrix(rd_merge)\n",
    "bm"
   ]
  },
  {
   "cell_type": "code",
   "execution_count": null,
   "metadata": {
    "collapsed": false
   },
   "outputs": [],
   "source": [
    "view_ts(rd_merge)"
   ]
  },
  {
   "cell_type": "code",
   "execution_count": null,
   "metadata": {
    "collapsed": false
   },
   "outputs": [],
   "source": [
    "for reaction in reacts:\n",
    "    print reaction\n",
    "    # Check if any of the RMG proposed reactions matches the reaction in the mechanism\n",
    "    if r.isIsomorphic(reaction):\n",
    "        atom_labels_reactants = dict([(lbl[0], False) for lbl in reaction.labeledAtoms])\n",
    "        atom_labels_products = dict([(lbl[0], False) for lbl in reaction.labeledAtoms])\n",
    "\n",
    "        for reactant in reaction.reactants:\n",
    "            reactant.clearLabeledAtoms()\n",
    "            for atom in reactant.atoms:\n",
    "                for atom_label in reaction.labeledAtoms:\n",
    "                    if atom == atom_label[1]:\n",
    "                        atom.label = atom_label[0]\n",
    "                        atom_labels_reactants[atom_label[0]] = True\n",
    "\n",
    "        for product in reaction.products:\n",
    "            product.clearLabeledAtoms()\n",
    "            for atom in product.atoms:\n",
    "                for atom_label in reaction.labeledAtoms:\n",
    "                    if atom == atom_label[1]:\n",
    "                        atom.label = atom_label[0]\n",
    "                        atom_labels_products[atom_label[0]] = True\n",
    "\n",
    "        if all(atom_labels_reactants.values()) and all(atom_labels_products.values()):\n",
    "            # We successfully labeled all of the atoms\n",
    "            break\n",
    "reaction"
   ]
  },
  {
   "cell_type": "code",
   "execution_count": null,
   "metadata": {
    "collapsed": false
   },
   "outputs": [],
   "source": [
    "data = ts_database.groups.estimateDistancesUsingGroupAdditivity(r1)\n",
    "data"
   ]
  },
  {
   "cell_type": "code",
   "execution_count": null,
   "metadata": {
    "collapsed": true
   },
   "outputs": [],
   "source": [
    "d12 = data.distances[\"d12\"]\n",
    "d13 = data.distances[\"d13\"]\n",
    "d23 = data.distances[\"d23\"]"
   ]
  },
  {
   "cell_type": "code",
   "execution_count": null,
   "metadata": {
    "collapsed": true
   },
   "outputs": [],
   "source": [
    "lbl1 = merge.getLabeledAtom(\"*1\").sortingLabel\n",
    "lbl2 = merge.getLabeledAtom(\"*2\").sortingLabel\n",
    "lbl3 = merge.getLabeledAtom(\"*3\").sortingLabel"
   ]
  },
  {
   "cell_type": "code",
   "execution_count": null,
   "metadata": {
    "collapsed": false
   },
   "outputs": [],
   "source": [
    "bm"
   ]
  },
  {
   "cell_type": "code",
   "execution_count": null,
   "metadata": {
    "collapsed": false
   },
   "outputs": [],
   "source": [
    "blem = Molecule.merge(reaction.reactants[0], reaction.reactants[1])\n",
    "mol = blem.toRDKitMol(removeHs=False)\n",
    "mol"
   ]
  },
  {
   "cell_type": "code",
   "execution_count": null,
   "metadata": {
    "collapsed": false
   },
   "outputs": [],
   "source": [
    "if reaction.family.lower() in ['h_abstraction', 'r_addition_multiplebond', 'intra_h_migration']:\n",
    "    lbl1 = blem.getLabeledAtom('*1').sortingLabel\n",
    "    lbl2 = blem.getLabeledAtom('*2').sortingLabel\n",
    "    lbl3 = blem.getLabeledAtom('*3').sortingLabel\n",
    "elif reaction.family.lower() in ['disproportionation']:\n",
    "    lbl1 = blem.getLabeledAtom('*2').sortingLabel\n",
    "    lbl2 = blem.getLabeledAtom('*4').sortingLabel\n",
    "    lbl3 = blem.getLabeledAtom('*1').sortingLabel\n",
    "\n",
    "labels = [lbl1, lbl2, lbl3]\n",
    "atomMatch = ((lbl1,),(lbl2,),(lbl3,))\n",
    "\n",
    "labels, atomMatch"
   ]
  },
  {
   "cell_type": "code",
   "execution_count": null,
   "metadata": {
    "collapsed": false
   },
   "outputs": [],
   "source": [
    "len(blem.atoms)"
   ]
  },
  {
   "cell_type": "code",
   "execution_count": null,
   "metadata": {
    "collapsed": true
   },
   "outputs": [],
   "source": [
    "def setLimits(bm, lbl1, lbl2, value, uncertainty):\n",
    "    if lbl1 > lbl2:\n",
    "        bm[lbl2][lbl1] = value + uncertainty/2\n",
    "        bm[lbl1][lbl2] = max(0,value - uncertainty/2)\n",
    "    else:\n",
    "        bm[lbl2][lbl1] = max(0,value - uncertainty/2)\n",
    "        bm[lbl1][lbl2] = value + uncertainty/2\n",
    "\n",
    "    return bm"
   ]
  },
  {
   "cell_type": "code",
   "execution_count": null,
   "metadata": {
    "collapsed": false
   },
   "outputs": [],
   "source": [
    "bm = rdkit.Chem.rdDistGeom.GetMoleculeBoundsMatrix(mol)\n",
    "bm"
   ]
  },
  {
   "cell_type": "code",
   "execution_count": null,
   "metadata": {
    "collapsed": false
   },
   "outputs": [],
   "source": [
    "bm.shape"
   ]
  },
  {
   "cell_type": "code",
   "execution_count": null,
   "metadata": {
    "collapsed": false
   },
   "outputs": [],
   "source": [
    "lbl1, lbl2, lbl3 = labels\n",
    "\n",
    "uncertainties = {'d12':0.02, 'd13':0.02, 'd23':0.02 } # distanceData.uncertainties or {'d12':0.1, 'd13':0.1, 'd23':0.1 } # default if uncertainty is None\n",
    "bm = setLimits(bm, lbl1, lbl2, data.distances['d12'], uncertainties['d12'])\n",
    "bm = setLimits(bm, lbl2, lbl3, data.distances['d23'], uncertainties['d23'])\n",
    "bm = setLimits(bm, lbl1, lbl3, data.distances['d13'], uncertainties['d13'])\n",
    "bm"
   ]
  },
  {
   "cell_type": "code",
   "execution_count": null,
   "metadata": {
    "collapsed": true
   },
   "outputs": [],
   "source": [
    "def optimize( rdmol, boundsMatrix=None, atomMatch=None):\n",
    "    \"\"\"\n",
    "\n",
    "    Optimizes the rdmol object using UFF.\n",
    "    Determines the energy level for each of the conformers identified in rdmol.GetConformer.\n",
    "\n",
    "\n",
    "    :param rdmol:\n",
    "    :param boundsMatrix:\n",
    "    :param atomMatch:\n",
    "    :return rdmol, minEid (index of the lowest energy conformer)\n",
    "    \"\"\"\n",
    "\n",
    "    energy=0.0\n",
    "    minEid=0;\n",
    "    lowestE=9.999999e99;#start with a very high number, which would never be reached\n",
    "    crude = Chem.Mol(rdmol.ToBinary())\n",
    "\n",
    "    for conf in rdmol.GetConformers():\n",
    "        if boundsMatrix is None:\n",
    "            AllChem.UFFOptimizeMolecule(rdmol,confId=conf.GetId())\n",
    "            energy=AllChem.UFFGetMoleculeForceField(rdmol,confId=conf.GetId()).CalcEnergy()\n",
    "        else:\n",
    "            eBefore, energy = Pharm3D.EmbedLib.OptimizeMol(rdmol, boundsMatrix, atomMatches=atomMatch, forceConstant=100000.0)\n",
    "\n",
    "        if energy < lowestE:\n",
    "            minEid = conf.GetId()\n",
    "            lowestE = energy\n",
    "\n",
    "    return rdmol, minEid"
   ]
  },
  {
   "cell_type": "code",
   "execution_count": null,
   "metadata": {
    "collapsed": true
   },
   "outputs": [],
   "source": [
    "def rd_embed(rdmol, numConfAttempts, bm=None, match=None):\n",
    "    \"\"\"\n",
    "    Embed the RDKit molecule and create the crude molecule file.\n",
    "    \"\"\"\n",
    "    if bm is None: #bm = bounds matrix?\n",
    "        AllChem.EmbedMultipleConfs(rdmol, numConfAttempts ,randomSeed=1)\n",
    "        crude = Chem.Mol(rdmol.ToBinary())\n",
    "        rdmol, minEid = optimize(rdmol)\n",
    "    else:\n",
    "        \"\"\"\n",
    "        Embed the molecule according to the bounds matrix. Built to handle possible failures\n",
    "        of some of the embedding attempts.\n",
    "        \"\"\"\n",
    "        rdmol.RemoveAllConformers()\n",
    "        for i in range(0,numConfAttempts):\n",
    "            try:\n",
    "                Pharm3D.EmbedLib.EmbedMol(rdmol, bm, atomMatch=match)\n",
    "                break\n",
    "            except ValueError:\n",
    "                logging.info(\"RDKit failed to embed on attempt {0} of {1}\".format(i + 1, numConfAttempts))\n",
    "                # What to do next (what if they all fail?) !!!!!\n",
    "            except RuntimeError:\n",
    "                raise RDKitFailedError()\n",
    "        else:\n",
    "            logging.error(\"RDKit failed all attempts to embed\")\n",
    "            return None, None\n",
    "\n",
    "        \"\"\"\n",
    "        RDKit currently embeds the conformers and sets the id as 0, so even though multiple\n",
    "        conformers have been generated, only 1 can be called. Below the id's are resolved.\n",
    "        \"\"\"\n",
    "        for i in range(len(rdmol.GetConformers())):\n",
    "            rdmol.GetConformers()[i].SetId(i)\n",
    "\n",
    "        crude = Chem.Mol(rdmol.ToBinary())\n",
    "        rdmol, minEid = optimize(rdmol, boundsMatrix=bm, atomMatch=match)\n",
    "\n",
    "    return rdmol, minEid"
   ]
  },
  {
   "cell_type": "code",
   "execution_count": null,
   "metadata": {
    "collapsed": false
   },
   "outputs": [],
   "source": [
    "from rdkit.Chem import AllChem, Pharm3D\n",
    "new_mol, min_e = rd_embed(mol, 1000, bm, atomMatch)\n",
    "new_mol"
   ]
  },
  {
   "cell_type": "code",
   "execution_count": null,
   "metadata": {
    "collapsed": false
   },
   "outputs": [],
   "source": [
    "\n",
    "\n",
    "mol_list = AllChem.MolToMolBlock(new_mol).split('\\n')\n",
    "ase_atoms = []\n",
    "for i, line in enumerate(mol_list):\n",
    "\n",
    "    if i > 3:\n",
    "\n",
    "        try:\n",
    "            atom0, atom1, bond, rest = line\n",
    "            atom0 = int(atom0)\n",
    "            atom0 = int(atom1)\n",
    "            bond = float(bond)\n",
    "\n",
    "        except ValueError:\n",
    "            try:\n",
    "                x, y, z, symbol = line.split()[0:4]\n",
    "                x = float(x)\n",
    "                y = float(y)\n",
    "                z = float(z)\n",
    "                # print symbol\n",
    "\n",
    "                ase_atoms.append(Atom(symbol=symbol, position=(x, y, z)))\n",
    "\n",
    "            except:\n",
    "                continue\n",
    "\n",
    "view_mol = Atoms(ase_atoms)\n",
    "view_mol"
   ]
  },
  {
   "cell_type": "code",
   "execution_count": null,
   "metadata": {
    "collapsed": false
   },
   "outputs": [],
   "source": [
    "from ase.visualize import view\n",
    "view(view_mol, viewer='x3d')"
   ]
  },
  {
   "cell_type": "code",
   "execution_count": null,
   "metadata": {
    "collapsed": true
   },
   "outputs": [],
   "source": []
  },
  {
   "cell_type": "code",
   "execution_count": null,
   "metadata": {
    "collapsed": false,
    "scrolled": true
   },
   "outputs": [],
   "source": [
    "ts = TransitionStates()\n",
    "\"\"\"ts.groups = groups\n",
    "ts.depository = training\"\"\"\n",
    "ts.family = rmg_database.kinetics.families.values()[0]\n",
    "\n",
    "ts.load(path, local_context, global_context)"
   ]
  },
  {
   "cell_type": "code",
   "execution_count": null,
   "metadata": {
    "collapsed": false
   },
   "outputs": [],
   "source": [
    "e = ts.groups.descendTree(r1.reactants[0], r1.reactants[0].getLabeledAtoms())\n",
    "a = e.data\n",
    "a.distances"
   ]
  },
  {
   "cell_type": "code",
   "execution_count": null,
   "metadata": {
    "collapsed": true
   },
   "outputs": [],
   "source": [
    "from rmgpy.species import Species, TransitionState"
   ]
  },
  {
   "cell_type": "code",
   "execution_count": null,
   "metadata": {
    "collapsed": true
   },
   "outputs": [],
   "source": [
    "from rmgpy.statmech import Conformer, IdealGasTranslation, NonlinearRotor, HarmonicOscillator, LinearRotor"
   ]
  },
  {
   "cell_type": "code",
   "execution_count": null,
   "metadata": {
    "collapsed": true,
    "scrolled": true
   },
   "outputs": [],
   "source": [
    "\n",
    "from rmgpy.data.base import *"
   ]
  },
  {
   "cell_type": "code",
   "execution_count": null,
   "metadata": {
    "collapsed": true
   },
   "outputs": [],
   "source": [
    "import os\n",
    "import re\n",
    "import logging\n",
    "import external.cclib as cclib\n",
    "import time\n",
    "from subprocess import Popen\n",
    "from copy import deepcopy\n",
    "import numpy\n",
    "import shutil\n",
    "import math\n",
    "import sqlite3 as lite\n",
    "\n",
    "import rmgpy\n",
    "from rmgpy.data.kinetics.transitionstates import TransitionStates\n",
    "from rmgpy.molecule import Molecule, Atom, getElement\n",
    "from rmgpy.species import Species, TransitionState\n",
    "from rmgpy.reaction import Reaction\n",
    "from rmgpy.kinetics import Arrhenius, Eckart\n",
    "from rmgpy.statmech import Conformer, IdealGasTranslation, NonlinearRotor, HarmonicOscillator, LinearRotor\n",
    "\n",
    "from qm.transitionstates import DistanceData, TransitionStateDepository, TSGroups, TransitionStates\n",
    "from rmgpy.cantherm.main import CanTherm\n",
    "from rmgpy.cantherm.kinetics import KineticsJob\n"
   ]
  },
  {
   "cell_type": "code",
   "execution_count": null,
   "metadata": {
    "collapsed": false
   },
   "outputs": [],
   "source": [
    "family = \"H_Abstraction\"\n",
    "\n",
    "global_context = { '__builtins__': None }\n",
    "local_context={'DistanceData': DistanceData}\n",
    "path = \"database/\" + family\n",
    "\n",
    "fpath = os.path.join(path,'TS_training', 'reactions.py')\n",
    "\n",
    "training = TransitionStateDepository(label='H_Abstraction/TS_training')\n",
    "training.load(fpath, local_context, global_context )\n",
    "\n",
    "groups = TSGroups()\n",
    "groups.load(os.path.join(path, \"TS_groups.py\"), local_context, global_context)\n",
    "groups.label = family\n",
    "groups.entries"
   ]
  },
  {
   "cell_type": "code",
   "execution_count": null,
   "metadata": {
    "collapsed": false
   },
   "outputs": [],
   "source": [
    "from rmgpy.data.rmg import RMGDatabase\n",
    "rxnFamilies = [\"H_Abstraction\"]\n",
    "rmgDatabase = RMGDatabase()\n",
    "databasePath = os.path.abspath(os.path.join(os.getenv('RMGpy', '..'), '..', 'RMG-database', 'input'))\n",
    "logging.info(databasePath)\n",
    "rmgDatabase.load(databasePath,\n",
    "                 kineticsFamilies=rxnFamilies,\n",
    "                 transportLibraries=[],\n",
    "                 reactionLibraries=[],\n",
    "                 seedMechanisms=[],\n",
    "                 thermoLibraries=['primaryThermoLibrary', 'KlippensteinH2O2', 'thermo_DFT_CCSDTF12_BAC', 'CBS_QB3_1dHR' ],\n",
    "                 solvation=False,\n",
    "                 )"
   ]
  },
  {
   "cell_type": "code",
   "execution_count": null,
   "metadata": {
    "collapsed": false
   },
   "outputs": [],
   "source": [
    "import cPickle as pkl\n",
    "f = open(\"./autotst/ts_database.pkl\", \"r\")\n",
    "ts_database = pkl.load(f)\n",
    "ts_database"
   ]
  },
  {
   "cell_type": "code",
   "execution_count": null,
   "metadata": {
    "collapsed": true
   },
   "outputs": [],
   "source": [
    "from rmgpy.data.kinetics.family import *\n",
    "from rmgpy.kinetics import *\n",
    "from rmgpy.kinetics.arrhenius import ArrheniusEP\n"
   ]
  },
  {
   "cell_type": "code",
   "execution_count": null,
   "metadata": {
    "collapsed": true
   },
   "outputs": [],
   "source": [
    "local_context[\"ArrheniusEP\"] = ArrheniusEP\n",
    "local_context[\"Arrhenius\"] = Arrhenius"
   ]
  },
  {
   "cell_type": "code",
   "execution_count": null,
   "metadata": {
    "collapsed": true
   },
   "outputs": [],
   "source": [
    "k = KineticsFamily()\n",
    "k.load(\"/Users/nathan/Code/RMG-database/input/kinetics/families/H_Abstraction/\", local_context, global_context)"
   ]
  },
  {
   "cell_type": "code",
   "execution_count": null,
   "metadata": {
    "collapsed": false
   },
   "outputs": [],
   "source": [
    "k.generateReactions(r.reactants)\n",
    "#ts.estimateDistances()"
   ]
  },
  {
   "cell_type": "code",
   "execution_count": null,
   "metadata": {
    "collapsed": false
   },
   "outputs": [],
   "source": [
    "e1 = ts.groups.top[0]\n",
    "e1.children"
   ]
  },
  {
   "cell_type": "code",
   "execution_count": null,
   "metadata": {
    "collapsed": false
   },
   "outputs": [],
   "source": [
    "rmgDatabase.kinetics.families.values()[0]"
   ]
  },
  {
   "cell_type": "code",
   "execution_count": null,
   "metadata": {
    "collapsed": false,
    "scrolled": true
   },
   "outputs": [],
   "source": [
    "c = ts.groups.top[0].item\n",
    "atomList = c.getPossibleStructures(ts.groups.entries)[0].getLabeledAtoms()\n",
    "for reactant in b.reactants:\n",
    "    if isinstance(reactant, Species):\n",
    "        reactant = reactant.molecule[0]\n",
    "    # Match labeled atoms\n",
    "    # Check this reactant has each of the atom labels in this group\n",
    "    if not all([reactant.containsLabeledAtom(label) for label in atomList]):\n",
    "        continue # don't try to match this structure - the atoms aren't there!\n",
    "    # Match structures\n",
    "    atoms = reactant.getLabeledAtoms()\n",
    "    \n",
    "atoms"
   ]
  },
  {
   "cell_type": "code",
   "execution_count": null,
   "metadata": {
    "collapsed": true
   },
   "outputs": [],
   "source": [
    "global_context = { '__builtins__': None }\n",
    "local_context={'DistanceData': DistanceData}\n",
    "path = \"../RMG-database/input/kinetics/families/H_Abstraction/\"\n",
    "fpath = os.path.join(path,'TS_training', 'reactions.py')\n",
    "depository = TransitionStateDepository(label='H_Abstraction/TS_training')\n",
    "depository.load(fpath, local_context, global_context )"
   ]
  },
  {
   "cell_type": "code",
   "execution_count": null,
   "metadata": {
    "collapsed": true
   },
   "outputs": [],
   "source": [
    "e = depository.entries['1:H + C3H4 <=> H2 + C3H3']\n",
    "from rmgpy.data.kinetics.family import KineticsFamily"
   ]
  },
  {
   "cell_type": "code",
   "execution_count": null,
   "metadata": {
    "collapsed": false
   },
   "outputs": [],
   "source": [
    "TransitionStates().load(\"../RMG-database/input/kinetics/families/H_Abstraction/\", \n",
    "                        global_context = { '__builtins__': None },\n",
    "                        local_context={'DistanceData': DistanceData}\n",
    "                       )"
   ]
  },
  {
   "cell_type": "code",
   "execution_count": null,
   "metadata": {
    "collapsed": false
   },
   "outputs": [],
   "source": [
    "k = KineticsFamily()\n",
    "k.load(\"/Users/nathan/Code/RMG-database/input/kinetics/families/H_Abstraction/\")"
   ]
  },
  {
   "cell_type": "code",
   "execution_count": null,
   "metadata": {
    "collapsed": true
   },
   "outputs": [],
   "source": [
    "def loadTSDataFile(filePath):\n",
    "    \"\"\"\n",
    "    Load the specified transition state data file and return the dictionary of its contents.\n",
    "\n",
    "    Returns `None` if the file is invalid or missing.\n",
    "\n",
    "    Checks that the returned dictionary contains at least rxnLabel, method, qmData.\n",
    "    \"\"\"\n",
    "\n",
    "    if not os.path.exists(filePath):\n",
    "        return None\n",
    "    try:\n",
    "        with open(filePath) as resultFile:\n",
    "            logging.info('Reading existing ts file {0}'.format(filePath))\n",
    "            global_context = { '__builtins__': None }\n",
    "            local_context = {\n",
    "                '__builtins__': None,\n",
    "                'True': True,\n",
    "                'False': False,\n",
    "                #'QMData': qmdata.QMData,\n",
    "                'array': numpy.array,\n",
    "                'int32': numpy.int32,\n",
    "                'entry': rmgpy.data.base.Entry,\n",
    "                'DistanceData': DistanceData\n",
    "                #'distances': dict\n",
    "            }\n",
    "            exec resultFile in global_context, local_context\n",
    "    except IOError, e:\n",
    "        logging.info(\"Couldn't read ts file {0}\".format(filePath))\n",
    "        return None\n",
    "    except (NameError, TypeError, SyntaxError), e:\n",
    "        logging.error('The ts file \"{0}\" was invalid:'.format(filePath))\n",
    "        logging.exception(e)\n",
    "        return None\n",
    "    \"\"\"if not 'rxnLabel' in local_context:\n",
    "        logging.error('The ts file \"{0}\" did not contain a rxnLabel.'.format(filePath))\n",
    "        return None\n",
    "    if not 'method' in local_context:\n",
    "        logging.error('The ts file \"{0}\" did not contain a method.'.format(filePath))\n",
    "        return None\n",
    "    if not 'qmData' in local_context:\n",
    "        logging.error('The ts file \"{0}\" did not contain thermoData.'.format(filePath))\n",
    "        return None\"\"\"\n",
    "    return local_context"
   ]
  },
  {
   "cell_type": "code",
   "execution_count": null,
   "metadata": {
    "collapsed": false
   },
   "outputs": [],
   "source": [
    "loadTSDataFile(\"../RMG-database/input/kinetics/families/H_Abstraction/TS_groups.py\")"
   ]
  },
  {
   "cell_type": "code",
   "execution_count": null,
   "metadata": {
    "collapsed": true
   },
   "outputs": [],
   "source": [
    "db = Database()"
   ]
  },
  {
   "cell_type": "code",
   "execution_count": null,
   "metadata": {
    "collapsed": false
   },
   "outputs": [],
   "source": [
    "from qm.transitionstates import DistanceData\n",
    "f = open(\"../RMG-database/input/kinetics/families/H_Abstraction/TS_groups.py\", \"r\").read()\n",
    "local_context = {\n",
    "            'entry': rmgpy.data.base.Entry,\n",
    "            #'distances': DistanceData\n",
    "        }\n",
    "\n",
    "exec f in local_context"
   ]
  },
  {
   "cell_type": "code",
   "execution_count": null,
   "metadata": {
    "collapsed": false
   },
   "outputs": [],
   "source": [
    "\n",
    "db.load(\"../RMG-database/input/kinetics/families/H_Abstraction/TS_groups.py\",\n",
    "        global_context = { '__builtins__': None },\n",
    "        local_context = {\n",
    "            'entry': rmgpy.data.base.Entry,\n",
    "            'distances': DistanceData\n",
    "        }\n",
    "       )"
   ]
  },
  {
   "cell_type": "code",
   "execution_count": null,
   "metadata": {
    "collapsed": true
   },
   "outputs": [],
   "source": []
  },
  {
   "cell_type": "code",
   "execution_count": null,
   "metadata": {
    "collapsed": true
   },
   "outputs": [],
   "source": [
    "rmgpy.qm.molecule.Geometry?"
   ]
  },
  {
   "cell_type": "code",
   "execution_count": null,
   "metadata": {
    "collapsed": true
   },
   "outputs": [],
   "source": []
  }
 ],
 "metadata": {
  "kernelspec": {
   "display_name": "Python 2",
   "language": "python",
   "name": "python2"
  },
  "language_info": {
   "codemirror_mode": {
    "name": "ipython",
    "version": 2
   },
   "file_extension": ".py",
   "mimetype": "text/x-python",
   "name": "python",
   "nbconvert_exporter": "python",
   "pygments_lexer": "ipython2",
   "version": "2.7.12"
  }
 },
 "nbformat": 4,
 "nbformat_minor": 2
}
